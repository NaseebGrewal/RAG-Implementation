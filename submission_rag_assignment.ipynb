{
 "cells": [
  {
   "cell_type": "markdown",
   "metadata": {},
   "source": [
    "## Retrieval-Augmented Generation (RAG) Notebook Overview\n",
    "\n",
    "This notebook demonstrates the complete workflow of a simple RAG system designed to identify potentially suspicious organizations from a fictional dataset. The main steps include:\n",
    "\n",
    "1. **Dependency Installation:**  \n",
    "   Ensuring that all necessary Python packages are installed for the notebook to run smoothly.\n",
    "\n",
    "2. **Data Indexing:**  \n",
    "   Loading and preparing a dataset of organization descriptions.\n",
    "\n",
    "3. **Embedding Generation:**  \n",
    "   Using a pre-trained SentenceTransformer model to convert text descriptions into numerical embeddings.\n",
    "\n",
    "4. **Similarity Search:**  \n",
    "   Leveraging FAISS to perform efficient vector similarity searches between a user query and document embeddings.\n",
    "\n",
    "5. **Prompt Construction:**  \n",
    "   Building a query prompt by integrating the top-k retrieved document details.\n",
    "\n",
    "6. **Response Generation:**  \n",
    "   Using the Hugging Face Mistral API to generate human-like answers based on the constructed prompt.\n",
    "\n",
    "\n",
    "\n",
    "Follow the cells sequentially to install dependencies, index the data, generate embeddings, perform the similarity search, and finally produce a detailed, human-like response."
   ]
  },
  {
   "cell_type": "code",
   "execution_count": 1,
   "metadata": {},
   "outputs": [
    {
     "name": "stdout",
     "output_type": "stream",
     "text": [
      "Requirement already satisfied: sentence_transformers in ./.venv/lib/python3.13/site-packages (from -r requirements.txt (line 1)) (4.0.2)\n",
      "Requirement already satisfied: faiss-cpu in ./.venv/lib/python3.13/site-packages (from -r requirements.txt (line 2)) (1.10.0)\n",
      "Requirement already satisfied: numpy in ./.venv/lib/python3.13/site-packages (from -r requirements.txt (line 3)) (2.2.4)\n",
      "Requirement already satisfied: python-dotenv in ./.venv/lib/python3.13/site-packages (from -r requirements.txt (line 4)) (1.1.0)\n",
      "Requirement already satisfied: transformers<5.0.0,>=4.41.0 in ./.venv/lib/python3.13/site-packages (from sentence_transformers->-r requirements.txt (line 1)) (4.51.1)\n",
      "Requirement already satisfied: tqdm in ./.venv/lib/python3.13/site-packages (from sentence_transformers->-r requirements.txt (line 1)) (4.67.1)\n",
      "Requirement already satisfied: torch>=1.11.0 in ./.venv/lib/python3.13/site-packages (from sentence_transformers->-r requirements.txt (line 1)) (2.6.0)\n",
      "Requirement already satisfied: scikit-learn in ./.venv/lib/python3.13/site-packages (from sentence_transformers->-r requirements.txt (line 1)) (1.6.1)\n",
      "Requirement already satisfied: scipy in ./.venv/lib/python3.13/site-packages (from sentence_transformers->-r requirements.txt (line 1)) (1.15.2)\n",
      "Requirement already satisfied: huggingface-hub>=0.20.0 in ./.venv/lib/python3.13/site-packages (from sentence_transformers->-r requirements.txt (line 1)) (0.30.2)\n",
      "Requirement already satisfied: Pillow in ./.venv/lib/python3.13/site-packages (from sentence_transformers->-r requirements.txt (line 1)) (11.1.0)\n",
      "Requirement already satisfied: typing_extensions>=4.5.0 in ./.venv/lib/python3.13/site-packages (from sentence_transformers->-r requirements.txt (line 1)) (4.13.1)\n",
      "Requirement already satisfied: packaging in ./.venv/lib/python3.13/site-packages (from faiss-cpu->-r requirements.txt (line 2)) (24.2)\n",
      "Requirement already satisfied: filelock in ./.venv/lib/python3.13/site-packages (from huggingface-hub>=0.20.0->sentence_transformers->-r requirements.txt (line 1)) (3.18.0)\n",
      "Requirement already satisfied: fsspec>=2023.5.0 in ./.venv/lib/python3.13/site-packages (from huggingface-hub>=0.20.0->sentence_transformers->-r requirements.txt (line 1)) (2025.3.2)\n",
      "Requirement already satisfied: pyyaml>=5.1 in ./.venv/lib/python3.13/site-packages (from huggingface-hub>=0.20.0->sentence_transformers->-r requirements.txt (line 1)) (6.0.2)\n",
      "Requirement already satisfied: requests in ./.venv/lib/python3.13/site-packages (from huggingface-hub>=0.20.0->sentence_transformers->-r requirements.txt (line 1)) (2.32.3)\n",
      "Requirement already satisfied: networkx in ./.venv/lib/python3.13/site-packages (from torch>=1.11.0->sentence_transformers->-r requirements.txt (line 1)) (3.4.2)\n",
      "Requirement already satisfied: jinja2 in ./.venv/lib/python3.13/site-packages (from torch>=1.11.0->sentence_transformers->-r requirements.txt (line 1)) (3.1.6)\n",
      "Requirement already satisfied: setuptools in ./.venv/lib/python3.13/site-packages (from torch>=1.11.0->sentence_transformers->-r requirements.txt (line 1)) (78.1.0)\n",
      "Requirement already satisfied: sympy==1.13.1 in ./.venv/lib/python3.13/site-packages (from torch>=1.11.0->sentence_transformers->-r requirements.txt (line 1)) (1.13.1)\n",
      "Requirement already satisfied: mpmath<1.4,>=1.1.0 in ./.venv/lib/python3.13/site-packages (from sympy==1.13.1->torch>=1.11.0->sentence_transformers->-r requirements.txt (line 1)) (1.3.0)\n",
      "Requirement already satisfied: regex!=2019.12.17 in ./.venv/lib/python3.13/site-packages (from transformers<5.0.0,>=4.41.0->sentence_transformers->-r requirements.txt (line 1)) (2024.11.6)\n",
      "Requirement already satisfied: tokenizers<0.22,>=0.21 in ./.venv/lib/python3.13/site-packages (from transformers<5.0.0,>=4.41.0->sentence_transformers->-r requirements.txt (line 1)) (0.21.1)\n",
      "Requirement already satisfied: safetensors>=0.4.3 in ./.venv/lib/python3.13/site-packages (from transformers<5.0.0,>=4.41.0->sentence_transformers->-r requirements.txt (line 1)) (0.5.3)\n",
      "Requirement already satisfied: joblib>=1.2.0 in ./.venv/lib/python3.13/site-packages (from scikit-learn->sentence_transformers->-r requirements.txt (line 1)) (1.4.2)\n",
      "Requirement already satisfied: threadpoolctl>=3.1.0 in ./.venv/lib/python3.13/site-packages (from scikit-learn->sentence_transformers->-r requirements.txt (line 1)) (3.6.0)\n",
      "Requirement already satisfied: MarkupSafe>=2.0 in ./.venv/lib/python3.13/site-packages (from jinja2->torch>=1.11.0->sentence_transformers->-r requirements.txt (line 1)) (3.0.2)\n",
      "Requirement already satisfied: charset-normalizer<4,>=2 in ./.venv/lib/python3.13/site-packages (from requests->huggingface-hub>=0.20.0->sentence_transformers->-r requirements.txt (line 1)) (3.4.1)\n",
      "Requirement already satisfied: idna<4,>=2.5 in ./.venv/lib/python3.13/site-packages (from requests->huggingface-hub>=0.20.0->sentence_transformers->-r requirements.txt (line 1)) (3.10)\n",
      "Requirement already satisfied: urllib3<3,>=1.21.1 in ./.venv/lib/python3.13/site-packages (from requests->huggingface-hub>=0.20.0->sentence_transformers->-r requirements.txt (line 1)) (2.3.0)\n",
      "Requirement already satisfied: certifi>=2017.4.17 in ./.venv/lib/python3.13/site-packages (from requests->huggingface-hub>=0.20.0->sentence_transformers->-r requirements.txt (line 1)) (2025.1.31)\n",
      "\n",
      "\u001b[1m[\u001b[0m\u001b[34;49mnotice\u001b[0m\u001b[1;39;49m]\u001b[0m\u001b[39;49m A new release of pip is available: \u001b[0m\u001b[31;49m24.2\u001b[0m\u001b[39;49m -> \u001b[0m\u001b[32;49m25.0.1\u001b[0m\n",
      "\u001b[1m[\u001b[0m\u001b[34;49mnotice\u001b[0m\u001b[1;39;49m]\u001b[0m\u001b[39;49m To update, run: \u001b[0m\u001b[32;49mpip install --upgrade pip\u001b[0m\n",
      "Note: you may need to restart the kernel to use updated packages.\n"
     ]
    }
   ],
   "source": [
    "%pip install -r requirements.txt"
   ]
  },
  {
   "cell_type": "markdown",
   "metadata": {},
   "source": [
    "## FAISS Index Creation and Data Embedding Details\n",
    "\n",
    "This cell contains key functions that enable the Retrieval-Augmented Generation (RAG) system to process and index the dataset. The main steps are:\n",
    "\n",
    "1. **Data Loading & Preprocessing:**\n",
    "   - **Function:** `load_and_preprocess_data`\n",
    "   - **Purpose:**  \n",
    "     Reads the raw dataset file from the specified `FILE_PATH` and parses it using a regular expression.  \n",
    "     It extracts each document's ID, title, and description, returning a list of dictionaries.\n",
    "\n",
    "2. **Embedding Generation:**\n",
    "   - **Function:** `embed_texts`\n",
    "   - **Purpose:**  \n",
    "     Uses a pre-trained SentenceTransformer model (default: `\"BAAI/bge-small-en-v1.5\"`) to generate vector embeddings for each document.  \n",
    "     The embeddings are computed from a concatenation of the document title and text, then returned as a NumPy array.\n",
    "\n",
    "3. **FAISS Index Construction:**\n",
    "   - **Function:** `create_faiss_index`\n",
    "   - **Purpose:**  \n",
    "     Combines the data loading and embedding functions to build a FAISS index with L2 distance (using `faiss.IndexFlatL2`).  \n",
    "     It indexes the embeddings and also creates a mapping between index positions and the original document dictionaries for later retrieval.\n",
    "\n",
    "> **Note:**  \n",
    "> Ensure the `.env` file is configured with the correct `FILE_PATH` to your dataset before running this cell."
   ]
  },
  {
   "cell_type": "code",
   "execution_count": 2,
   "metadata": {},
   "outputs": [
    {
     "name": "stderr",
     "output_type": "stream",
     "text": [
      "/Users/theowner/Documents/GitHub/Hawk-Submission/.venv/lib/python3.13/site-packages/tqdm/auto.py:21: TqdmWarning: IProgress not found. Please update jupyter and ipywidgets. See https://ipywidgets.readthedocs.io/en/stable/user_install.html\n",
      "  from .autonotebook import tqdm as notebook_tqdm\n"
     ]
    }
   ],
   "source": [
    "import os\n",
    "import re\n",
    "from typing import Any, Dict, List, Tuple\n",
    "\n",
    "import numpy as np\n",
    "import faiss\n",
    "\n",
    "from dotenv import load_dotenv\n",
    "from sentence_transformers import SentenceTransformer\n",
    "\n",
    "# Load environment variables\n",
    "load_dotenv(dotenv_path=\"../.env\")\n",
    "\n",
    "# Constants\n",
    "FILE_PATH = os.getenv(\"FILE_PATH\")\n",
    "\n",
    "\n",
    "def load_and_preprocess_data(file_path: str) -> List[Dict[str, Any]]:\n",
    "    \"\"\"\n",
    "    Load and preprocess the dataset from the given file path.\n",
    "    \n",
    "    Args:\n",
    "        file_path (str): Path to the text file containing documents.\n",
    "\n",
    "    Returns:\n",
    "        List[Dict[str, Any]]: A list of dictionaries containing parsed document information.\n",
    "    \"\"\"\n",
    "    with open(file_path, \"r\", encoding=\"utf-8\") as file:\n",
    "        raw_text = file.read()\n",
    "\n",
    "    pattern = r\"Document (\\d+): (.*?)\\nDescription:\\n(.*?)(?=\\nDocument \\d+:|\\Z)\"\n",
    "    matches = re.findall(pattern, raw_text, re.DOTALL)\n",
    "\n",
    "    documents = [\n",
    "        {\n",
    "            \"doc_id\": int(doc_id),\n",
    "            \"title\": title.strip(),\n",
    "            \"text\": description.strip(),\n",
    "        }\n",
    "        for doc_id, title, description in matches\n",
    "    ]\n",
    "    return documents\n",
    "\n",
    "\n",
    "def embed_texts(\n",
    "    documents: List[Dict[str, Any]], model_name: str = \"BAAI/bge-small-en-v1.5\"\n",
    ") -> np.ndarray:\n",
    "    \"\"\"\n",
    "    Embed the texts using a SentenceTransformer model.\n",
    "\n",
    "    Args:\n",
    "        documents (List[Dict[str, Any]]): List of documents with 'title' and 'text'.\n",
    "        model_name (str): Name of the SentenceTransformer model to use.\n",
    "\n",
    "    Returns:\n",
    "        np.ndarray: Embeddings for the input documents.\n",
    "    \"\"\"\n",
    "    model = SentenceTransformer(model_name)\n",
    "    corpus = [f\"{doc['title']}: {doc['text']}\" for doc in documents]\n",
    "    embeddings = model.encode(corpus, show_progress_bar=True)\n",
    "    return np.array(embeddings, dtype=np.float32)\n",
    "\n",
    "\n",
    "def create_faiss_index() -> Tuple[faiss.Index, Dict[int, Dict[str, Any]]]:\n",
    "    \"\"\"\n",
    "    Create a FAISS index from the embedded document vectors.\n",
    "\n",
    "    Returns:\n",
    "        Tuple[faiss.Index, Dict[int, Dict[str, Any]]]: \n",
    "            FAISS index and mapping from index ID to document.\n",
    "    \"\"\"\n",
    "    file_path = os.getenv(\"FILE_PATH\")\n",
    "    if not file_path:\n",
    "        raise ValueError(\"FILE_PATH environment variable is not set.\")\n",
    "\n",
    "    documents = load_and_preprocess_data(file_path)\n",
    "    embeddings = embed_texts(documents)\n",
    "\n",
    "    dimension = embeddings.shape[1]\n",
    "    index = faiss.IndexFlatL2(dimension)\n",
    "    index.add(embeddings)\n",
    "\n",
    "    id_to_doc = {i: doc for i, doc in enumerate(documents)}\n",
    "\n",
    "    print(f\"FAISS index created with {index.ntotal} documents.\")\n",
    "    return index, id_to_doc\n"
   ]
  },
  {
   "cell_type": "markdown",
   "metadata": {},
   "source": [
    "## Index Creation\n",
    "\n",
    "### FAISS Index Creation:\n",
    "     The cell initializes the FAISS index by calling the `create_faiss_index()` function.  \n",
    "     This function reads and preprocesses the dataset, generates embeddings using a SentenceTransformer model, and builds a FAISS index with L2 distance.  \n",
    "     It also returns a mapping (`id_to_docs`) from index positions to document details."
   ]
  },
  {
   "cell_type": "code",
   "execution_count": 3,
   "metadata": {},
   "outputs": [
    {
     "name": "stderr",
     "output_type": "stream",
     "text": [
      "Batches: 100%|██████████| 1/1 [00:00<00:00, 13.67it/s]"
     ]
    },
    {
     "name": "stdout",
     "output_type": "stream",
     "text": [
      "FAISS index created with 12 documents.\n"
     ]
    },
    {
     "name": "stderr",
     "output_type": "stream",
     "text": [
      "\n"
     ]
    }
   ],
   "source": [
    "# create index\n",
    "index, id_to_docs = create_faiss_index() "
   ]
  },
  {
   "cell_type": "markdown",
   "metadata": {},
   "source": [
    "## Search Query Function Details\n",
    "\n",
    "This cell defines the `search_query` function, which is responsible for retrieving the top matching document snippets based on a user query. The key steps include:\n",
    "\n",
    "1. **Query Encoding:**\n",
    "   - Uses the same pre-trained SentenceTransformer model (`BAAI/bge-small-en-v1.5`) to encode the input query into a vector representation.\n",
    "\n",
    "2. **Similarity Search:**\n",
    "   - Performs a FAISS search on the pre-built index using the query embedding.\n",
    "   - Retrieves the top `k` similar documents from the index based on Euclidean (L2) distance.\n",
    "\n",
    "3. **Results Display:**\n",
    "   - Iterates over the retrieved results and prints each document's rank, title, description, and distance.\n",
    "   - Aggregates the title and description into a context list for potential further use.\n",
    "\n",
    "> **Note:**  \n",
    "> This function is optimized for a conversational AI context, enabling users to ask questions and receive relevant document snippets as answers."
   ]
  },
  {
   "cell_type": "code",
   "execution_count": 4,
   "metadata": {},
   "outputs": [],
   "source": [
    "# Search Query Funcion for Index\n",
    "#  This function takes a query string, encodes it using the same model used for embedding the documents,\n",
    "#  and performs a similarity search in the FAISS index to retrieve the top k most similar documents.\n",
    "#  It returns the titles and descriptions of the top k documents along with their distances from the query.\n",
    "#  The function also prints the results in a readable format.\n",
    "#  The function is designed to be used in a conversational AI context, where the user can ask questions\n",
    "#  and receive relevant document snippets as answers.\n",
    "#  ========================================================================\n",
    "#  Search Query Function\n",
    "#  ========================================================================\n",
    "from typing import Any, Dict, List, Tuple\n",
    "import numpy as np\n",
    "from sentence_transformers import SentenceTransformer\n",
    "import faiss\n",
    "\n",
    "\n",
    "def search_query(\n",
    "    index: faiss.Index,\n",
    "    id_to_doc: Dict[int, Dict[str, Any]],\n",
    "    query: str,\n",
    "    model: SentenceTransformer = SentenceTransformer(\"BAAI/bge-small-en-v1.5\"),\n",
    "    top_k: int = 3,\n",
    ") -> List[str]:\n",
    "    \"\"\"\n",
    "    Encode the query, perform FAISS similarity search, and return top matching contexts.\n",
    "\n",
    "    Args:\n",
    "        index (faiss.Index): The FAISS index containing document embeddings.\n",
    "        id_to_doc (Dict[int, Dict[str, Any]]): Mapping from index position to document.\n",
    "        query (str): User query string.\n",
    "        model (SentenceTransformer): Preloaded SentenceTransformer model.\n",
    "        top_k (int): Number of top results to retrieve.\n",
    "\n",
    "    Returns:\n",
    "        List[str]: List of top document contexts as strings.\n",
    "    \"\"\"\n",
    "    # Encode the query\n",
    "    query_embedding = model.encode([query]).astype(\"float32\")\n",
    "\n",
    "    # Search the FAISS index\n",
    "    distances, indices = index.search(query_embedding, top_k)\n",
    "\n",
    "    # print(\"=======================================================================\")\n",
    "    # print(f\"Top {top_k} results retrieved for the Query: {query}\")\n",
    "    # print(\"=======================================================================\")\n",
    "\n",
    "    context_for_print = []\n",
    "    context: List[str] = []\n",
    "    for i, idx in enumerate(indices[0]):\n",
    "        title = id_to_doc[idx][\"title\"]\n",
    "        description = id_to_doc[idx][\"text\"]\n",
    "        distance = distances[0][i]\n",
    "        context_for_print.append((f\"Rank {i + 1}:\\n\", f\"Title: {title}\\n\", f\"Description: {description}\\n\", f\"Distance: {distance:.4f}\\n\\n\"))\n",
    "\n",
    "        # print(f\"Rank {i + 1}:\")\n",
    "        # print(f\"Title: {title}\")\n",
    "        # print(f\"Description: {description}\")\n",
    "        # print(f\"Distance: {distance:.4f}\\n\")\n",
    "\n",
    "        context.append(f\"Title: {title}\")\n",
    "        context.append(f\"Description: {description}\")\n",
    "    \n",
    "    # print(\"=======================================================================\")\n",
    "    return context, context_for_print\n"
   ]
  },
  {
   "cell_type": "markdown",
   "metadata": {},
   "source": [
    "## Prompt Generation Strategies\n",
    "\n",
    "This cell introduces multiple strategies for constructing prompts tailored to various language model inference tasks. The design is intended to offer flexibility and control over how context and queries are combined, which is especially valuable when fine-tuning interactions with large language models.\n",
    "\n",
    "### Key Components\n",
    "\n",
    "- **PromptStyle Enum:**  \n",
    "  An enumeration (`PromptStyle`) is defined to encapsulate different prompt formatting strategies, including:\n",
    "  - **STANDARD:** Basic prompt combining context and query.\n",
    "  - **FEW_SHOT:** Adds a few recent Q&A examples to guide the model.\n",
    "  - **CHAIN_OF_THOUGHT:** Encourages step-by-step reasoning.\n",
    "  - **ROLE_BASED:** Frames the query in the context of domain expertise (e.g., forensic investigator).\n",
    "  - **BULLET_POINTS:** Instructs the model to summarize findings in bullet points.\n",
    "  - **SCORING:** Requests the model to score each organization based on risk and provide explanations.\n",
    "  - **CHATML:** Utilizes a ChatML-style formatting for models that require it.\n",
    "\n",
    "- **generate_prompt Function:**  \n",
    "  This function constructs the final prompt by:\n",
    "  1. **Aggregating Context:**  \n",
    "     Joins multiple context documents with clear separation.\n",
    "  2. **Handling Optional History:**  \n",
    "     For few-shot prompting, it appends recent Q&A pairs to enrich the prompt.\n",
    "  3. **Conditionally Formatting the Prompt:**  \n",
    "     Checks the selected `prompt_style` and formats the prompt accordingly, ensuring:\n",
    "     - **Clarity & Structure:** Each version clearly lays out the context, query, and expected model behavior.\n",
    "     - **Adaptability:** Different styles serve different purposes depending on the inference task at hand.\n",
    "\n",
    "This modular approach allows data scientists to experiment with and select the most effective prompting style for their specific use case, helping optimize the quality and relevance of model responses."
   ]
  },
  {
   "cell_type": "code",
   "execution_count": 5,
   "metadata": {},
   "outputs": [],
   "source": [
    "from enum import Enum\n",
    "from typing import List, Tuple\n",
    "\n",
    "\n",
    "class PromptStyle(Enum):\n",
    "    STANDARD = \"standard\"\n",
    "    # FEW_SHOT = \"few_shot\"\n",
    "    CHAIN_OF_THOUGHT = \"chain_of_thought\"\n",
    "    ROLE_BASED = \"role_based\"\n",
    "    BULLET_POINTS = \"bullet_points\"\n",
    "    CHATML = \"chatml\"\n",
    "\n",
    "\n",
    "def generate_prompt(\n",
    "    query: str,\n",
    "    context_docs: List[str],\n",
    "    prompt_style: PromptStyle = PromptStyle.STANDARD,\n",
    "    # history: List[Tuple[str, str]] = None,\n",
    ") -> str:\n",
    "    \"\"\"\n",
    "    Generate a prompt for the LLM based on the selected prompt style.\n",
    "\n",
    "    Args:\n",
    "        query (str): User's current query.\n",
    "        context_docs (List[str]): Retrieved documents for context.\n",
    "        prompt_style (PromptStyle): The strategy for prompt formatting.\n",
    "        history (List[Tuple[str, str]]): Optional memory of previous Q&A for few-shot examples.\n",
    "\n",
    "    Returns:\n",
    "        str: The final prompt to be sent to the LLM.\n",
    "    \"\"\"\n",
    "    context = \"\\n\\n\".join(context_docs)\n",
    "\n",
    "    if prompt_style == PromptStyle.STANDARD:\n",
    "        return (\n",
    "            \"Your task is to analyse the question based on the context, and then provide an appropriate answer.\\n\\n\"\n",
    "            f\"Context:\\n{context}\\n\\n\"\n",
    "            f\"Question: {query}\\n\\n\"\n",
    "            f\"Answer:\"\n",
    "        )\n",
    "\n",
    "    # if prompt_style == PromptStyle.FEW_SHOT:\n",
    "    #     few_shot_examples = \"\"\n",
    "    #     if history:\n",
    "    #         for past_q, past_a in history[-2:]:  # last 2 examples\n",
    "    #             few_shot_examples += (\n",
    "    #                 f\"Context: [Previous Retrieval]\\n\"\n",
    "    #                 f\"Question: {past_q}\\n\"\n",
    "    #                 f\"Answer: {past_a}\\n\\n\"\n",
    "    #             )\n",
    "        # return (\n",
    "        #     f\"{few_shot_examples}\"\n",
    "        #     f\"Context:\\n{context}\\n\\n\"\n",
    "        #     f\"Question: {query}\\n\\n\"\n",
    "        #     f\"Answer:\"\n",
    "        # )\n",
    "\n",
    "    if prompt_style == PromptStyle.CHAIN_OF_THOUGHT:\n",
    "        return (\n",
    "            f\"Context:\\n{context}\\n\\n\"\n",
    "            f\"Question: {query}\\n\\n\"\n",
    "            f\"Let's think step by step:\"\n",
    "        )\n",
    "\n",
    "    if prompt_style == PromptStyle.ROLE_BASED:\n",
    "        return (\n",
    "            f\"You are a senior forensic investigator specializing in financial crime.\\n\\n\"\n",
    "            f\"Context:\\n{context}\\n\\n\"\n",
    "            f\"Analyze the above organizations for potential risk indicators.\\n\\n\"\n",
    "            f\"Question: {query}\\n\\n\"\n",
    "            f\"Answer:\"\n",
    "        )\n",
    "\n",
    "    if prompt_style == PromptStyle.BULLET_POINTS:\n",
    "        return (\n",
    "            f\"Context:\\n{context}\\n\\n\"\n",
    "            f\"Question: {query}\\n\\n\"\n",
    "            f\"List your findings in bullet points:\\n\"\n",
    "            f\"- \"\n",
    "        )\n",
    "\n",
    "    if prompt_style == PromptStyle.CHATML:\n",
    "        return (\n",
    "            f\"You are a compliance analyst. Based on the context, answer the query thoroughly.\\n\\n\"\n",
    "            f\"Context:\\n{context}\\n\\n\"\n",
    "            f\"Question: {query}\\n\\n\"\n",
    "            f\"Answer:\"\n",
    "        )\n",
    "\n",
    "    raise ValueError(f\"Unsupported prompt style: {prompt_style}\")\n"
   ]
  },
  {
   "cell_type": "markdown",
   "metadata": {},
   "source": [
    "## Prompt Construction and Mistral Inference Details\n",
    "\n",
    "This cell defines the functions responsible for constructing a prompt for the language model, formatting the prompt for Mistral-Instruct models, and invoking the Hugging Face Inference API to generate a response. The main functions are:\n",
    "\n",
    "1. **build_prompt:**  \n",
    "   - Combines the user's query and the retrieved context into a unified prompt.\n",
    "   - The prompt instructs the model to analyze the context and answer the question.\n",
    "\n",
    "2. **format_chat_prompt:**  \n",
    "   - Wraps the prompt in a ChatML-styled template, which is required by Mistral-Instruct models for proper formatting.\n",
    "\n",
    "3. **call_mistral_hf:**  \n",
    "   - Sends the formatted prompt to the Hugging Face API endpoint for the Mistral model.\n",
    "   - Sets parameters such as temperature and max token output.\n",
    "   - Uses the API token from the environment to authenticate the request.\n",
    "   - Parses and returns the generated text from the API response.\n",
    "\n",
    "> **Note:**  \n",
    "> Ensure that your environment variable `HUGGINGFACE_API_TOKEN` is correctly set in the `.env` file before executing this cell."
   ]
  },
  {
   "cell_type": "code",
   "execution_count": 6,
   "metadata": {},
   "outputs": [],
   "source": [
    "# Build Prompt, Format chat prompt and Call Mistral HF\n",
    "#  This cell defines functions to build a prompt for a language model, format it for Mistral-Instruct models,\n",
    "#  and call the Hugging Face Inference API to generate a response.\n",
    "import os\n",
    "from typing import Optional\n",
    "import requests\n",
    "\n",
    "def build_prompt(query: str, context: str,prompt_style : str = \"standard\") -> str:\n",
    "    \"\"\"\n",
    "    Build a prompt for language model inference based on the given query and context.\n",
    "\n",
    "    Args:\n",
    "        query (str): User query or question.\n",
    "        context (str): Context retrieved from the documents.\n",
    "\n",
    "    Returns:\n",
    "        str: Formatted prompt string.\n",
    "    \"\"\"\n",
    "\n",
    "    # if prompt_style not in [\"standard\",\"chain_of_thought\",\"role_based\",\"bullet_points\",\"chatml\"]:\n",
    "    #     raise ValueError(f\"Unsupported prompt style: {prompt_style}\")\n",
    "\n",
    "    # Generate the prompt based on the selected style\n",
    "    if prompt_style == \"standard\":  \n",
    "        prompt_style = PromptStyle.STANDARD\n",
    "    elif prompt_style == \"chain_of_thought\":\n",
    "        prompt_style = PromptStyle.CHAIN_OF_THOUGHT\n",
    "    elif prompt_style == \"role_based\":  \n",
    "        prompt_style = PromptStyle.ROLE_BASED\n",
    "    elif prompt_style == \"bullet_points\":\n",
    "        prompt_style = PromptStyle.BULLET_POINTS\n",
    "    elif prompt_style == \"chatml\":  \n",
    "        prompt_style = PromptStyle.CHATML\n",
    "    else:\n",
    "        prompt_style = PromptStyle.STANDARD\n",
    "    \n",
    "    # Generate the prompt\n",
    "    prompt = generate_prompt(\n",
    "    query=query,\n",
    "    context_docs=context,\n",
    "    prompt_style=prompt_style\n",
    "    )\n",
    "    return prompt\n",
    "\n",
    "\n",
    "def format_chat_prompt(prompt: str) -> str:\n",
    "    \"\"\"\n",
    "    Format a prompt using ChatML-style for Mistral-Instruct models.\n",
    "\n",
    "    Args:\n",
    "        prompt (str): The user input to be wrapped.\n",
    "\n",
    "    Returns:\n",
    "        str: Formatted prompt suitable for Mistral models.\n",
    "    \"\"\"\n",
    "    return f\"<s>[INST] {prompt.strip()} [/INST]\"\n",
    "\n",
    "\n",
    "def call_mistral_hf(prompt: str, api_token: Optional[str] = os.getenv(\"HUGGINGFACE_API_TOKEN\")) -> str:\n",
    "    \"\"\"\n",
    "    Call the Hugging Face Inference API for the Mistral model with the given prompt.\n",
    "\n",
    "    Args:\n",
    "        prompt (str): The input prompt for generation.\n",
    "        api_token (Optional[str]): Hugging Face API token. If not provided, will read from env.\n",
    "\n",
    "    Returns:\n",
    "        str: The generated response from the model.\n",
    "    \"\"\"\n",
    "    if api_token is None:\n",
    "        api_token = os.getenv(\"HUGGINGFACE_API_TOKEN\")\n",
    "\n",
    "    if not api_token:\n",
    "        raise ValueError(\"Hugging Face API token not found. Please set 'HUGGINGFACE_API_TOKEN' in the environment.\")\n",
    "\n",
    "    headers = {\n",
    "        \"Authorization\": f\"Bearer {api_token}\",\n",
    "        \"Content-Type\": \"application/json\",\n",
    "    }\n",
    "\n",
    "    formatted_prompt = format_chat_prompt(prompt)\n",
    "\n",
    "    payload = {\n",
    "        \"inputs\": formatted_prompt,\n",
    "        \"parameters\": {\n",
    "            \"temperature\": 0.7,\n",
    "            \"max_new_tokens\": 512,\n",
    "            \"do_sample\": True,\n",
    "            \"return_full_text\": False,\n",
    "        },\n",
    "    }\n",
    "\n",
    "    # Make the API call to the Mistral model\n",
    "    api_url = \"https://api-inference.huggingface.co/models/mistralai/Mistral-7B-Instruct-v0.2\"\n",
    "    response = requests.post(api_url, headers=headers, json=payload)\n",
    "    response.raise_for_status()\n",
    "\n",
    "    result = response.json()\n",
    "\n",
    "    return result[0][\"generated_text\"].strip()\n"
   ]
  },
  {
   "cell_type": "markdown",
   "metadata": {},
   "source": [
    "## End-to-End Inference Function Details\n",
    "\n",
    "Next cells  defines the `inference` function, which ties together all previous functions to run end-to-end inference for a given query. The main steps are:\n",
    "\n",
    "1. **Retrieve Context:**  \n",
    "   - Calls the `search_query` function with the FAISS index and document mapping to retrieve relevant document snippets based on the query.\n",
    "   - Combines the retrieved snippets into a single context string.\n",
    "\n",
    "2. **Prompt Construction:**  \n",
    "   - Utilizes the `build_prompt` function to create a prompt that includes both the query and the context.\n",
    "  \n",
    "3. **Response Generation:**  \n",
    "   - Calls the `call_mistral_hf` function to send the prompt to the Hugging Face Inference API for the Mistral model.\n",
    "   - Returns the generated response from the model.\n",
    "\n",
    "This function encapsulates the complete workflow of the RAG system, making it straightforward to process a user query by retrieving relevant context and generating a human-like answer."
   ]
  },
  {
   "cell_type": "code",
   "execution_count": 7,
   "metadata": {},
   "outputs": [],
   "source": [
    "from typing import Dict, Any\n",
    "import faiss\n",
    "\n",
    "def retrieve_documents(query: str) -> Dict[int, Dict[str, Any]]:\n",
    "    \"\"\"\n",
    "    Retrieve documents from the FAISS index and return them as a dictionary.\n",
    "    \n",
    "    Returns:\n",
    "        Dict[int, Dict[str, Any]]: Mapping of index positions to documents.\n",
    "    \"\"\"\n",
    "    global index, id_to_docs\n",
    "    context_list,context_for_print = search_query(index, id_to_docs, query)\n",
    "    return context_list, context_for_print\n",
    "\n",
    "def inference(\n",
    "    query: str,\n",
    "    prompt_style: str = \"standard\",\n",
    ") -> str:\n",
    "    \"\"\"\n",
    "    Run end-to-end inference on a query using a FAISS index and Mistral API.\n",
    "\n",
    "    Args:\n",
    "        query (str): The user query to process.\n",
    "        index (faiss.Index): The FAISS index containing document embeddings.\n",
    "        id_to_docs (Dict[int, Dict[str, Any]]): Mapping of index positions to documents.\n",
    "\n",
    "    Returns:\n",
    "        str: The generated response from the language model.\n",
    "    \"\"\"\n",
    "    # context_str = \"\\n\\n\".join(context_list)\n",
    "    context_list, _ = retrieve_documents(query)\n",
    "    prompt = build_prompt(query, context_list,prompt_style=prompt_style)\n",
    "    return call_mistral_hf(prompt)\n"
   ]
  },
  {
   "cell_type": "code",
   "execution_count": 8,
   "metadata": {},
   "outputs": [],
   "source": [
    "queries = [\n",
    "\"Tell me about Cascade Capital Management?\",\n",
    "\"Which organizations show signs of potential money laundering through complex structures?\",\n",
    "\"What irregular transaction patterns are identified for Aurora Financial Services, and why do these raise concerns about potential money laundering?\",\n",
    "\"How do the described transaction patterns of Blue Horizon Investments hint at possible insider trading or market manipulation?\",\n",
    "\"Compare the descriptions of Falcon Secure Bank and Helix Fintech Solutions. What aspects of their operations contribute to one being perceived as having higher transparency and regulatory compliance than the other?\"\n",
    "]"
   ]
  },
  {
   "cell_type": "code",
   "execution_count": 9,
   "metadata": {},
   "outputs": [
    {
     "name": "stdout",
     "output_type": "stream",
     "text": [
      "Query: Tell me about Cascade Capital Management?\n",
      "=======================================================================\n",
      "Top Retrieved Documents: [('Rank 1:\\n', 'Title: Cascade Capital Management\\n', 'Description: Cascade Capital Management, a venture capital firm specializing in tech investments, has grown rapidly but relies on a complex network of subsidiary shell companies. This structure has attracted regulatory scrutiny regarding transparency and compliance.\\n', 'Distance: 0.2569\\n\\n'), ('Rank 2:\\n', 'Title: Gemini Asset Management\\n', 'Description: Serving high-net-worth clients in Asia, Gemini Asset Management has recently been spotlighted for unusually high commissions and inconsistent portfolio reporting. These anomalies have sparked concerns over potential money laundering and fraudulent practices.\\n', 'Distance: 0.7213\\n\\n'), ('Rank 3:\\n', 'Title: Blue Horizon Investments\\n', 'Description: Based in London, Blue Horizon Investments is known for its innovative portfolio strategies. However, irregular transaction patterns and rapid, unexplained fund movements have raised concerns about possible insider trading and manipulation.\\n', 'Distance: 0.7599\\n\\n')]\n",
      "\n",
      "=======================================================================\n",
      "Query: Which organizations show signs of potential money laundering through complex structures?\n",
      "=======================================================================\n",
      "Top Retrieved Documents: [('Rank 1:\\n', 'Title: Gemini Asset Management\\n', 'Description: Serving high-net-worth clients in Asia, Gemini Asset Management has recently been spotlighted for unusually high commissions and inconsistent portfolio reporting. These anomalies have sparked concerns over potential money laundering and fraudulent practices.\\n', 'Distance: 0.7019\\n\\n'), ('Rank 2:\\n', 'Title: Aurora Financial Services\\n', 'Description: Aurora Financial Services, headquartered in New York, is a mid-sized firm that recently recorded an unusually high volume of cross-border transactions with opaque justifications. Analysts have flagged these patterns as potential attempts to obscure money laundering activities.\\n', 'Distance: 0.7182\\n\\n'), ('Rank 3:\\n', 'Title: Cascade Capital Management\\n', 'Description: Cascade Capital Management, a venture capital firm specializing in tech investments, has grown rapidly but relies on a complex network of subsidiary shell companies. This structure has attracted regulatory scrutiny regarding transparency and compliance.\\n', 'Distance: 0.8222\\n\\n')]\n",
      "\n",
      "=======================================================================\n",
      "Query: What irregular transaction patterns are identified for Aurora Financial Services, and why do these raise concerns about potential money laundering?\n",
      "=======================================================================\n",
      "Top Retrieved Documents: [('Rank 1:\\n', 'Title: Aurora Financial Services\\n', 'Description: Aurora Financial Services, headquartered in New York, is a mid-sized firm that recently recorded an unusually high volume of cross-border transactions with opaque justifications. Analysts have flagged these patterns as potential attempts to obscure money laundering activities.\\n', 'Distance: 0.4129\\n\\n'), ('Rank 2:\\n', 'Title: Gemini Asset Management\\n', 'Description: Serving high-net-worth clients in Asia, Gemini Asset Management has recently been spotlighted for unusually high commissions and inconsistent portfolio reporting. These anomalies have sparked concerns over potential money laundering and fraudulent practices.\\n', 'Distance: 0.6401\\n\\n'), ('Rank 3:\\n', 'Title: Ionex Brokerage Services\\n', 'Description: Ionex Brokerage Services is a popular online platform in Europe with a proven track record of consistent performance. Its transaction patterns are steady and well-documented, with no known irregularities or red flags in its operations.\\n', 'Distance: 0.7513\\n\\n')]\n",
      "\n",
      "=======================================================================\n",
      "Query: How do the described transaction patterns of Blue Horizon Investments hint at possible insider trading or market manipulation?\n",
      "=======================================================================\n",
      "Top Retrieved Documents: [('Rank 1:\\n', 'Title: Blue Horizon Investments\\n', 'Description: Based in London, Blue Horizon Investments is known for its innovative portfolio strategies. However, irregular transaction patterns and rapid, unexplained fund movements have raised concerns about possible insider trading and manipulation.\\n', 'Distance: 0.4349\\n\\n'), ('Rank 2:\\n', 'Title: Gemini Asset Management\\n', 'Description: Serving high-net-worth clients in Asia, Gemini Asset Management has recently been spotlighted for unusually high commissions and inconsistent portfolio reporting. These anomalies have sparked concerns over potential money laundering and fraudulent practices.\\n', 'Distance: 0.6969\\n\\n'), ('Rank 3:\\n', 'Title: Cascade Capital Management\\n', 'Description: Cascade Capital Management, a venture capital firm specializing in tech investments, has grown rapidly but relies on a complex network of subsidiary shell companies. This structure has attracted regulatory scrutiny regarding transparency and compliance.\\n', 'Distance: 0.8243\\n\\n')]\n",
      "\n",
      "=======================================================================\n",
      "Query: Compare the descriptions of Falcon Secure Bank and Helix Fintech Solutions. What aspects of their operations contribute to one being perceived as having higher transparency and regulatory compliance than the other?\n",
      "=======================================================================\n",
      "Top Retrieved Documents: [('Rank 1:\\n', 'Title: Falcon Secure Bank\\n', 'Description: Falcon Secure Bank is a digital-only institution acclaimed for its cutting-edge cybersecurity and rigorous internal audits. The bank consistently demonstrates strong compliance practices and transparent operations, earning the trust of its customers and regulators alike.\\n', 'Distance: 0.4451\\n\\n'), ('Rank 2:\\n', 'Title: Helix Fintech Solutions\\n', 'Description: Helix Fintech Solutions is a rapidly growing startup in the financial technology space. Its strategy of partnering with numerous unregulated advisors has resulted in a patchwork of compliance practices, prompting internal reviews for potential fraud and mismanagement of client funds.\\n', 'Distance: 0.4689\\n\\n'), ('Rank 3:\\n', 'Title: Kepler Financial Innovations\\n', 'Description: Kepler Financial Innovations is renowned for its ethical practices and state-of-the-art risk management. With a focus on transparency and regulatory compliance, the firm has built a reputation as a trusted player in the financial market.\\n', 'Distance: 0.7404\\n\\n')]\n",
      "\n",
      "=======================================================================\n"
     ]
    }
   ],
   "source": [
    "for query in queries:\n",
    "    print(f\"Query: {query}\")\n",
    "    print(\"=======================================================================\")\n",
    "    _, top_retrived_docs = retrieve_documents(query)\n",
    "    print(f\"Top Retrieved Documents: {top_retrived_docs}\\n\")\n",
    "    print(\"=======================================================================\")\n"
   ]
  },
  {
   "cell_type": "markdown",
   "metadata": {},
   "source": [
    "## Running Inference on Multiple Queries\n",
    "\n",
    "This cell processes a list of queries by executing the end-to-end inference pipeline for each query. The key steps are:\n",
    "\n",
    "- **Iteration Over Queries:**  \n",
    "  Iterates through each query in the `queries` list.\n",
    "\n",
    "- **Printing Query Information:**  \n",
    "  For each query, it prints the query string and a divider for clarity.\n",
    "\n",
    "- **Inference Execution:**  \n",
    "  Calls the `inference` function with the current query, the pre-built FAISS index (`index`), and the document mapping (`id_to_docs`).  \n",
    "  This function retrieves relevant document snippets, constructs a prompt, and obtains a generated response via the Mistral model.\n",
    "\n",
    "- **Response Collection:**  \n",
    "  Appends the generated response to the `responses` list for further use or analysis."
   ]
  },
  {
   "cell_type": "code",
   "execution_count": 10,
   "metadata": {},
   "outputs": [],
   "source": [
    "prompt_styles = [\"standard\",\"chain_of_thought\",\"role_based\",\"bullet_points\",\"chatml\"]"
   ]
  },
  {
   "cell_type": "markdown",
   "metadata": {},
   "source": [
    "## Displaying the Generated Responses\n",
    "\n",
    "This cell is responsible for presenting the generated responses in a readable format. The steps involved are:\n",
    "\n",
    "1. **Iterating Over Responses:**  \n",
    "   - Loops through each response stored in the `responses` list.\n",
    "\n",
    "2. **Rendering Responses in HTML:**  \n",
    "   - Uses the `IPython.display` module to render each response within an HTML `<div>` container.  \n",
    "   - The HTML container is styled with `white-space: pre-wrap` to ensure proper word wrapping.\n",
    "\n",
    "This ensures that the output is easily readable and neatly formatted within the Jupyter Notebook interface."
   ]
  },
  {
   "cell_type": "markdown",
   "metadata": {},
   "source": [
    "## Prompt Techniques for Enhanced Inference\n",
    "\n",
    "To maximize the quality and relevance of our generated responses, we have implemented multiple prompt strategies. These approaches allow us to experiment with different styles and choose the one that best aligns with the requirements of each query.\n",
    "\n",
    "- **Standard:** Basic integration of query and context.\n",
    "- **Chain-of-Thought:** Encourages detailed, step-by-step reasoning.\n",
    "- **Role-Based:** Frames the query from the perspective of a domain expert.\n",
    "- **Bullet Points:** Presents key information in a clear, succinct list format.\n",
    "- **ChatML:** Utilizes a conversational format tailored for dialog-based models.\n",
    "\n",
    "Explore these techniques below to see how each style influences the model's output!"
   ]
  },
  {
   "cell_type": "markdown",
   "metadata": {},
   "source": [
    "## Responses based on \"standard\" prompt style"
   ]
  },
  {
   "cell_type": "code",
   "execution_count": 11,
   "metadata": {},
   "outputs": [
    {
     "name": "stdout",
     "output_type": "stream",
     "text": [
      "Query: Tell me about Cascade Capital Management?\n",
      "=======================================================================\n"
     ]
    },
    {
     "data": {
      "text/html": [
       "<div style='white-space: pre-wrap; word-wrap: break-word;'>Cascade Capital Management is a venture capital firm that specializes in tech investments. They have experienced significant growth but have come under regulatory scrutiny due to their complex network of subsidiary shell companies. This structure has raised concerns about transparency and compliance within the firm.</div>"
      ],
      "text/plain": [
       "<IPython.core.display.HTML object>"
      ]
     },
     "metadata": {},
     "output_type": "display_data"
    },
    {
     "name": "stdout",
     "output_type": "stream",
     "text": [
      "=======================================================================\n",
      "Query: Which organizations show signs of potential money laundering through complex structures?\n",
      "=======================================================================\n"
     ]
    },
    {
     "data": {
      "text/html": [
       "<div style='white-space: pre-wrap; word-wrap: break-word;'>Based on the context provided, Gemini Asset Management in Asia, Aurora Financial Services in New York, and Cascade Capital Management are the organizations that show signs of potential money laundering through complex structures.\n",
       "\n",
       "Gemini Asset Management in Asia has been highlighted for unusually high commissions and inconsistent portfolio reporting, which have sparked concerns over potential money laundering and fraudulent practices.\n",
       "\n",
       "Aurora Financial Services, based in New York, has recorded an unusually high volume of cross-border transactions with opaque justifications. Analysts have flagged these patterns as potential attempts to obscure money laundering activities.\n",
       "\n",
       "Cascade Capital Management, a venture capital firm specializing in tech investments, has grown rapidly but relies on a complex network of subsidiary shell companies. This structure has attracted regulatory scrutiny regarding transparency and compliance.\n",
       "\n",
       "Therefore, based on the information given, all three organizations exhibit signs of potential money laundering through complex structures. However, it is important to note that the presence of such signs does not necessarily mean that money laundering is actually taking place. Further investigation and evidence are required to confirm any allegations.</div>"
      ],
      "text/plain": [
       "<IPython.core.display.HTML object>"
      ]
     },
     "metadata": {},
     "output_type": "display_data"
    },
    {
     "name": "stdout",
     "output_type": "stream",
     "text": [
      "=======================================================================\n",
      "Query: What irregular transaction patterns are identified for Aurora Financial Services, and why do these raise concerns about potential money laundering?\n",
      "=======================================================================\n"
     ]
    },
    {
     "data": {
      "text/html": [
       "<div style='white-space: pre-wrap; word-wrap: break-word;'>The irregular transaction patterns identified for Aurora Financial Services include an unusually high volume of cross-border transactions with opaque justifications. These transactions raise concerns about potential money laundering because money laundering often involves moving large sums of money across international borders to hide the true origin or destination of the funds. Opaque justifications for these transactions can make it difficult to trace the flow of funds and identify any illicit activities. Analysts flagging these patterns suggest that they could be attempting to obscure money laundering activities.</div>"
      ],
      "text/plain": [
       "<IPython.core.display.HTML object>"
      ]
     },
     "metadata": {},
     "output_type": "display_data"
    },
    {
     "name": "stdout",
     "output_type": "stream",
     "text": [
      "=======================================================================\n",
      "Query: How do the described transaction patterns of Blue Horizon Investments hint at possible insider trading or market manipulation?\n",
      "=======================================================================\n"
     ]
    },
    {
     "data": {
      "text/html": [
       "<div style='white-space: pre-wrap; word-wrap: break-word;'>The irregular transaction patterns and rapid, unexplained fund movements described in the context of Blue Horizon Investments could be potential red flags for insider trading or market manipulation. Insider trading refers to the buying or selling of securities based on material, non-public information. Market manipulation involves artificial inflation or deflation of the price of a security to create a false market or gain an unfair advantage over other investors.\n",
       "\n",
       "Both insider trading and market manipulation can involve sudden and unexplained transactions, as insiders may try to take advantage of their knowledge before the information becomes public or manipulate market prices to their advantage. The absence of clear explanations for these transactions could fuel suspicions of wrongdoing.\n",
       "\n",
       "However, it's essential to note that these observations alone do not definitively prove insider trading or market manipulation. Further investigation, including a thorough review of the underlying transactions, market conditions, and regulatory compliance, would be necessary to support such allegations.</div>"
      ],
      "text/plain": [
       "<IPython.core.display.HTML object>"
      ]
     },
     "metadata": {},
     "output_type": "display_data"
    },
    {
     "name": "stdout",
     "output_type": "stream",
     "text": [
      "=======================================================================\n",
      "Query: Compare the descriptions of Falcon Secure Bank and Helix Fintech Solutions. What aspects of their operations contribute to one being perceived as having higher transparency and regulatory compliance than the other?\n",
      "=======================================================================\n"
     ]
    },
    {
     "data": {
      "text/html": [
       "<div style='white-space: pre-wrap; word-wrap: break-word;'>Based on the provided context, the descriptions of Falcon Secure Bank and Helix Fintech Solutions suggest that Falcon Secure Bank is perceived to have higher transparency and regulatory compliance compared to Helix Fintech Solutions for several reasons. Firstly, Falcon Secure Bank is a digital-only institution with a consistent track record of strong compliance practices and rigorous internal audits. This demonstrates a commitment to adhering to regulatory requirements and maintaining transparent operations, which in turn builds trust with its customers and regulators.\n",
       "\n",
       "On the other hand, Helix Fintech Solutions is described as a rapidly growing startup in the financial technology space that has partnered with numerous unregulated advisors. This approach has resulted in a patchwork of compliance practices, which has prompted internal reviews for potential fraud and mismanagement of client funds. The lack of consistent regulatory compliance and the presence of unregulated advisors may contribute to a perception of lower transparency and increased risk for Helix Fintech Solutions.\n",
       "\n",
       "Therefore, the key aspects of their operations that contribute to one being perceived as having higher transparency and regulatory compliance than the other are Falcon Secure Bank's consistent compliance practices, rigorous internal audits, and digital-only status, compared to Helix Fintech Solutions' patchwork of compliance practices, partnerships with unregulated advisors, and resulting internal reviews for potential fraud and mismanagement of client funds.</div>"
      ],
      "text/plain": [
       "<IPython.core.display.HTML object>"
      ]
     },
     "metadata": {},
     "output_type": "display_data"
    },
    {
     "name": "stdout",
     "output_type": "stream",
     "text": [
      "=======================================================================\n"
     ]
    }
   ],
   "source": [
    "from IPython.display import display, HTML\n",
    "responses = []\n",
    "for query in queries:\n",
    "\n",
    "    print(f\"Query: {query}\")\n",
    "    print(\"=======================================================================\")\n",
    "\n",
    "    # Run inference for each query\n",
    "    response = inference(query,prompt_styles[0])\n",
    "\n",
    "    # To display it as wrapped HTML\n",
    "    display(HTML(f\"<div style='white-space: pre-wrap; word-wrap: break-word;'>{response}</div>\"))\n",
    "    print(\"=======================================================================\")\n"
   ]
  },
  {
   "cell_type": "markdown",
   "metadata": {},
   "source": [
    "## Responses based on \"chain_of_thoughts\" prompt style"
   ]
  },
  {
   "cell_type": "code",
   "execution_count": 14,
   "metadata": {},
   "outputs": [
    {
     "name": "stdout",
     "output_type": "stream",
     "text": [
      "Query: Tell me about Cascade Capital Management?\n",
      "=======================================================================\n"
     ]
    },
    {
     "data": {
      "text/html": [
       "<div style='white-space: pre-wrap; word-wrap: break-word;'>Cascade Capital Management is a venture capital firm that specializes in tech investments. The company has experienced significant growth. However, its business model relies on a complex network of subsidiary shell companies. This structure has attracted regulatory scrutiny due to concerns over transparency and compliance. The intricacy of their corporate structure makes it difficult for regulators to oversee their operations and understand the flow of funds. This situation could potentially lead to issues with accountability and potential misuse of funds. It's important to note that regulatory scrutiny does not necessarily imply wrongdoing, but it does highlight the need for increased transparency and potential reforms within the organization.</div>"
      ],
      "text/plain": [
       "<IPython.core.display.HTML object>"
      ]
     },
     "metadata": {},
     "output_type": "display_data"
    },
    {
     "name": "stdout",
     "output_type": "stream",
     "text": [
      "=======================================================================\n",
      "Query: Which organizations show signs of potential money laundering through complex structures?\n",
      "=======================================================================\n"
     ]
    },
    {
     "data": {
      "text/html": [
       "<div style='white-space: pre-wrap; word-wrap: break-word;'>Based on the information provided in the context, the organizations that show signs of potential money laundering through complex structures are:\n",
       "\n",
       "1. Gemini Asset Management: The unusually high commissions and inconsistent portfolio reporting raise concerns over potential money laundering and fraudulent practices. While the context does not directly mention complex structures, the inconsistencies in reporting suggest that there may be something obscured or hidden.\n",
       "\n",
       "2. Aurora Financial Services: The unusually high volume of cross-border transactions with opaque justifications is a red flag for potential money laundering activities. The complexity of these transactions could indicate a hidden network or structure aimed at obscuring the true source or destination of funds.\n",
       "\n",
       "3. Cascade Capital Management: The rapid growth of the firm and the complex network of subsidiary shell companies have attracted regulatory scrutiny. The use of complex structures can provide a veil for money laundering activities, making it difficult to trace the origin and flow of funds.\n",
       "\n",
       "Therefore, based on the information provided, all three organizations - Gemini Asset Management, Aurora Financial Services, and Cascade Capital Management - show signs of potential money laundering through complex structures. However, it is essential to note that this analysis is based on the information provided in the context alone and further investigation is required to confirm any suspicions.</div>"
      ],
      "text/plain": [
       "<IPython.core.display.HTML object>"
      ]
     },
     "metadata": {},
     "output_type": "display_data"
    },
    {
     "name": "stdout",
     "output_type": "stream",
     "text": [
      "=======================================================================\n",
      "Query: What irregular transaction patterns are identified for Aurora Financial Services, and why do these raise concerns about potential money laundering?\n",
      "=======================================================================\n"
     ]
    },
    {
     "data": {
      "text/html": [
       "<div style='white-space: pre-wrap; word-wrap: break-word;'>The irregular transaction patterns identified for Aurora Financial Services include an unusually high volume of cross-border transactions. The reason these raise concerns about potential money laundering is that such transactions can be used to move large sums of illicit funds across borders with the intention of disguising their origin and ownership. Money laundering involves converting the proceeds of illegal activities into legitimately-looking assets or funds, and cross-border transactions can be a key tool in this process. The opaque justifications for these transactions add to the suspicion, as clear and transparent reasons for the transactions should be easily explainable.</div>"
      ],
      "text/plain": [
       "<IPython.core.display.HTML object>"
      ]
     },
     "metadata": {},
     "output_type": "display_data"
    },
    {
     "name": "stdout",
     "output_type": "stream",
     "text": [
      "=======================================================================\n",
      "Query: How do the described transaction patterns of Blue Horizon Investments hint at possible insider trading or market manipulation?\n",
      "=======================================================================\n"
     ]
    },
    {
     "data": {
      "text/html": [
       "<div style='white-space: pre-wrap; word-wrap: break-word;'>The irregular transaction patterns and rapid, unexplained fund movements described for Blue Horizon Investments could be potential red flags for insider trading or market manipulation. Insider trading refers to the trading of a public company's stock or securities by individuals with access to nonpublic information about the company. Market manipulation, on the other hand, is the act of artificially affecting the price of a security for the purpose of creating a profit.\n",
       "\n",
       "When we consider the described transaction patterns for Blue Horizon Investments, the rapid and unexplained fund movements suggest that large amounts of money may be moving in and out of their investment funds in a suspicious manner. Insider trading might explain this behavior if the firm or its employees have access to confidential information that allows them to make profitable trades before this information becomes public.\n",
       "\n",
       "Market manipulation could be another explanation for these patterns, as the firm might be trying to artificially influence the price of certain securities through large purchases or sales. For example, they could be buying large quantities of a stock to drive up its price and then selling it at a profit once the price has been inflated.\n",
       "\n",
       "It's important to note that these are just possibilities and further investigation would be required to determine if insider trading or market manipulation is actually taking place at Blue Horizon Investments. Regulatory bodies and financial authorities would need to review the firm's trading records, interview key personnel, and potentially launch formal investigations to uncover the truth.\n",
       "\n",
       "Regardless, the anomalous transactions described for Blue Horizon Investments warrant further investigation to protect investors and maintain market integrity.</div>"
      ],
      "text/plain": [
       "<IPython.core.display.HTML object>"
      ]
     },
     "metadata": {},
     "output_type": "display_data"
    },
    {
     "name": "stdout",
     "output_type": "stream",
     "text": [
      "=======================================================================\n",
      "Query: Compare the descriptions of Falcon Secure Bank and Helix Fintech Solutions. What aspects of their operations contribute to one being perceived as having higher transparency and regulatory compliance than the other?\n",
      "=======================================================================\n"
     ]
    },
    {
     "data": {
      "text/html": [
       "<div style='white-space: pre-wrap; word-wrap: break-word;'>Based on the given descriptions, Falcon Secure Bank and Helix Fintech Solutions differ significantly in their approaches to operations, transparency, and regulatory compliance. Here are the aspects that contribute to Falcon Secure Bank being perceived as having higher transparency and regulatory compliance than Helix Fintech Solutions:\n",
       "\n",
       "1. Regulatory Compliance: Falcon Secure Bank is consistently demonstrating strong compliance practices and transparent operations, which have earned them trust from regulators and customers. This implies that they follow all the necessary regulations and guidelines set by the concerned authorities.\n",
       "\n",
       "2. Cutting-Edge Cybersecurity: The bank's commitment to cutting-edge cybersecurity further adds to its reputation as a trusted financial institution. This means that they prioritize protecting their clients' funds and personal information, which is crucial for maintaining transparency and regulatory compliance.\n",
       "\n",
       "3. Rigorous Internal Audits: The descriptions mention that Falcon Secure Bank undergoes regular internal audits, which help ensure that their operations are in line with industry standards and regulatory requirements. This proactive approach to self-regulation is an indicator of a high level of transparency and commitment to compliance.\n",
       "\n",
       "4. Transparent Operations: The bank's transparent operations are another aspect that sets it apart from Helix Fintech Solutions. By maintaining open communication with their customers and regulators, they build trust and allow for greater accountability.\n",
       "\n",
       "On the other hand, Helix Fintech Solutions' strategy of partnering with numerous unregulated advisors has led to a patchwork of compliance practices. This raises concerns about potential fraud and mismanagement of client funds. While they may be innovative in the financial technology space, their approach to compliance and transparency falls short compared to Falcon Secure Bank.</div>"
      ],
      "text/plain": [
       "<IPython.core.display.HTML object>"
      ]
     },
     "metadata": {},
     "output_type": "display_data"
    },
    {
     "name": "stdout",
     "output_type": "stream",
     "text": [
      "=======================================================================\n"
     ]
    }
   ],
   "source": [
    "from IPython.display import display, HTML\n",
    "responses = []\n",
    "for query in queries:\n",
    "\n",
    "    print(f\"Query: {query}\")\n",
    "    print(\"=======================================================================\")\n",
    "\n",
    "    # Run inference for each query\n",
    "    response = inference(query,prompt_styles[1])\n",
    "\n",
    "    # To display it as wrapped HTML\n",
    "    display(HTML(f\"<div style='white-space: pre-wrap; word-wrap: break-word;'>{response}</div>\"))\n",
    "    print(\"=======================================================================\")"
   ]
  },
  {
   "cell_type": "markdown",
   "metadata": {},
   "source": [
    "## Responses based on \"role_based\" prompt style"
   ]
  },
  {
   "cell_type": "code",
   "execution_count": 15,
   "metadata": {},
   "outputs": [
    {
     "name": "stdout",
     "output_type": "stream",
     "text": [
      "Query: Tell me about Cascade Capital Management?\n",
      "=======================================================================\n"
     ]
    },
    {
     "data": {
      "text/html": [
       "<div style='white-space: pre-wrap; word-wrap: break-word;'>Cascade Capital Management is a venture capital firm that specializes in tech investments and has experienced significant growth. However, the firm's reliance on a complex network of subsidiary shell companies has attracted regulatory scrutiny. This structure, while common in some industries, can create transparency issues and potential compliance risks.\n",
       "\n",
       "The following are potential risk indicators for Cascade Capital Management:\n",
       "\n",
       "1. Lack of Transparency: The use of a complex network of subsidiary shell companies can make it difficult for regulators and the public to understand the true nature of the firm's business operations and financial dealings.\n",
       "2. Compliance Risks: Complex structures can increase the risk of non-compliance with various financial regulations, including anti-money laundering (AML) and know-your-customer (KYC) regulations.\n",
       "3. Reputational Risk: The regulatory scrutiny surrounding Cascade Capital Management's business model can negatively impact its reputation, potentially making it more difficult to attract and retain clients and investors.\n",
       "4. Risk of Insider Trading and Manipulation: The use of shell companies can create opportunities for insider trading and accounting manipulation, especially if the companies are not properly regulated or monitored.\n",
       "5. Potential for Conflicts of Interest: The interconnectedness of the various entities in Cascade Capital Management's structure can create conflicts of interest that could potentially be used to benefit certain parties at the expense of others.\n",
       "\n",
       "It's important to note that the presence of these risk indicators does not necessarily mean that Cascade Capital Management is engaging in illegal or unethical practices. However, they do warrant further investigation and oversight to ensure that the firm is operating in compliance with relevant financial regulations and is transparent in its business dealings.</div>"
      ],
      "text/plain": [
       "<IPython.core.display.HTML object>"
      ]
     },
     "metadata": {},
     "output_type": "display_data"
    },
    {
     "name": "stdout",
     "output_type": "stream",
     "text": [
      "=======================================================================\n",
      "Query: Which organizations show signs of potential money laundering through complex structures?\n",
      "=======================================================================\n"
     ]
    },
    {
     "data": {
      "text/html": [
       "<div style='white-space: pre-wrap; word-wrap: break-word;'>Based on the information provided, both Gemini Asset Management in Asia and Cascade Capital Management show signs of potential money laundering through complex structures.\n",
       "\n",
       "1. Gemini Asset Management: The unusual high commissions and inconsistent portfolio reporting can be potential red flags for money laundering. High commissions could be a sign of illicit activities, as the excess fees could hide the true origin of the funds. Inconsistent portfolio reporting could be an attempt to obscure the true nature of the investments, making it difficult to trace the flow of funds.\n",
       "\n",
       "2. Cascade Capital Management: The complex network of subsidiary shell companies could be used as a means to launder money. Such structures can make it difficult to trace the origin and destination of funds, allowing for the concealment of illicit activities.\n",
       "\n",
       "3. Aurora Financial Services: While the unusually high volume of cross-border transactions with opaque justifications is a concern, it does not necessarily indicate money laundering. However, money laundering can be a component of financial crimes, and further investigation is needed to determine the exact nature of these transactions and their potential relationship to money laundering activities.</div>"
      ],
      "text/plain": [
       "<IPython.core.display.HTML object>"
      ]
     },
     "metadata": {},
     "output_type": "display_data"
    },
    {
     "name": "stdout",
     "output_type": "stream",
     "text": [
      "=======================================================================\n",
      "Query: What irregular transaction patterns are identified for Aurora Financial Services, and why do these raise concerns about potential money laundering?\n",
      "=======================================================================\n"
     ]
    },
    {
     "data": {
      "text/html": [
       "<div style='white-space: pre-wrap; word-wrap: break-word;'>The irregular transaction patterns identified for Aurora Financial Services include an unusually high volume of cross-border transactions with opaque justifications. These transactions raise concerns about potential money laundering for several reasons:\n",
       "\n",
       "1. Cross-border transactions: Cross-border transactions, particularly those involving large sums of money or complex structures, can be used to move funds illegally across borders. Money laundering schemes often involve moving funds through multiple countries to conceal the true origin and destination of the funds.\n",
       "\n",
       "2. Opaque justifications: The lack of clear explanations for these transactions suggests that they may be intended to obscure the true nature of the funds being moved. Money laundering schemes often rely on complex financial structures and misleading documentation to hide the source of the funds.\n",
       "\n",
       "3. Volume: The high volume of these transactions raises suspicions, as it may indicate a large-scale money laundering operation. Money launderers often seek to move large amounts of funds quickly and efficiently, and a high volume of transactions can be a sign of this activity.\n",
       "\n",
       "Overall, the combination of cross-border transactions and opaque justifications raises significant red flags for potential money laundering activity at Aurora Financial Services. These concerns warrant further investigation to determine the true nature of these transactions and the potential risks they pose.</div>"
      ],
      "text/plain": [
       "<IPython.core.display.HTML object>"
      ]
     },
     "metadata": {},
     "output_type": "display_data"
    },
    {
     "name": "stdout",
     "output_type": "stream",
     "text": [
      "=======================================================================\n",
      "Query: How do the described transaction patterns of Blue Horizon Investments hint at possible insider trading or market manipulation?\n",
      "=======================================================================\n"
     ]
    },
    {
     "data": {
      "text/html": [
       "<div style='white-space: pre-wrap; word-wrap: break-word;'>The described transaction patterns of Blue Horizon Investments, such as irregular transactions and rapid, unexplained fund movements, are classic red flags for potential insider trading and market manipulation. Insider trading refers to the illegal practice of trading a public company's securities based on material, non-public information. Market manipulation involves artificially influencing the price or trading volume of a security.\n",
       "\n",
       "Irregular transactions could indicate insider trading if they involve large, unusual trades made just before a public announcement that would significantly impact the stock price. For example, if an insider sells a large number of shares right before a negative announcement, they could potentially profit from the information they possess.\n",
       "\n",
       "Rapid, unexplained fund movements could suggest market manipulation, such as pump and dump schemes. In a pump and dump scheme, insiders or their associates artificially inflate the price of a stock by buying and promoting it, then sell their shares at the inflated price, leaving other investors with significant losses.\n",
       "\n",
       "It is important to note that the mere presence of these red flags does not necessarily mean that Blue Horizon Investments is engaged in illegal activities. However, they do warrant further investigation to determine if any wrongdoing has occurred. This may include requesting additional information from the firm, analyzing trading patterns more closely, and interviewing insiders and other relevant parties.</div>"
      ],
      "text/plain": [
       "<IPython.core.display.HTML object>"
      ]
     },
     "metadata": {},
     "output_type": "display_data"
    },
    {
     "name": "stdout",
     "output_type": "stream",
     "text": [
      "=======================================================================\n",
      "Query: Compare the descriptions of Falcon Secure Bank and Helix Fintech Solutions. What aspects of their operations contribute to one being perceived as having higher transparency and regulatory compliance than the other?\n",
      "=======================================================================\n"
     ]
    },
    {
     "data": {
      "text/html": [
       "<div style='white-space: pre-wrap; word-wrap: break-word;'>Based on the descriptions provided, Falcon Secure Bank and Helix Fintech Solutions have distinct differences that contribute to Falcon Secure Bank being perceived as having a higher level of transparency and regulatory compliance than Helix Fintech Solutions.\n",
       "\n",
       "1. Regulatory Compliance: Falcon Secure Bank is acclaimed for its strong compliance practices and consistent demonstration of compliance with regulatory requirements. This is evident in their rigorous internal audits and transparent operations, which have earned them trust from both customers and regulators. On the other hand, Helix Fintech Solutions' strategy of partnering with numerous unregulated advisors has resulted in a patchwork of compliance practices, which may increase the risk of non-compliance and potential fraud or mismanagement of client funds.\n",
       "\n",
       "2. Transparency: Falcon Secure Bank is also known for its transparency, which is crucial for maintaining trust with its customers and regulators. The bank's transparent operations suggest that they have nothing to hide, making it easier for stakeholders to assess their activities and ensure that they are acting ethically and in compliance with applicable laws and regulations. In contrast, Helix Fintech Solutions' patchwork of compliance practices and partnerships with unregulated advisors may lead to less transparency and potentially more opportunities for fraudulent or unethical behavior.\n",
       "\n",
       "3. Reputation: Falcon Secure Bank's reputation as a trusted player in the financial industry is built on a foundation of strong compliance practices, rigorous internal audits, and transparent operations. This reputation is crucial for maintaining customer trust and attracting new business. In contrast, Helix Fintech Solutions' reputation is based on their strategy of partnering with numerous unregulated advisors, which may increase the risk of non-compliance and potential fraud or mismanagement of client funds. This could make it more challenging for Helix Fintech Solutions to attract new business or maintain the trust of existing customers.\n",
       "\n",
       "In summary, Falcon Secure Bank's reputation for strong compliance practices, rigorous internal audits, transparency, and ethical business operations sets it apart from Helix Fintech Solutions. The latter's strategy of partnering with numerous unregulated advisors and patchwork of compliance practices increases the risk of non-compliance and potential fraud or mismanagement of client funds, potentially undermining its reputation and making it more challenging to attract and retain customers.</div>"
      ],
      "text/plain": [
       "<IPython.core.display.HTML object>"
      ]
     },
     "metadata": {},
     "output_type": "display_data"
    },
    {
     "name": "stdout",
     "output_type": "stream",
     "text": [
      "=======================================================================\n"
     ]
    }
   ],
   "source": [
    "from IPython.display import display, HTML\n",
    "responses = []\n",
    "for query in queries:\n",
    "\n",
    "    print(f\"Query: {query}\")\n",
    "    print(\"=======================================================================\")\n",
    "\n",
    "    # Run inference for each query\n",
    "    response = inference(query,prompt_styles[2])\n",
    "\n",
    "    # To display it as wrapped HTML\n",
    "    display(HTML(f\"<div style='white-space: pre-wrap; word-wrap: break-word;'>{response}</div>\"))\n",
    "    print(\"=======================================================================\")"
   ]
  },
  {
   "cell_type": "markdown",
   "metadata": {},
   "source": [
    "## Responses based on \"bullet_points\" prompt style"
   ]
  },
  {
   "cell_type": "code",
   "execution_count": 16,
   "metadata": {},
   "outputs": [
    {
     "name": "stdout",
     "output_type": "stream",
     "text": [
      "Query: Tell me about Cascade Capital Management?\n",
      "=======================================================================\n"
     ]
    },
    {
     "data": {
      "text/html": [
       "<div style='white-space: pre-wrap; word-wrap: break-word;'>* Cascade Capital Management is a venture capital firm specializing in tech investments.\n",
       "* The firm has seen rapid growth.\n",
       "* Cascade Capital Management has a complex network of subsidiary shell companies.\n",
       "* This structure has attracted regulatory scrutiny due to concerns about transparency and compliance.</div>"
      ],
      "text/plain": [
       "<IPython.core.display.HTML object>"
      ]
     },
     "metadata": {},
     "output_type": "display_data"
    },
    {
     "name": "stdout",
     "output_type": "stream",
     "text": [
      "=======================================================================\n",
      "Query: Which organizations show signs of potential money laundering through complex structures?\n",
      "=======================================================================\n"
     ]
    },
    {
     "data": {
      "text/html": [
       "<div style='white-space: pre-wrap; word-wrap: break-word;'>* Gemini Asset Management (Asia): Unusually high commissions and inconsistent portfolio reporting have raised suspicions of potential money laundering and fraudulent practices.\n",
       "* Aurora Financial Services (New York): High volume of cross-border transactions with opaque justifications have been flagged as potential attempts to obscure money laundering activities.\n",
       "* Cascade Capital Management (Venture Capital Firm): Rapid growth and complex network of subsidiary shell companies have attracted regulatory scrutiny regarding transparency and compliance, increasing concerns over potential money laundering.</div>"
      ],
      "text/plain": [
       "<IPython.core.display.HTML object>"
      ]
     },
     "metadata": {},
     "output_type": "display_data"
    },
    {
     "name": "stdout",
     "output_type": "stream",
     "text": [
      "=======================================================================\n",
      "Query: What irregular transaction patterns are identified for Aurora Financial Services, and why do these raise concerns about potential money laundering?\n",
      "=======================================================================\n"
     ]
    },
    {
     "data": {
      "text/html": [
       "<div style='white-space: pre-wrap; word-wrap: break-word;'>* Aurora Financial Services recorded an unusually high volume of cross-border transactions.\n",
       "* The justifications for these transactions were deemed opaque by analysts.\n",
       "* Opaque justifications can make it difficult to determine the true nature of the transactions, increasing the risk for money laundering activities.\n",
       "* Money laundering involves disguising the proceeds of illegal activities as legitimate funds, often through complex financial transactions.\n",
       "* Cross-border transactions can be used to move funds across jurisdictions, making it harder to trace the origin and destination of the funds.\n",
       "\n",
       "The high volume and opaque justifications of cross-border transactions at Aurora Financial Services raise concerns about potential money laundering activities because they can be used to move funds across borders in a way that obscures their true origin and destination. The lack of transparency surrounding these transactions increases the risk that they are being used to launder illicit funds.</div>"
      ],
      "text/plain": [
       "<IPython.core.display.HTML object>"
      ]
     },
     "metadata": {},
     "output_type": "display_data"
    },
    {
     "name": "stdout",
     "output_type": "stream",
     "text": [
      "=======================================================================\n",
      "Query: How do the described transaction patterns of Blue Horizon Investments hint at possible insider trading or market manipulation?\n",
      "=======================================================================\n"
     ]
    },
    {
     "data": {
      "text/html": [
       "<div style='white-space: pre-wrap; word-wrap: break-word;'>* Blue Horizon Investments has irregular transaction patterns, indicating that there may be unusual buying or selling activity that could potentially be insider trading or market manipulation.\n",
       "* Rapid and unexplained fund movements suggest that insider information may be used to gain an unfair advantage in the market.\n",
       "* Insider trading refers to buying or selling a security based on material, nonpublic information. Market manipulation involves artificially influencing the price of a security for personal gain.\n",
       "* Insider trading is illegal if the information is not publicly disclosed, while market manipulation is considered unethical and can be illegal depending on the specific actions taken.\n",
       "* The irregularities in Blue Horizon Investments' transactions should be further investigated to determine if any laws have been broken or regulations violated.</div>"
      ],
      "text/plain": [
       "<IPython.core.display.HTML object>"
      ]
     },
     "metadata": {},
     "output_type": "display_data"
    },
    {
     "name": "stdout",
     "output_type": "stream",
     "text": [
      "=======================================================================\n",
      "Query: Compare the descriptions of Falcon Secure Bank and Helix Fintech Solutions. What aspects of their operations contribute to one being perceived as having higher transparency and regulatory compliance than the other?\n",
      "=======================================================================\n"
     ]
    },
    {
     "data": {
      "text/html": [
       "<div style='white-space: pre-wrap; word-wrap: break-word;'>* Falcon Secure Bank is known for its cutting-edge cybersecurity and rigorous internal audits.\n",
       "* The bank consistently demonstrates strong compliance practices and transparent operations, earning the trust of customers and regulators.\n",
       "\n",
       "* Helix Fintech Solutions has a strategy of partnering with numerous unregulated advisors.\n",
       "* This results in a patchwork of compliance practices, prompting internal reviews for potential fraud and mismanagement of client funds.</div>"
      ],
      "text/plain": [
       "<IPython.core.display.HTML object>"
      ]
     },
     "metadata": {},
     "output_type": "display_data"
    },
    {
     "name": "stdout",
     "output_type": "stream",
     "text": [
      "=======================================================================\n"
     ]
    }
   ],
   "source": [
    "from IPython.display import display, HTML\n",
    "responses = []\n",
    "for query in queries:\n",
    "\n",
    "    print(f\"Query: {query}\")\n",
    "    print(\"=======================================================================\")\n",
    "\n",
    "    # Run inference for each query\n",
    "    response = inference(query,prompt_styles[3])\n",
    "\n",
    "    # To display it as wrapped HTML\n",
    "    display(HTML(f\"<div style='white-space: pre-wrap; word-wrap: break-word;'>{response}</div>\"))\n",
    "    print(\"=======================================================================\")"
   ]
  },
  {
   "cell_type": "markdown",
   "metadata": {},
   "source": [
    "## Responses based on \"chat_ml\" prompt style"
   ]
  },
  {
   "cell_type": "code",
   "execution_count": 17,
   "metadata": {},
   "outputs": [
    {
     "name": "stdout",
     "output_type": "stream",
     "text": [
      "Query: Tell me about Cascade Capital Management?\n",
      "=======================================================================\n"
     ]
    },
    {
     "data": {
      "text/html": [
       "<div style='white-space: pre-wrap; word-wrap: break-word;'>Cascade Capital Management is a venture capital firm that specializes in tech investments. The firm has seen significant growth but operates through a complex network of subsidiary shell companies. This structure has attracted regulatory scrutiny due to concerns over transparency and compliance. The use of numerous subsidiaries can make it challenging for regulators to understand the true ownership and control of the various entities, increasing the risk of potential misconduct or non-compliance. Regulatory bodies may require additional reporting, documentation, and auditing to ensure that Cascade Capital Management is operating in accordance with applicable laws and regulations.\n",
       "\n",
       "It's important to note that the use of subsidiary shell companies is not inherently illegal or unethical. Many legitimate businesses employ such structures for various reasons, such as tax planning, asset protection, or risk management. However, in the case of Cascade Capital Management, the lack of transparency surrounding these subsidiaries has raised red flags and prompted regulatory investigations.\n",
       "\n",
       "As with any organization, Cascade Capital Management should prioritize transparency and comply with all relevant laws and regulations to maintain the trust of its investors and stakeholders. This includes regularly disclosing information about its business structure, ownership, and financial dealings, as well as implementing robust internal controls and governance mechanisms to prevent and detect any unethical or non-compliant behavior.</div>"
      ],
      "text/plain": [
       "<IPython.core.display.HTML object>"
      ]
     },
     "metadata": {},
     "output_type": "display_data"
    },
    {
     "name": "stdout",
     "output_type": "stream",
     "text": [
      "=======================================================================\n",
      "Query: Which organizations show signs of potential money laundering through complex structures?\n",
      "=======================================================================\n"
     ]
    },
    {
     "data": {
      "text/html": [
       "<div style='white-space: pre-wrap; word-wrap: break-word;'>Based on the context provided, Gemini Asset Management, Aurora Financial Services, and Cascade Capital Management are three organizations that have shown signs of potential money laundering activities.\n",
       "\n",
       "Gemini Asset Management has been highlighted for unusually high commissions and inconsistent portfolio reporting, which have raised concerns over money laundering and fraudulent practices. This type of behavior can be indicative of attempts to conceal illegal activities through the movement of funds between accounts.\n",
       "\n",
       "Aurora Financial Services has recorded an unusually high volume of cross-border transactions with opaque justifications, which have been flagged as potential attempts to obscure money laundering activities. Cross-border transactions can be used to move funds between jurisdictions, making it more difficult to trace the origin and destination of the funds.\n",
       "\n",
       "Cascade Capital Management's complex network of subsidiary shell companies has attracted regulatory scrutiny regarding transparency and compliance. The use of complex structures can make it difficult to trace the flow of funds and identify the ultimate beneficial owners, which can contribute to money laundering and other illicit activities.\n",
       "\n",
       "It's important to note that the presence of these signs does not definitively prove money laundering, but they do warrant further investigation and due diligence. Regulatory agencies and law enforcement should conduct thorough investigations into these organizations to determine if any laws have been violated and take appropriate action if necessary.</div>"
      ],
      "text/plain": [
       "<IPython.core.display.HTML object>"
      ]
     },
     "metadata": {},
     "output_type": "display_data"
    },
    {
     "name": "stdout",
     "output_type": "stream",
     "text": [
      "=======================================================================\n",
      "Query: What irregular transaction patterns are identified for Aurora Financial Services, and why do these raise concerns about potential money laundering?\n",
      "=======================================================================\n"
     ]
    },
    {
     "data": {
      "text/html": [
       "<div style='white-space: pre-wrap; word-wrap: break-word;'>The irregular transaction patterns identified for Aurora Financial Services include an unusually high volume of cross-border transactions with opaque justifications. This means that there are a significant number of transactions taking place between Aurora Financial Services and entities or individuals located in different countries, and the reasons for these transactions are not clear or are insufficiently explained.\n",
       "\n",
       "Money laundering is a process by which criminal proceeds are concealed and made to appear legitimate. One common method of money laundering is to move funds across borders in a way that makes it difficult to trace their origin. By engaging in a high volume of cross-border transactions, Aurora Financial Services may be attempting to obscure the source of the funds involved in these transactions.\n",
       "\n",
       "Additionally, the lack of clear justifications for these transactions raises further concerns. Money laundering schemes often involve disguising the true nature of transactions, and providing insufficient or misleading explanations for them is a common tactic used to hide illicit activity.\n",
       "\n",
       "Overall, the combination of a high volume of cross-border transactions and opaque justifications is indicative of potential money laundering activity. It is important for regulatory authorities to closely scrutinize these transactions and investigate the underlying business activities of Aurora Financial Services to determine if any illegal activity is taking place.</div>"
      ],
      "text/plain": [
       "<IPython.core.display.HTML object>"
      ]
     },
     "metadata": {},
     "output_type": "display_data"
    },
    {
     "name": "stdout",
     "output_type": "stream",
     "text": [
      "=======================================================================\n",
      "Query: How do the described transaction patterns of Blue Horizon Investments hint at possible insider trading or market manipulation?\n",
      "=======================================================================\n"
     ]
    },
    {
     "data": {
      "text/html": [
       "<div style='white-space: pre-wrap; word-wrap: break-word;'>The irregular transaction patterns and rapid, unexplained fund movements at Blue Horizon Investments could potentially indicate insider trading or market manipulation. Insider trading refers to the buying or selling of securities based on material, non-public information. Market manipulation involves artificially affecting the price of a security to create advantageous trading opportunities.\n",
       "\n",
       "Some signs of insider trading or market manipulation include:\n",
       "\n",
       "* Large, unusual trades: Blue Horizon Investments' rapid and unexplained fund movements could represent large, unusual trades that might not be in line with normal business operations or market trends.\n",
       "* Timing: If these transactions coincide with material, non-public information about the company or the market, they could be indicative of insider trading.\n",
       "* Repeated patterns: Consistent and recurring irregularities in trading activity could suggest a pattern of manipulation or insider trading.\n",
       "* Insufficient explanation: If Blue Horizon Investments is unable to adequately explain the reasons behind these transactions, it may raise suspicions of insider trading or market manipulation.\n",
       "\n",
       "It is important to note that the presence of these signs does not automatically mean that insider trading or market manipulation has occurred. Further investigation is required to confirm any suspicions and determine if any regulatory violations have taken place.</div>"
      ],
      "text/plain": [
       "<IPython.core.display.HTML object>"
      ]
     },
     "metadata": {},
     "output_type": "display_data"
    },
    {
     "name": "stdout",
     "output_type": "stream",
     "text": [
      "=======================================================================\n",
      "Query: Compare the descriptions of Falcon Secure Bank and Helix Fintech Solutions. What aspects of their operations contribute to one being perceived as having higher transparency and regulatory compliance than the other?\n",
      "=======================================================================\n"
     ]
    },
    {
     "data": {
      "text/html": [
       "<div style='white-space: pre-wrap; word-wrap: break-word;'>Based on the provided context, Falcon Secure Bank and Helix Fintech Solutions differ significantly in their approach to transparency and regulatory compliance. Falcon Secure Bank is described as a digital-only institution with cutting-edge cybersecurity and rigorous internal audits. Consistently demonstrating strong compliance practices and transparent operations, Falcon Secure Bank has earned the trust of its customers and regulators alike. This suggests that Falcon Secure Bank has a well-established compliance program in place, with regular internal and external audits, robust cybersecurity measures, and a focus on ethical business practices.\n",
       "\n",
       "Helix Fintech Solutions, on the other hand, is a rapidly growing startup in the financial technology space that has partnered with numerous unregulated advisors. This strategy has resulted in a patchwork of compliance practices, prompting internal reviews for potential fraud and mismanagement of client funds. The absence of a consistent and comprehensive compliance program, as well as the association with unregulated advisors, raises concerns about transparency and regulatory compliance at Helix Fintech Solutions.\n",
       "\n",
       "In summary, the key factors contributing to Falcon Secure Bank being perceived as having higher transparency and regulatory compliance than Helix Fintech Solutions include:\n",
       "\n",
       "1. Cutting-edge cybersecurity\n",
       "2. Rigorous internal audits\n",
       "3. Consistent demonstration of strong compliance practices\n",
       "4. Transparent operations\n",
       "5. Renowned reputation with customers and regulators\n",
       "\n",
       "Helix Fintech Solutions, on the other hand, has raised concerns about its transparency and regulatory compliance due to its patchwork of compliance practices and association with unregulated advisors.</div>"
      ],
      "text/plain": [
       "<IPython.core.display.HTML object>"
      ]
     },
     "metadata": {},
     "output_type": "display_data"
    },
    {
     "name": "stdout",
     "output_type": "stream",
     "text": [
      "=======================================================================\n"
     ]
    }
   ],
   "source": [
    "from IPython.display import display, HTML\n",
    "responses = []\n",
    "for query in queries:\n",
    "\n",
    "    print(f\"Query: {query}\")\n",
    "    print(\"=======================================================================\")\n",
    "\n",
    "    # Run inference for each query\n",
    "    response = inference(query,prompt_styles[4])\n",
    "\n",
    "    # To display it as wrapped HTML\n",
    "    display(HTML(f\"<div style='white-space: pre-wrap; word-wrap: break-word;'>{response}</div>\"))\n",
    "    print(\"=======================================================================\")"
   ]
  },
  {
   "cell_type": "markdown",
   "metadata": {},
   "source": [
    "## Scalable Data Pipeline: Production-Grade Enhancements\n",
    "\n",
    "While our current pipeline successfully processes a moderate dataset, it has several limitations for large-scale, production-level use. Below are the key drawbacks of the current approach compared to a proposed, more scalable solution.\n",
    "\n",
    "### Drawbacks of the Current Approach\n",
    "\n",
    "1. **Memory Limitation**\n",
    "   - The current implementation uses a streaming method for parsing; however, any operation that attempts to load large files entirely into memory can create bottlenecks.\n",
    "\n",
    "2. **Scalability Issues in Embedding**\n",
    "   - Embedding all documents at once using `model.encode(corpus)` leads to:\n",
    "     - **High Memory Usage:** Processing large datasets in a single batch is memory intensive.\n",
    "     - **Slow Startup Times:** Repeated loading of the embedding model for large batches adversely impacts performance.\n",
    "\n",
    "3. **Index Management**\n",
    "   - **Current FAISS Index (IndexFlatL2):**\n",
    "     - Does not support incremental updates efficiently.\n",
    "     - Requires rebuilding the index on every application restart due to lack of persistence.\n",
    "     - Lacks sophisticated querying capabilities (e.g., metadata filtering).\n",
    "\n",
    "4. **Data Persistence**\n",
    "   - The in-memory mapping (`id_to_doc`) is not stored persistently, requiring the index and mappings to be rebuilt on every run.\n",
    "\n",
    "### Proposed Scalable Production Pipeline\n",
    "\n",
    "To overcome these limitations, the following production-grade, scalable solution is recommended:\n",
    "\n",
    "1. **Data Streaming and Chunking**\n",
    "   - Process the input file in smaller chunks or line-by-line to avoid memory bottlenecks.\n",
    "   - Store parsed documents in a structured format (e.g., JSONL or a dedicated database) for incremental processing.\n",
    "\n",
    "2. **Embedding Management**\n",
    "   - Implement batch embedding to conserve memory and allow incremental indexing.\n",
    "   - Embed documents in smaller batches and update the FAISS index progressively.\n",
    "\n",
    "3. **Efficient FAISS Indexing**\n",
    "   - Switch from `IndexFlatL2` to a more advanced index type like `IndexIVFFlat` or `IndexHNSWFlat` to handle large-scale datasets.\n",
    "   - Persist the FAISS index to disk for quick reloading, avoiding complete rebuilds with each restart.\n",
    "\n",
    "4. **Persistent Storage for Metadata**\n",
    "   - Use a persistent storage solution (e.g., SQLite, MongoDB, or Redis) to maintain document metadata and `id_to_doc` mappings.\n",
    "   - This approach supports incremental updates and provides a restart-friendly environment.\n",
    "\n",
    "### Benefits of the Proposed Pipeline\n",
    "\n",
    "- **Scalable Data Handling:**  \n",
    "  Processes documents incrementally, thereby efficiently managing memory and compute resources.\n",
    "\n",
    "- **Persistent Storage:**  \n",
    "  Both the FAISS index and document metadata are saved to disk, eliminating the need for frequent re-indexing.\n",
    "\n",
    "- **Optimized Query Performance:**  \n",
    "  Advanced FAISS index types and persistent metadata enable faster, more robust query handling with filtering options.\n",
    "\n",
    "- **Production Readiness:**  \n",
    "  The scalable architecture is designed to handle real-world workloads, ensuring better performance, maintainability, and robustness.\n",
    "\n",
    "This enhanced pipeline significantly improves scalability and efficiency, paving the way for deployment in production-level environments."
   ]
  },
  {
   "cell_type": "code",
   "execution_count": null,
   "metadata": {},
   "outputs": [],
   "source": [
    "\"\"\"\n",
    "Production-ready implementation of document indexing and querying using FAISS, SentenceTransformers,\n",
    "and SQLite for metadata storage.\n",
    "\"\"\"\n",
    "\n",
    "import os\n",
    "import re\n",
    "from typing import Any, Dict, List, Tuple\n",
    "\n",
    "import numpy as np\n",
    "import faiss\n",
    "import sqlite3\n",
    "from dotenv import load_dotenv\n",
    "from sentence_transformers import SentenceTransformer\n",
    "\n",
    "# Load environment variables\n",
    "load_dotenv(dotenv_path=\"../.env\")\n",
    "\n",
    "# Constants loaded from environment\n",
    "FILE_PATH = os.getenv(\"FILE_PATH2\")\n",
    "MODEL_NAME = \"BAAI/bge-small-en-v1.5\"\n",
    "INDEX_PATH = \"faiss_index.bin\"\n",
    "DB_PATH = \"documents.db\"\n",
    "\n",
    "\n",
    "# ---------------------- Data Loading and Preprocessing ---------------------- #\n",
    "\n",
    "def load_and_preprocess_data(file_path: str) -> List[Dict[str, Any]]:\n",
    "    \"\"\"Load and preprocess the dataset by streaming from file.\"\"\"\n",
    "    documents = []\n",
    "    with open(file_path, \"r\", encoding=\"utf-8\") as file:\n",
    "        buffer = \"\"\n",
    "        for line in file:\n",
    "            if line.startswith(\"Document \") and buffer:\n",
    "                doc = parse_document(buffer)\n",
    "                if doc:\n",
    "                    documents.append(doc)\n",
    "                buffer = \"\"\n",
    "            buffer += line\n",
    "        if buffer:\n",
    "            doc = parse_document(buffer)\n",
    "            if doc:\n",
    "                documents.append(doc)\n",
    "    return documents\n",
    "\n",
    "\n",
    "def parse_document(raw_document: str) -> Dict[str, Any]:\n",
    "    \"\"\"Parse a single raw document from the given text.\"\"\"\n",
    "    pattern = r\"Document (\\d+): (.*?)\\nDescription:\\n(.*)\"\n",
    "    match = re.match(pattern, raw_document, re.DOTALL)\n",
    "    if match:\n",
    "        doc_id, title, text = match.groups()\n",
    "        return {\n",
    "            \"doc_id\": int(doc_id),\n",
    "            \"title\": title.strip(),\n",
    "            \"text\": text.strip(),\n",
    "        }\n",
    "    return {}\n",
    "\n",
    "\n",
    "# ---------------------- Text Embedding ---------------------- #\n",
    "\n",
    "def embed_texts(documents: List[Dict[str, Any]], model_name: str = MODEL_NAME) -> np.ndarray:\n",
    "    \"\"\"Embed texts using SentenceTransformer in batches.\"\"\"\n",
    "    model = SentenceTransformer(model_name)\n",
    "    embeddings = []\n",
    "    batch_size = 64\n",
    "\n",
    "    for start_idx in range(0, len(documents), batch_size):\n",
    "        batch = documents[start_idx:start_idx + batch_size]\n",
    "        corpus = [f\"{doc['title']}: {doc['text']}\" for doc in batch]\n",
    "        embeddings_batch = model.encode(corpus, show_progress_bar=True)\n",
    "        embeddings.append(embeddings_batch)\n",
    "\n",
    "    return np.vstack(embeddings).astype(np.float32)\n",
    "\n",
    "\n",
    "# ---------------------- FAISS Index Management ---------------------- #\n",
    "\n",
    "def create_faiss_index(force_recreate: bool = False) -> Tuple[faiss.Index, Dict[int, Dict[str, Any]]]:\n",
    "    \"\"\"Create or load a FAISS index and metadata.\"\"\"\n",
    "    if not FILE_PATH:\n",
    "        raise ValueError(\"FILE_PATH environment variable is not set.\")\n",
    "\n",
    "    documents = load_and_preprocess_data(FILE_PATH)\n",
    "    embeddings = embed_texts(documents)\n",
    "\n",
    "    dimension = embeddings.shape[1]\n",
    "\n",
    "    if not force_recreate and os.path.exists(INDEX_PATH):\n",
    "        index = faiss.read_index(INDEX_PATH)\n",
    "        print(f\"FAISS index loaded from {INDEX_PATH}.\")\n",
    "    else:\n",
    "        index = faiss.IndexHNSWFlat(dimension, 32)\n",
    "        index.hnsw.efConstruction = 40\n",
    "        index.add(embeddings)\n",
    "        faiss.write_index(index, INDEX_PATH)\n",
    "        print(f\"FAISS index created with {len(documents)} documents and saved to {INDEX_PATH}.\")\n",
    "\n",
    "        store_metadata(documents)\n",
    "\n",
    "    id_to_doc = {idx: doc for idx, doc in enumerate(documents)}\n",
    "    return index, id_to_doc\n",
    "\n",
    "\n",
    "# ---------------------- Metadata Management ---------------------- #\n",
    "\n",
    "def store_metadata(documents: List[Dict[str, Any]]) -> None:\n",
    "    \"\"\"Store document metadata in SQLite.\"\"\"\n",
    "    with sqlite3.connect(DB_PATH) as conn:\n",
    "        cursor = conn.cursor()\n",
    "        cursor.execute(\"\"\"\n",
    "            CREATE TABLE IF NOT EXISTS documents (\n",
    "                id INTEGER PRIMARY KEY AUTOINCREMENT,\n",
    "                doc_id INTEGER,\n",
    "                title TEXT,\n",
    "                text TEXT\n",
    "            )\n",
    "        \"\"\")\n",
    "        cursor.executemany(\"\"\"\n",
    "            INSERT INTO documents (doc_id, title, text)\n",
    "            VALUES (?, ?, ?)\n",
    "        \"\"\", [(doc['doc_id'], doc['title'], doc['text']) for doc in documents])\n",
    "\n",
    "        conn.commit()\n",
    "\n",
    "\n",
    "# ---------------------- Search and Retrieval ---------------------- #\n",
    "\n",
    "def search_query(query: str, index: faiss.Index, model: SentenceTransformer, top_k: int = 5) -> List[int]:\n",
    "    \"\"\"Search FAISS index for the most relevant documents.\"\"\"\n",
    "    query_embedding = model.encode([query]).astype(np.float32)\n",
    "    _, indices = index.search(query_embedding, top_k)\n",
    "    return indices[0].tolist()\n",
    "\n",
    "\n",
    "def retrieve_document(doc_idx: int) -> Dict[str, Any]:\n",
    "    \"\"\"Retrieve document details from the database by index.\"\"\"\n",
    "    with sqlite3.connect(DB_PATH) as conn:\n",
    "        cursor = conn.cursor()\n",
    "        cursor.execute(\"SELECT doc_id, title, text FROM documents WHERE id=?\", (doc_idx + 1,))\n",
    "        result = cursor.fetchone()\n",
    "        return {\"doc_id\": result[0], \"title\": result[1], \"text\": result[2]} if result else {}"
   ]
  },
  {
   "cell_type": "code",
   "execution_count": 6,
   "metadata": {},
   "outputs": [
    {
     "name": "stderr",
     "output_type": "stream",
     "text": [
      "Batches: 100%|██████████| 2/2 [00:00<00:00, 40.18it/s]\n",
      "Batches: 100%|██████████| 2/2 [00:00<00:00, 70.93it/s]"
     ]
    },
    {
     "name": "stdout",
     "output_type": "stream",
     "text": [
      "FAISS index created with 100 documents and saved to faiss_index.bin.\n"
     ]
    },
    {
     "name": "stderr",
     "output_type": "stream",
     "text": [
      "\n"
     ]
    }
   ],
   "source": [
    "# ---------------------- Main Execution (for Testing) ---------------------- #\n",
    "transformer_model = SentenceTransformer(MODEL_NAME)\n",
    "faiss_index, metadata = create_faiss_index(force_recreate=True)"
   ]
  },
  {
   "cell_type": "code",
   "execution_count": 7,
   "metadata": {},
   "outputs": [],
   "source": [
    "queries = [\n",
    "\"Tell me about Rivera-Taylor?\",\n",
    "\"Which organizations show signs of potential money laundering through complex structures?\",\n",
    "\"What irregular transaction patterns are identified for Aurora Financial Services, and why do these raise concerns about potential money laundering?\",\n",
    "]"
   ]
  },
  {
   "cell_type": "code",
   "execution_count": 8,
   "metadata": {},
   "outputs": [
    {
     "name": "stdout",
     "output_type": "stream",
     "text": [
      "Document ID: 68, Title: Warren-Wilson\n",
      "Document ID: 66, Title: Smith-Richardson\n",
      "Document ID: 40, Title: Hernandez Ltd\n",
      "Document ID: 72, Title: Orr, Wells and Carr\n",
      "Document ID: 82, Title: Harris-Hill\n"
     ]
    }
   ],
   "source": [
    "sample_query = queries[0]\n",
    "top_indices = search_query(sample_query, faiss_index, transformer_model, top_k=5)\n",
    "\n",
    "for idx in top_indices:\n",
    "    doc = retrieve_document(idx)\n",
    "    print(f\"Document ID: {doc['doc_id']}, Title: {doc['title']}\")"
   ]
  },
  {
   "cell_type": "code",
   "execution_count": 6,
   "metadata": {},
   "outputs": [
    {
     "name": "stdout",
     "output_type": "stream",
     "text": [
      "Description: Based in Alexmouth, Munoz and Sons was recently flagged for frequent restructuring of directorships. Reports suggest potential layering of funds.\n",
      "Description: Based in London, Blue Horizon Investments is known for its innovative portfolio strategies. However, irregular transaction patterns and rapid, unexplained fund movements have raised concerns about possible insider trading and manipulation.\n",
      "Description: Harris-Davis, a firm operating out of Clarkton, is suspected of unusual transaction patterns. Authorities noted money trails disappearing across multiple tax havens.\n",
      "Description: headquartered in North Darrylview, Ball, Ashley and Thompson has come under scrutiny for establishing shell entities across jurisdictions. Investigations revealed a network of offshore holdings used to channel funds.\n",
      "Description: Based in South John, Dyer-Valdez was recently flagged for establishing shell entities across jurisdictions. Reports suggest a network of offshore holdings used to channel funds.\n"
     ]
    }
   ],
   "source": [
    "for idx in top_indices:\n",
    "    doc = retrieve_document(idx)\n",
    "    print(f\"Description: {doc['text']}\")"
   ]
  },
  {
   "cell_type": "code",
   "execution_count": 2,
   "metadata": {},
   "outputs": [
    {
     "name": "stderr",
     "output_type": "stream",
     "text": [
      "Batches: 100%|██████████| 2/2 [00:00<00:00, 12.93it/s]"
     ]
    },
    {
     "name": "stdout",
     "output_type": "stream",
     "text": [
      "FAISS index created and saved with 50 documents.\n",
      "FAISS index now has 50 documents indexed.\n"
     ]
    },
    {
     "name": "stderr",
     "output_type": "stream",
     "text": [
      "\n"
     ]
    }
   ],
   "source": [
    "index2, id_to_doc2 = create_faiss_index(force_recreate=True)\n",
    "\n",
    "print(f\"FAISS index now has {index2.ntotal} documents indexed.\")"
   ]
  },
  {
   "cell_type": "code",
   "execution_count": null,
   "metadata": {},
   "outputs": [],
   "source": []
  },
  {
   "cell_type": "code",
   "execution_count": 4,
   "metadata": {},
   "outputs": [],
   "source": [
    "indices_list = search_query(queries[0],index2,SentenceTransformer(MODEL_NAME))"
   ]
  },
  {
   "cell_type": "code",
   "execution_count": 5,
   "metadata": {},
   "outputs": [
    {
     "data": {
      "text/plain": [
       "[7, 19, 31, 43, 11]"
      ]
     },
     "execution_count": 5,
     "metadata": {},
     "output_type": "execute_result"
    }
   ],
   "source": [
    "indices_list"
   ]
  },
  {
   "cell_type": "code",
   "execution_count": 6,
   "metadata": {},
   "outputs": [
    {
     "name": "stdout",
     "output_type": "stream",
     "text": [
      "Top 5 documents for query 'Tell me about Cascade Capital Management?':\n",
      "documents:\n",
      " [{'doc_id': 8, 'title': 'Falcon Secure Bank', 'text': 'Falcon Secure Bank is a digital-only institution acclaimed for its cutting-edge cybersecurity and rigorous internal audits. The bank consistently demonstrates strong compliance practices and transparent operations, earning the trust of its customers and regulators alike.'}, {'doc_id': 8, 'title': 'Frederick-Foster', 'text': 'headquartered in Matthewstad, Frederick-Foster has come under scrutiny for large-scale anonymous investments. Investigations revealed money trails disappearing across multiple tax havens.'}, {'doc_id': 20, 'title': 'Lucero Inc', 'text': 'Located in Villanuevaburgh, Lucero Inc has raised red flags after frequent restructuring of directorships. It was found that potential layering of funds.'}, {'doc_id': 32, 'title': 'Walker LLC', 'text': 'headquartered in Matthewsville, Walker LLC has come under scrutiny for unverified high-volume cross-border transactions. Investigations revealed a network of offshore holdings used to channel funds.'}, {'doc_id': 12, 'title': 'Lunar Investment Group', 'text': 'Lunar Investment Group, based in Singapore, is a diversified investment firm with an impeccable compliance record. Its operations are characterized by detailed documentation and transparent fund management practices, ensuring full adherence to regulatory requirements.'}]\n"
     ]
    }
   ],
   "source": [
    "documents = []\n",
    "for value in indices_list:\n",
    "    documents.append(retrieve_document(value))\n",
    "print(f\"Top 5 documents for query '{queries[0]}':\")\n",
    "print(\"documents:\\n\", documents)"
   ]
  },
  {
   "cell_type": "code",
   "execution_count": 7,
   "metadata": {},
   "outputs": [
    {
     "name": "stdout",
     "output_type": "stream",
     "text": [
      "Title\n",
      ": Falcon Secure Bank\n",
      "Text\n",
      ": Falcon Secure Bank is a digital-only institution acclaimed for its cutting-edge cybersecurity and rigorous internal audits. The bank consistently demonstrates strong compliance practices and transparent operations, earning the trust of its customers and regulators alike.\n",
      "\n",
      "Title\n",
      ": Frederick-Foster\n",
      "Text\n",
      ": headquartered in Matthewstad, Frederick-Foster has come under scrutiny for large-scale anonymous investments. Investigations revealed money trails disappearing across multiple tax havens.\n",
      "\n",
      "Title\n",
      ": Lucero Inc\n",
      "Text\n",
      ": Located in Villanuevaburgh, Lucero Inc has raised red flags after frequent restructuring of directorships. It was found that potential layering of funds.\n",
      "\n",
      "Title\n",
      ": Walker LLC\n",
      "Text\n",
      ": headquartered in Matthewsville, Walker LLC has come under scrutiny for unverified high-volume cross-border transactions. Investigations revealed a network of offshore holdings used to channel funds.\n",
      "\n",
      "Title\n",
      ": Lunar Investment Group\n",
      "Text\n",
      ": Lunar Investment Group, based in Singapore, is a diversified investment firm with an impeccable compliance record. Its operations are characterized by detailed documentation and transparent fund management practices, ensuring full adherence to regulatory requirements.\n",
      "\n"
     ]
    }
   ],
   "source": [
    "for doc in documents:\n",
    "    print(f\"Title\\n: {doc['title']}\\nText\\n: {doc['text']}\\n\")\n"
   ]
  }
 ],
 "metadata": {
  "kernelspec": {
   "display_name": ".venv",
   "language": "python",
   "name": "python3"
  },
  "language_info": {
   "codemirror_mode": {
    "name": "ipython",
    "version": 3
   },
   "file_extension": ".py",
   "mimetype": "text/x-python",
   "name": "python",
   "nbconvert_exporter": "python",
   "pygments_lexer": "ipython3",
   "version": "3.13.0"
  }
 },
 "nbformat": 4,
 "nbformat_minor": 2
}
