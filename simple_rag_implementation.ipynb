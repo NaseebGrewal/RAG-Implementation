{
 "cells": [
  {
   "cell_type": "markdown",
   "metadata": {},
   "source": [
    "## Retrieval-Augmented Generation (RAG) Notebook Overview\n",
    "\n",
    "This notebook demonstrates the complete workflow of a simple RAG system designed to identify potentially suspicious organizations from a fictional dataset. The main steps include:\n",
    "\n",
    "1. **Dependency Installation:**  \n",
    "   Ensuring that all necessary Python packages are installed for the notebook to run smoothly.\n",
    "\n",
    "2. **Data Indexing:**  \n",
    "   Loading and preparing a dataset of organization descriptions.\n",
    "\n",
    "3. **Embedding Generation:**  \n",
    "   Using a pre-trained SentenceTransformer model to convert text descriptions into numerical embeddings.\n",
    "\n",
    "4. **Similarity Search:**  \n",
    "   Leveraging FAISS to perform efficient vector similarity searches between a user query and document embeddings.\n",
    "\n",
    "5. **Prompt Construction:**  \n",
    "   Building a query prompt by integrating the top-k retrieved document details.\n",
    "\n",
    "6. **Response Generation:**  \n",
    "   Using the Hugging Face Mistral API to generate human-like answers based on the constructed prompt.\n",
    "\n",
    "\n",
    "\n",
    "Follow the cells sequentially to install dependencies, index the data, generate embeddings, perform the similarity search, and finally produce a detailed, human-like response."
   ]
  },
  {
   "cell_type": "code",
   "execution_count": 1,
   "metadata": {},
   "outputs": [
    {
     "name": "stdout",
     "output_type": "stream",
     "text": [
      "Requirement already satisfied: sentence_transformers in ./.venv/lib/python3.13/site-packages (from -r requirements.txt (line 1)) (4.0.2)\n",
      "Requirement already satisfied: faiss-cpu in ./.venv/lib/python3.13/site-packages (from -r requirements.txt (line 2)) (1.10.0)\n",
      "Requirement already satisfied: numpy in ./.venv/lib/python3.13/site-packages (from -r requirements.txt (line 3)) (2.2.4)\n",
      "Requirement already satisfied: python-dotenv in ./.venv/lib/python3.13/site-packages (from -r requirements.txt (line 4)) (1.1.0)\n",
      "Requirement already satisfied: openai in ./.venv/lib/python3.13/site-packages (from -r requirements.txt (line 5)) (1.72.0)\n",
      "Requirement already satisfied: transformers<5.0.0,>=4.41.0 in ./.venv/lib/python3.13/site-packages (from sentence_transformers->-r requirements.txt (line 1)) (4.51.1)\n",
      "Requirement already satisfied: tqdm in ./.venv/lib/python3.13/site-packages (from sentence_transformers->-r requirements.txt (line 1)) (4.67.1)\n",
      "Requirement already satisfied: torch>=1.11.0 in ./.venv/lib/python3.13/site-packages (from sentence_transformers->-r requirements.txt (line 1)) (2.6.0)\n",
      "Requirement already satisfied: scikit-learn in ./.venv/lib/python3.13/site-packages (from sentence_transformers->-r requirements.txt (line 1)) (1.6.1)\n",
      "Requirement already satisfied: scipy in ./.venv/lib/python3.13/site-packages (from sentence_transformers->-r requirements.txt (line 1)) (1.15.2)\n",
      "Requirement already satisfied: huggingface-hub>=0.20.0 in ./.venv/lib/python3.13/site-packages (from sentence_transformers->-r requirements.txt (line 1)) (0.30.2)\n",
      "Requirement already satisfied: Pillow in ./.venv/lib/python3.13/site-packages (from sentence_transformers->-r requirements.txt (line 1)) (11.1.0)\n",
      "Requirement already satisfied: typing_extensions>=4.5.0 in ./.venv/lib/python3.13/site-packages (from sentence_transformers->-r requirements.txt (line 1)) (4.13.1)\n",
      "Requirement already satisfied: packaging in ./.venv/lib/python3.13/site-packages (from faiss-cpu->-r requirements.txt (line 2)) (24.2)\n",
      "Requirement already satisfied: anyio<5,>=3.5.0 in ./.venv/lib/python3.13/site-packages (from openai->-r requirements.txt (line 5)) (4.9.0)\n",
      "Requirement already satisfied: distro<2,>=1.7.0 in ./.venv/lib/python3.13/site-packages (from openai->-r requirements.txt (line 5)) (1.9.0)\n",
      "Requirement already satisfied: httpx<1,>=0.23.0 in ./.venv/lib/python3.13/site-packages (from openai->-r requirements.txt (line 5)) (0.28.1)\n",
      "Requirement already satisfied: jiter<1,>=0.4.0 in ./.venv/lib/python3.13/site-packages (from openai->-r requirements.txt (line 5)) (0.9.0)\n",
      "Requirement already satisfied: pydantic<3,>=1.9.0 in ./.venv/lib/python3.13/site-packages (from openai->-r requirements.txt (line 5)) (2.11.3)\n",
      "Requirement already satisfied: sniffio in ./.venv/lib/python3.13/site-packages (from openai->-r requirements.txt (line 5)) (1.3.1)\n",
      "Requirement already satisfied: idna>=2.8 in ./.venv/lib/python3.13/site-packages (from anyio<5,>=3.5.0->openai->-r requirements.txt (line 5)) (3.10)\n",
      "Requirement already satisfied: certifi in ./.venv/lib/python3.13/site-packages (from httpx<1,>=0.23.0->openai->-r requirements.txt (line 5)) (2025.1.31)\n",
      "Requirement already satisfied: httpcore==1.* in ./.venv/lib/python3.13/site-packages (from httpx<1,>=0.23.0->openai->-r requirements.txt (line 5)) (1.0.7)\n",
      "Requirement already satisfied: h11<0.15,>=0.13 in ./.venv/lib/python3.13/site-packages (from httpcore==1.*->httpx<1,>=0.23.0->openai->-r requirements.txt (line 5)) (0.14.0)\n",
      "Requirement already satisfied: filelock in ./.venv/lib/python3.13/site-packages (from huggingface-hub>=0.20.0->sentence_transformers->-r requirements.txt (line 1)) (3.18.0)\n",
      "Requirement already satisfied: fsspec>=2023.5.0 in ./.venv/lib/python3.13/site-packages (from huggingface-hub>=0.20.0->sentence_transformers->-r requirements.txt (line 1)) (2025.3.2)\n",
      "Requirement already satisfied: pyyaml>=5.1 in ./.venv/lib/python3.13/site-packages (from huggingface-hub>=0.20.0->sentence_transformers->-r requirements.txt (line 1)) (6.0.2)\n",
      "Requirement already satisfied: requests in ./.venv/lib/python3.13/site-packages (from huggingface-hub>=0.20.0->sentence_transformers->-r requirements.txt (line 1)) (2.32.3)\n",
      "Requirement already satisfied: annotated-types>=0.6.0 in ./.venv/lib/python3.13/site-packages (from pydantic<3,>=1.9.0->openai->-r requirements.txt (line 5)) (0.7.0)\n",
      "Requirement already satisfied: pydantic-core==2.33.1 in ./.venv/lib/python3.13/site-packages (from pydantic<3,>=1.9.0->openai->-r requirements.txt (line 5)) (2.33.1)\n",
      "Requirement already satisfied: typing-inspection>=0.4.0 in ./.venv/lib/python3.13/site-packages (from pydantic<3,>=1.9.0->openai->-r requirements.txt (line 5)) (0.4.0)\n",
      "Requirement already satisfied: networkx in ./.venv/lib/python3.13/site-packages (from torch>=1.11.0->sentence_transformers->-r requirements.txt (line 1)) (3.4.2)\n",
      "Requirement already satisfied: jinja2 in ./.venv/lib/python3.13/site-packages (from torch>=1.11.0->sentence_transformers->-r requirements.txt (line 1)) (3.1.6)\n",
      "Requirement already satisfied: setuptools in ./.venv/lib/python3.13/site-packages (from torch>=1.11.0->sentence_transformers->-r requirements.txt (line 1)) (78.1.0)\n",
      "Requirement already satisfied: sympy==1.13.1 in ./.venv/lib/python3.13/site-packages (from torch>=1.11.0->sentence_transformers->-r requirements.txt (line 1)) (1.13.1)\n",
      "Requirement already satisfied: mpmath<1.4,>=1.1.0 in ./.venv/lib/python3.13/site-packages (from sympy==1.13.1->torch>=1.11.0->sentence_transformers->-r requirements.txt (line 1)) (1.3.0)\n",
      "Requirement already satisfied: regex!=2019.12.17 in ./.venv/lib/python3.13/site-packages (from transformers<5.0.0,>=4.41.0->sentence_transformers->-r requirements.txt (line 1)) (2024.11.6)\n",
      "Requirement already satisfied: tokenizers<0.22,>=0.21 in ./.venv/lib/python3.13/site-packages (from transformers<5.0.0,>=4.41.0->sentence_transformers->-r requirements.txt (line 1)) (0.21.1)\n",
      "Requirement already satisfied: safetensors>=0.4.3 in ./.venv/lib/python3.13/site-packages (from transformers<5.0.0,>=4.41.0->sentence_transformers->-r requirements.txt (line 1)) (0.5.3)\n",
      "Requirement already satisfied: joblib>=1.2.0 in ./.venv/lib/python3.13/site-packages (from scikit-learn->sentence_transformers->-r requirements.txt (line 1)) (1.4.2)\n",
      "Requirement already satisfied: threadpoolctl>=3.1.0 in ./.venv/lib/python3.13/site-packages (from scikit-learn->sentence_transformers->-r requirements.txt (line 1)) (3.6.0)\n",
      "Requirement already satisfied: MarkupSafe>=2.0 in ./.venv/lib/python3.13/site-packages (from jinja2->torch>=1.11.0->sentence_transformers->-r requirements.txt (line 1)) (3.0.2)\n",
      "Requirement already satisfied: charset-normalizer<4,>=2 in ./.venv/lib/python3.13/site-packages (from requests->huggingface-hub>=0.20.0->sentence_transformers->-r requirements.txt (line 1)) (3.4.1)\n",
      "Requirement already satisfied: urllib3<3,>=1.21.1 in ./.venv/lib/python3.13/site-packages (from requests->huggingface-hub>=0.20.0->sentence_transformers->-r requirements.txt (line 1)) (2.3.0)\n",
      "\n",
      "\u001b[1m[\u001b[0m\u001b[34;49mnotice\u001b[0m\u001b[1;39;49m]\u001b[0m\u001b[39;49m A new release of pip is available: \u001b[0m\u001b[31;49m24.2\u001b[0m\u001b[39;49m -> \u001b[0m\u001b[32;49m25.0.1\u001b[0m\n",
      "\u001b[1m[\u001b[0m\u001b[34;49mnotice\u001b[0m\u001b[1;39;49m]\u001b[0m\u001b[39;49m To update, run: \u001b[0m\u001b[32;49mpip install --upgrade pip\u001b[0m\n",
      "Note: you may need to restart the kernel to use updated packages.\n"
     ]
    }
   ],
   "source": [
    "%pip install -r requirements.txt"
   ]
  },
  {
   "cell_type": "markdown",
   "metadata": {},
   "source": [
    "## FAISS Index Creation and Data Embedding Details\n",
    "\n",
    "This cell contains key functions that enable the Retrieval-Augmented Generation (RAG) system to process and index the dataset. The main steps are:\n",
    "\n",
    "1. **Data Loading & Preprocessing:**\n",
    "   - **Function:** `load_and_preprocess_data`\n",
    "   - **Purpose:**  \n",
    "     Reads the raw dataset file from the specified `FILE_PATH` and parses it using a regular expression.  \n",
    "     It extracts each document's ID, title, and description, returning a list of dictionaries.\n",
    "\n",
    "2. **Embedding Generation:**\n",
    "   - **Function:** `embed_texts`\n",
    "   - **Purpose:**  \n",
    "     Uses a pre-trained SentenceTransformer model (default: `\"BAAI/bge-small-en-v1.5\"`) to generate vector embeddings for each document.  \n",
    "     The embeddings are computed from a concatenation of the document title and text, then returned as a NumPy array.\n",
    "\n",
    "3. **FAISS Index Construction:**\n",
    "   - **Function:** `create_faiss_index`\n",
    "   - **Purpose:**  \n",
    "     Combines the data loading and embedding functions to build a FAISS index with L2 distance (using `faiss.IndexFlatL2`).  \n",
    "     It indexes the embeddings and also creates a mapping between index positions and the original document dictionaries for later retrieval.\n",
    "\n",
    "> **Note:**  \n",
    "> Ensure the `.env` file is configured with the correct `FILE_PATH` to your dataset before running this cell."
   ]
  },
  {
   "cell_type": "code",
   "execution_count": null,
   "metadata": {},
   "outputs": [
    {
     "name": "stderr",
     "output_type": "stream",
     "text": [
      "/Users/theowner/Documents/GitHub/Hawk-Submission/.venv/lib/python3.13/site-packages/tqdm/auto.py:21: TqdmWarning: IProgress not found. Please update jupyter and ipywidgets. See https://ipywidgets.readthedocs.io/en/stable/user_install.html\n",
      "  from .autonotebook import tqdm as notebook_tqdm\n"
     ]
    }
   ],
   "source": [
    "import os\n",
    "import re\n",
    "from typing import Any, Dict, List, Tuple\n",
    "\n",
    "import numpy as np\n",
    "import faiss\n",
    "\n",
    "from dotenv import load_dotenv\n",
    "from sentence_transformers import SentenceTransformer\n",
    "\n",
    "# Load environment variables\n",
    "load_dotenv(dotenv_path=\"../.env\")\n",
    "\n",
    "# Constants\n",
    "FILE_PATH = os.getenv(\"FILE_PATH\")\n",
    "\n",
    "\n",
    "def load_and_preprocess_data(file_path: str) -> List[Dict[str, Any]]:\n",
    "    \"\"\"\n",
    "    Load and preprocess the dataset from the given file path.\n",
    "    \n",
    "    Args:\n",
    "        file_path (str): Path to the text file containing documents.\n",
    "\n",
    "    Returns:\n",
    "        List[Dict[str, Any]]: A list of dictionaries containing parsed document information.\n",
    "    \"\"\"\n",
    "    with open(file_path, \"r\", encoding=\"utf-8\") as file:\n",
    "        raw_text = file.read()\n",
    "\n",
    "    pattern = r\"Document (\\d+): (.*?)\\nDescription:\\n(.*?)(?=\\nDocument \\d+:|\\Z)\"\n",
    "    matches = re.findall(pattern, raw_text, re.DOTALL)\n",
    "\n",
    "    documents = [\n",
    "        {\n",
    "            \"doc_id\": int(doc_id),\n",
    "            \"title\": title.strip(),\n",
    "            \"text\": description.strip(),\n",
    "        }\n",
    "        for doc_id, title, description in matches\n",
    "    ]\n",
    "    return documents\n",
    "\n",
    "\n",
    "def embed_texts(\n",
    "    documents: List[Dict[str, Any]], model_name: str = \"BAAI/bge-small-en-v1.5\"\n",
    ") -> np.ndarray:\n",
    "    \"\"\"\n",
    "    Embed the texts using a SentenceTransformer model.\n",
    "\n",
    "    Args:\n",
    "        documents (List[Dict[str, Any]]): List of documents with 'title' and 'text'.\n",
    "        model_name (str): Name of the SentenceTransformer model to use.\n",
    "\n",
    "    Returns:\n",
    "        np.ndarray: Embeddings for the input documents.\n",
    "    \"\"\"\n",
    "    model = SentenceTransformer(model_name)\n",
    "    corpus = [f\"{doc['title']}: {doc['text']}\" for doc in documents]\n",
    "    embeddings = model.encode(corpus, show_progress_bar=True)\n",
    "    return np.array(embeddings, dtype=np.float32)\n",
    "\n",
    "\n",
    "def create_faiss_index() -> Tuple[faiss.Index, Dict[int, Dict[str, Any]]]:\n",
    "    \"\"\"\n",
    "    Create a FAISS index from the embedded document vectors.\n",
    "\n",
    "    Returns:\n",
    "        Tuple[faiss.Index, Dict[int, Dict[str, Any]]]: \n",
    "            FAISS index and mapping from index ID to document.\n",
    "    \"\"\"\n",
    "    file_path = os.getenv(\"FILE_PATH\")\n",
    "    if not file_path:\n",
    "        raise ValueError(\"FILE_PATH environment variable is not set.\")\n",
    "\n",
    "    documents = load_and_preprocess_data(file_path)\n",
    "    embeddings = embed_texts(documents)\n",
    "\n",
    "    dimension = embeddings.shape[1]\n",
    "    index = faiss.IndexFlatL2(dimension)\n",
    "    index.add(embeddings)\n",
    "\n",
    "    id_to_doc = {i: doc for i, doc in enumerate(documents)}\n",
    "\n",
    "    print(f\"FAISS index created with {index.ntotal} documents.\")\n",
    "    return index, id_to_doc\n"
   ]
  },
  {
   "cell_type": "markdown",
   "metadata": {},
   "source": [
    "## Index Creation\n",
    "\n",
    "### FAISS Index Creation:\n",
    "     The cell initializes the FAISS index by calling the `create_faiss_index()` function.  \n",
    "     This function reads and preprocesses the dataset, generates embeddings using a SentenceTransformer model, and builds a FAISS index with L2 distance.  \n",
    "     It also returns a mapping (`id_to_docs`) from index positions to document details."
   ]
  },
  {
   "cell_type": "code",
   "execution_count": 3,
   "metadata": {},
   "outputs": [
    {
     "name": "stderr",
     "output_type": "stream",
     "text": [
      "Batches: 100%|██████████| 1/1 [00:00<00:00, 11.34it/s]"
     ]
    },
    {
     "name": "stdout",
     "output_type": "stream",
     "text": [
      "FAISS index created with 12 documents.\n"
     ]
    },
    {
     "name": "stderr",
     "output_type": "stream",
     "text": [
      "\n"
     ]
    }
   ],
   "source": [
    "# create index\n",
    "index, id_to_docs = create_faiss_index() "
   ]
  },
  {
   "cell_type": "markdown",
   "metadata": {},
   "source": [
    "## Search Query Function Details\n",
    "\n",
    "This cell defines the `search_query` function, which is responsible for retrieving the top matching document snippets based on a user query. The key steps include:\n",
    "\n",
    "1. **Query Encoding:**\n",
    "   - Uses the same pre-trained SentenceTransformer model (`BAAI/bge-small-en-v1.5`) to encode the input query into a vector representation.\n",
    "\n",
    "2. **Similarity Search:**\n",
    "   - Performs a FAISS search on the pre-built index using the query embedding.\n",
    "   - Retrieves the top `k` similar documents from the index based on Euclidean (L2) distance.\n",
    "\n",
    "3. **Results Display:**\n",
    "   - Iterates over the retrieved results and prints each document's rank, title, description, and distance.\n",
    "   - Aggregates the title and description into a context list for potential further use.\n",
    "\n",
    "> **Note:**  \n",
    "> This function is optimized for a conversational AI context, enabling users to ask questions and receive relevant document snippets as answers."
   ]
  },
  {
   "cell_type": "code",
   "execution_count": null,
   "metadata": {},
   "outputs": [],
   "source": [
    "# Search Query Funcion for Index\n",
    "#  This function takes a query string, encodes it using the same model used for embedding the documents,\n",
    "#  and performs a similarity search in the FAISS index to retrieve the top k most similar documents.\n",
    "#  It returns the titles and descriptions of the top k documents along with their distances from the query.\n",
    "#  The function also prints the results in a readable format.\n",
    "#  The function is designed to be used in a conversational AI context, where the user can ask questions\n",
    "#  and receive relevant document snippets as answers.\n",
    "#  ========================================================================\n",
    "#  Search Query Function\n",
    "#  ========================================================================\n",
    "from typing import Any, Dict, List, Tuple\n",
    "import numpy as np\n",
    "from sentence_transformers import SentenceTransformer\n",
    "import faiss\n",
    "\n",
    "\n",
    "def search_query(\n",
    "    index: faiss.Index,\n",
    "    id_to_doc: Dict[int, Dict[str, Any]],\n",
    "    query: str,\n",
    "    model: SentenceTransformer = SentenceTransformer(\"BAAI/bge-small-en-v1.5\"),\n",
    "    top_k: int = 3,\n",
    ") -> List[str]:\n",
    "    \"\"\"\n",
    "    Encode the query, perform FAISS similarity search, and return top matching contexts.\n",
    "\n",
    "    Args:\n",
    "        index (faiss.Index): The FAISS index containing document embeddings.\n",
    "        id_to_doc (Dict[int, Dict[str, Any]]): Mapping from index position to document.\n",
    "        query (str): User query string.\n",
    "        model (SentenceTransformer): Preloaded SentenceTransformer model.\n",
    "        top_k (int): Number of top results to retrieve.\n",
    "\n",
    "    Returns:\n",
    "        List[str]: List of top document contexts as strings.\n",
    "    \"\"\"\n",
    "    # Encode the query\n",
    "    query_embedding = model.encode([query]).astype(\"float32\")\n",
    "\n",
    "    # Search the FAISS index\n",
    "    distances, indices = index.search(query_embedding, top_k)\n",
    "\n",
    "    # print(\"=======================================================================\")\n",
    "    # print(f\"Top {top_k} results retrieved for the Query: {query}\")\n",
    "    # print(\"=======================================================================\")\n",
    "\n",
    "    context_for_print = []\n",
    "    context: List[str] = []\n",
    "    for i, idx in enumerate(indices[0]):\n",
    "        title = id_to_doc[idx][\"title\"]\n",
    "        description = id_to_doc[idx][\"text\"]\n",
    "        distance = distances[0][i]\n",
    "        context_for_print.append((f\"Rank {i + 1}:\\n\",f\"Distance: {distance:.4f}\\n\\n\"), f\"Title: {title}\\n\", f\"Description: {description}\\n\")\n",
    "\n",
    "        # print(f\"Rank {i + 1}:\")\n",
    "        # print(f\"Title: {title}\")\n",
    "        # print(f\"Description: {description}\")\n",
    "        # print(f\"Distance: {distance:.4f}\\n\")\n",
    "\n",
    "        context.append(f\"Title: {title}\")\n",
    "        context.append(f\"Description: {description}\")\n",
    "    \n",
    "    # print(\"=======================================================================\")\n",
    "    return context, context_for_print\n"
   ]
  },
  {
   "cell_type": "markdown",
   "metadata": {},
   "source": [
    "## Prompt Generation Strategies\n",
    "\n",
    "This cell introduces multiple strategies for constructing prompts tailored to various language model inference tasks. The design is intended to offer flexibility and control over how context and queries are combined, which is especially valuable when fine-tuning interactions with large language models.\n",
    "\n",
    "### Key Components\n",
    "\n",
    "- **PromptStyle Enum:**  \n",
    "  An enumeration (`PromptStyle`) is defined to encapsulate different prompt formatting strategies, including:\n",
    "  - **STANDARD:** Basic prompt combining context and query.\n",
    "  - **FEW_SHOT:** Adds a few recent Q&A examples to guide the model.\n",
    "  - **CHAIN_OF_THOUGHT:** Encourages step-by-step reasoning.\n",
    "  - **ROLE_BASED:** Frames the query in the context of domain expertise (e.g., forensic investigator).\n",
    "  - **BULLET_POINTS:** Instructs the model to summarize findings in bullet points.\n",
    "  - **SCORING:** Requests the model to score each organization based on risk and provide explanations.\n",
    "  - **CHATML:** Utilizes a ChatML-style formatting for models that require it.\n",
    "\n",
    "- **generate_prompt Function:**  \n",
    "  This function constructs the final prompt by:\n",
    "  1. **Aggregating Context:**  \n",
    "     Joins multiple context documents with clear separation.\n",
    "  2. **Handling Optional History:**  \n",
    "     For few-shot prompting, it appends recent Q&A pairs to enrich the prompt.\n",
    "  3. **Conditionally Formatting the Prompt:**  \n",
    "     Checks the selected `prompt_style` and formats the prompt accordingly, ensuring:\n",
    "     - **Clarity & Structure:** Each version clearly lays out the context, query, and expected model behavior.\n",
    "     - **Adaptability:** Different styles serve different purposes depending on the inference task at hand.\n",
    "\n",
    "This modular approach allows data scientists to experiment with and select the most effective prompting style for their specific use case, helping optimize the quality and relevance of model responses."
   ]
  },
  {
   "cell_type": "code",
   "execution_count": 5,
   "metadata": {},
   "outputs": [],
   "source": [
    "from enum import Enum\n",
    "from typing import List, Tuple\n",
    "\n",
    "\n",
    "class PromptStyle(Enum):\n",
    "    STANDARD = \"standard\"\n",
    "    # FEW_SHOT = \"few_shot\"\n",
    "    CHAIN_OF_THOUGHT = \"chain_of_thought\"\n",
    "    ROLE_BASED = \"role_based\"\n",
    "    BULLET_POINTS = \"bullet_points\"\n",
    "    CHATML = \"chatml\"\n",
    "\n",
    "\n",
    "def generate_prompt(\n",
    "    query: str,\n",
    "    context_docs: List[str],\n",
    "    prompt_style: PromptStyle = PromptStyle.STANDARD,\n",
    "    # history: List[Tuple[str, str]] = None,\n",
    ") -> str:\n",
    "    \"\"\"\n",
    "    Generate a prompt for the LLM based on the selected prompt style.\n",
    "\n",
    "    Args:\n",
    "        query (str): User's current query.\n",
    "        context_docs (List[str]): Retrieved documents for context.\n",
    "        prompt_style (PromptStyle): The strategy for prompt formatting.\n",
    "        history (List[Tuple[str, str]]): Optional memory of previous Q&A for few-shot examples.\n",
    "\n",
    "    Returns:\n",
    "        str: The final prompt to be sent to the LLM.\n",
    "    \"\"\"\n",
    "    context = \"\\n\\n\".join(context_docs)\n",
    "\n",
    "    if prompt_style == PromptStyle.STANDARD:\n",
    "        return (\n",
    "            \"Your task is to analyse the question based on the context, and then provide an appropriate answer.\\n\\n\"\n",
    "            f\"Context:\\n{context}\\n\\n\"\n",
    "            f\"Question: {query}\\n\\n\"\n",
    "            f\"Answer:\"\n",
    "        )\n",
    "\n",
    "    # if prompt_style == PromptStyle.FEW_SHOT:\n",
    "    #     few_shot_examples = \"\"\n",
    "    #     if history:\n",
    "    #         for past_q, past_a in history[-2:]:  # last 2 examples\n",
    "    #             few_shot_examples += (\n",
    "    #                 f\"Context: [Previous Retrieval]\\n\"\n",
    "    #                 f\"Question: {past_q}\\n\"\n",
    "    #                 f\"Answer: {past_a}\\n\\n\"\n",
    "    #             )\n",
    "        # return (\n",
    "        #     f\"{few_shot_examples}\"\n",
    "        #     f\"Context:\\n{context}\\n\\n\"\n",
    "        #     f\"Question: {query}\\n\\n\"\n",
    "        #     f\"Answer:\"\n",
    "        # )\n",
    "\n",
    "    if prompt_style == PromptStyle.CHAIN_OF_THOUGHT:\n",
    "        return (\n",
    "            f\"Context:\\n{context}\\n\\n\"\n",
    "            f\"Question: {query}\\n\\n\"\n",
    "            f\"Let's think step by step:\"\n",
    "        )\n",
    "\n",
    "    if prompt_style == PromptStyle.ROLE_BASED:\n",
    "        return (\n",
    "            f\"You are a senior forensic investigator specializing in financial crime.\\n\\n\"\n",
    "            f\"Context:\\n{context}\\n\\n\"\n",
    "            f\"Analyze the above organizations for potential risk indicators.\\n\\n\"\n",
    "            f\"Question: {query}\\n\\n\"\n",
    "            f\"Answer:\"\n",
    "        )\n",
    "\n",
    "    if prompt_style == PromptStyle.BULLET_POINTS:\n",
    "        return (\n",
    "            f\"Context:\\n{context}\\n\\n\"\n",
    "            f\"Question: {query}\\n\\n\"\n",
    "            f\"List your findings in bullet points:\\n\"\n",
    "            f\"- \"\n",
    "        )\n",
    "\n",
    "    if prompt_style == PromptStyle.CHATML:\n",
    "        return (\n",
    "            f\"You are a compliance analyst. Based on the context, answer the query thoroughly.\\n\\n\"\n",
    "            f\"Context:\\n{context}\\n\\n\"\n",
    "            f\"Question: {query}\\n\\n\"\n",
    "            f\"Answer:\"\n",
    "        )\n",
    "\n",
    "    raise ValueError(f\"Unsupported prompt style: {prompt_style}\")\n"
   ]
  },
  {
   "cell_type": "markdown",
   "metadata": {},
   "source": [
    "## Prompt Construction and Mistral Inference Details\n",
    "\n",
    "This cell defines the functions responsible for constructing a prompt for the language model, formatting the prompt for Mistral-Instruct models, and invoking the Hugging Face Inference API to generate a response. The main functions are:\n",
    "\n",
    "1. **build_prompt:**  \n",
    "   - Combines the user's query and the retrieved context into a unified prompt.\n",
    "   - The prompt instructs the model to analyze the context and answer the question.\n",
    "\n",
    "2. **format_chat_prompt:**  \n",
    "   - Wraps the prompt in a ChatML-styled template, which is required by Mistral-Instruct models for proper formatting.\n",
    "\n",
    "3. **call_mistral_hf:**  \n",
    "   - Sends the formatted prompt to the Hugging Face API endpoint for the Mistral model.\n",
    "   - Sets parameters such as temperature and max token output.\n",
    "   - Uses the API token from the environment to authenticate the request.\n",
    "   - Parses and returns the generated text from the API response.\n",
    "\n",
    "> **Note:**  \n",
    "> Ensure that your environment variable `HUGGINGFACE_API_TOKEN` is correctly set in the `.env` file before executing this cell."
   ]
  },
  {
   "cell_type": "code",
   "execution_count": null,
   "metadata": {},
   "outputs": [],
   "source": [
    "prompt_style = PromptStyle.STANDARD"
   ]
  },
  {
   "cell_type": "code",
   "execution_count": null,
   "metadata": {},
   "outputs": [],
   "source": [
    "# Build Prompt, Format chat prompt and Call Mistral HF\n",
    "#  This cell defines functions to build a prompt for a language model, format it for Mistral-Instruct models,\n",
    "#  and call the Hugging Face Inference API to generate a response.\n",
    "import os\n",
    "from typing import Optional\n",
    "import requests\n",
    "\n",
    "def build_prompt(query: str, context: str,prompt_style ) -> str:\n",
    "    \"\"\"\n",
    "    Build a prompt for language model inference based on the given query and context.\n",
    "\n",
    "    Args:\n",
    "        query (str): User query or question.\n",
    "        context (str): Context retrieved from the documents.\n",
    "\n",
    "    Returns:\n",
    "        str: Formatted prompt string.\n",
    "    \"\"\"\n",
    "\n",
    "    if prompt_style not in [\"standard\",\"chain_of_thought\",\"role_based\",\"bullet_points\",\"chatml\"]:\n",
    "        raise ValueError(f\"Unsupported prompt style: {prompt_style}\")\n",
    "\n",
    "    # Generate the prompt based on the selected style\n",
    "    if prompt_style == \"standard\":  \n",
    "        prompt_style = PromptStyle.STANDARD\n",
    "    elif prompt_style == \"chain_of_thought\":\n",
    "        prompt_style = PromptStyle.CHAIN_OF_THOUGHT\n",
    "    elif prompt_style == \"role_based\":  \n",
    "        prompt_style = PromptStyle.ROLE_BASED\n",
    "    elif prompt_style == \"bullet_points\":\n",
    "        prompt_style = PromptStyle.BULLET_POINTS\n",
    "    elif prompt_style == \"chatml\":  \n",
    "        prompt_style = PromptStyle.CHATML\n",
    "    else:\n",
    "        prompt_style = PromptStyle.STANDARD\n",
    "    \n",
    "    # Generate the prompt\n",
    "    prompt = generate_prompt(\n",
    "    query=query,\n",
    "    context_docs=context,\n",
    "    prompt_style=prompt_style\n",
    "    )\n",
    "    return prompt\n",
    "\n",
    "\n",
    "def format_chat_prompt(prompt: str) -> str:\n",
    "    \"\"\"\n",
    "    Format a prompt using ChatML-style for Mistral-Instruct models.\n",
    "\n",
    "    Args:\n",
    "        prompt (str): The user input to be wrapped.\n",
    "\n",
    "    Returns:\n",
    "        str: Formatted prompt suitable for Mistral models.\n",
    "    \"\"\"\n",
    "    return f\"<s>[INST] {prompt.strip()} [/INST]\"\n",
    "\n",
    "\n",
    "def call_mistral_hf(prompt: str, api_token: Optional[str] = os.getenv(\"HUGGINGFACE_API_TOKEN\")) -> str:\n",
    "    \"\"\"\n",
    "    Call the Hugging Face Inference API for the Mistral model with the given prompt.\n",
    "\n",
    "    Args:\n",
    "        prompt (str): The input prompt for generation.\n",
    "        api_token (Optional[str]): Hugging Face API token. If not provided, will read from env.\n",
    "\n",
    "    Returns:\n",
    "        str: The generated response from the model.\n",
    "    \"\"\"\n",
    "    if api_token is None:\n",
    "        api_token = os.getenv(\"HUGGINGFACE_API_TOKEN\")\n",
    "\n",
    "    if not api_token:\n",
    "        raise ValueError(\"Hugging Face API token not found. Please set 'HUGGINGFACE_API_TOKEN' in the environment.\")\n",
    "\n",
    "    headers = {\n",
    "        \"Authorization\": f\"Bearer {api_token}\",\n",
    "        \"Content-Type\": \"application/json\",\n",
    "    }\n",
    "\n",
    "    formatted_prompt = format_chat_prompt(prompt)\n",
    "\n",
    "    payload = {\n",
    "        \"inputs\": formatted_prompt,\n",
    "        \"parameters\": {\n",
    "            \"temperature\": 0.7,\n",
    "            \"max_new_tokens\": 512,\n",
    "            \"do_sample\": True,\n",
    "            \"return_full_text\": False,\n",
    "        },\n",
    "    }\n",
    "\n",
    "    # Make the API call to the Mistral model\n",
    "    api_url = \"https://api-inference.huggingface.co/models/mistralai/Mistral-7B-Instruct-v0.3\"\n",
    "    response = requests.post(api_url, headers=headers, json=payload)\n",
    "    response.raise_for_status()\n",
    "\n",
    "    result = response.json()\n",
    "\n",
    "    return result[0][\"generated_text\"].strip()\n",
    "\n",
    "\n",
    "def call_gpt(prompt: str) -> str:\n",
    "    \"\"\"\n",
    "    Retrieve an answer from the GPT model given a prompt.\n",
    "\n",
    "    Args:\n",
    "        prompt (str): The prompt input.\n",
    "\n",
    "    Returns:\n",
    "        str: The generated answer from the GPT model.\n",
    "\n",
    "    Raises:\n",
    "        ValueError: If the OpenAI API key is not set in the environment.\n",
    "    \"\"\"\n",
    "    API_KEY = os.getenv(\"OPENAI_API_KEY\")\n",
    "    if not API_KEY:\n",
    "        raise ValueError(\n",
    "            \"OpenAI API key not found. Please set 'API_KEY' in the environment.\"\n",
    "        )\n",
    "\n",
    "    from openai import OpenAI  # Local import to ensure the module is available in production\n",
    "\n",
    "    # Initialize the OpenAI client\n",
    "    client = OpenAI(api_key=API_KEY)\n",
    "    message = [\n",
    "        {\"role\": \"system\", \"content\": \"You are an helpful AI assistant that adheres to the user prompt.\"},\n",
    "        {\"role\": \"user\", \"content\": prompt},\n",
    "    ]\n",
    "    response = client.chat.completions.create(\n",
    "            model=\"gpt-4o-mini\",\n",
    "            messages=message\n",
    "    )\n",
    "    answer = response.choices[0].message.content\n",
    "    return answer.strip()\n",
    "\n"
   ]
  },
  {
   "cell_type": "markdown",
   "metadata": {},
   "source": [
    "## End-to-End Inference Function Details\n",
    "\n",
    "Next cells  defines the `inference` function, which ties together all previous functions to run end-to-end inference for a given query. The main steps are:\n",
    "\n",
    "1. **Retrieve Context:**  \n",
    "   - Calls the `search_query` function with the FAISS index and document mapping to retrieve relevant document snippets based on the query.\n",
    "   - Combines the retrieved snippets into a single context string.\n",
    "\n",
    "2. **Prompt Construction:**  \n",
    "   - Utilizes the `build_prompt` function to create a prompt that includes both the query and the context.\n",
    "  \n",
    "3. **Response Generation:**  \n",
    "   - Calls the `call_mistral_hf` function to send the prompt to the Hugging Face Inference API for the Mistral model.\n",
    "   - Returns the generated response from the model.\n",
    "\n",
    "This function encapsulates the complete workflow of the RAG system, making it straightforward to process a user query by retrieving relevant context and generating a human-like answer."
   ]
  },
  {
   "cell_type": "code",
   "execution_count": 7,
   "metadata": {},
   "outputs": [],
   "source": [
    "from typing import Dict, Any\n",
    "import faiss\n",
    "\n",
    "def retrieve_documents(query: str) -> Dict[int, Dict[str, Any]]:\n",
    "    \"\"\"\n",
    "    Retrieve documents from the FAISS index and return them as a dictionary.\n",
    "    \n",
    "    Returns:\n",
    "        Dict[int, Dict[str, Any]]: Mapping of index positions to documents.\n",
    "    \"\"\"\n",
    "    global index, id_to_docs\n",
    "    context_list,context_for_print = search_query(index, id_to_docs, query)\n",
    "    return context_list, context_for_print\n",
    "\n",
    "def inference(\n",
    "    query: str,\n",
    "    prompt_style: str = \"standard\",\n",
    ") -> str:\n",
    "    \"\"\"\n",
    "    Run end-to-end inference on a query using a FAISS index and Mistral API.\n",
    "\n",
    "    Args:\n",
    "        query (str): The user query to process.\n",
    "        index (faiss.Index): The FAISS index containing document embeddings.\n",
    "        id_to_docs (Dict[int, Dict[str, Any]]): Mapping of index positions to documents.\n",
    "\n",
    "    Returns:\n",
    "        str: The generated response from the language model.\n",
    "    \"\"\"\n",
    "    # context_str = \"\\n\\n\".join(context_list)\n",
    "    context_list, _ = retrieve_documents(query)\n",
    "    prompt = build_prompt(query, context_list,prompt_style=prompt_style)\n",
    "    \n",
    "    # return call_mistral_hf(prompt) \"Exceeded token limit! for free tier\"\n",
    "\n",
    "    return call_gpt(prompt) \n"
   ]
  },
  {
   "cell_type": "code",
   "execution_count": 8,
   "metadata": {},
   "outputs": [],
   "source": [
    "queries = [\n",
    "\"Tell me about Cascade Capital Management?\",\n",
    "\"Which organizations show signs of potential money laundering through complex structures?\",\n",
    "\"What irregular transaction patterns are identified for Aurora Financial Services, and why do these raise concerns about potential money laundering?\",\n",
    "\"How do the described transaction patterns of Blue Horizon Investments hint at possible insider trading or market manipulation?\",\n",
    "\"Compare the descriptions of Falcon Secure Bank and Helix Fintech Solutions. What aspects of their operations contribute to one being perceived as having higher transparency and regulatory compliance than the other?\"\n",
    "]"
   ]
  },
  {
   "cell_type": "code",
   "execution_count": 9,
   "metadata": {},
   "outputs": [
    {
     "name": "stdout",
     "output_type": "stream",
     "text": [
      "Query: Tell me about Cascade Capital Management?\n",
      "=======================================================================\n",
      "Top Retrieved Documents: [('Rank 1:\\n', 'Title: Cascade Capital Management\\n', 'Description: Cascade Capital Management, a venture capital firm specializing in tech investments, has grown rapidly but relies on a complex network of subsidiary shell companies. This structure has attracted regulatory scrutiny regarding transparency and compliance.\\n', 'Distance: 0.2569\\n\\n'), ('Rank 2:\\n', 'Title: Gemini Asset Management\\n', 'Description: Serving high-net-worth clients in Asia, Gemini Asset Management has recently been spotlighted for unusually high commissions and inconsistent portfolio reporting. These anomalies have sparked concerns over potential money laundering and fraudulent practices.\\n', 'Distance: 0.7213\\n\\n'), ('Rank 3:\\n', 'Title: Blue Horizon Investments\\n', 'Description: Based in London, Blue Horizon Investments is known for its innovative portfolio strategies. However, irregular transaction patterns and rapid, unexplained fund movements have raised concerns about possible insider trading and manipulation.\\n', 'Distance: 0.7599\\n\\n')]\n",
      "\n",
      "=======================================================================\n",
      "Query: Which organizations show signs of potential money laundering through complex structures?\n",
      "=======================================================================\n",
      "Top Retrieved Documents: [('Rank 1:\\n', 'Title: Gemini Asset Management\\n', 'Description: Serving high-net-worth clients in Asia, Gemini Asset Management has recently been spotlighted for unusually high commissions and inconsistent portfolio reporting. These anomalies have sparked concerns over potential money laundering and fraudulent practices.\\n', 'Distance: 0.7019\\n\\n'), ('Rank 2:\\n', 'Title: Aurora Financial Services\\n', 'Description: Aurora Financial Services, headquartered in New York, is a mid-sized firm that recently recorded an unusually high volume of cross-border transactions with opaque justifications. Analysts have flagged these patterns as potential attempts to obscure money laundering activities.\\n', 'Distance: 0.7182\\n\\n'), ('Rank 3:\\n', 'Title: Cascade Capital Management\\n', 'Description: Cascade Capital Management, a venture capital firm specializing in tech investments, has grown rapidly but relies on a complex network of subsidiary shell companies. This structure has attracted regulatory scrutiny regarding transparency and compliance.\\n', 'Distance: 0.8222\\n\\n')]\n",
      "\n",
      "=======================================================================\n",
      "Query: What irregular transaction patterns are identified for Aurora Financial Services, and why do these raise concerns about potential money laundering?\n",
      "=======================================================================\n",
      "Top Retrieved Documents: [('Rank 1:\\n', 'Title: Aurora Financial Services\\n', 'Description: Aurora Financial Services, headquartered in New York, is a mid-sized firm that recently recorded an unusually high volume of cross-border transactions with opaque justifications. Analysts have flagged these patterns as potential attempts to obscure money laundering activities.\\n', 'Distance: 0.4129\\n\\n'), ('Rank 2:\\n', 'Title: Gemini Asset Management\\n', 'Description: Serving high-net-worth clients in Asia, Gemini Asset Management has recently been spotlighted for unusually high commissions and inconsistent portfolio reporting. These anomalies have sparked concerns over potential money laundering and fraudulent practices.\\n', 'Distance: 0.6401\\n\\n'), ('Rank 3:\\n', 'Title: Ionex Brokerage Services\\n', 'Description: Ionex Brokerage Services is a popular online platform in Europe with a proven track record of consistent performance. Its transaction patterns are steady and well-documented, with no known irregularities or red flags in its operations.\\n', 'Distance: 0.7513\\n\\n')]\n",
      "\n",
      "=======================================================================\n",
      "Query: How do the described transaction patterns of Blue Horizon Investments hint at possible insider trading or market manipulation?\n",
      "=======================================================================\n",
      "Top Retrieved Documents: [('Rank 1:\\n', 'Title: Blue Horizon Investments\\n', 'Description: Based in London, Blue Horizon Investments is known for its innovative portfolio strategies. However, irregular transaction patterns and rapid, unexplained fund movements have raised concerns about possible insider trading and manipulation.\\n', 'Distance: 0.4349\\n\\n'), ('Rank 2:\\n', 'Title: Gemini Asset Management\\n', 'Description: Serving high-net-worth clients in Asia, Gemini Asset Management has recently been spotlighted for unusually high commissions and inconsistent portfolio reporting. These anomalies have sparked concerns over potential money laundering and fraudulent practices.\\n', 'Distance: 0.6969\\n\\n'), ('Rank 3:\\n', 'Title: Cascade Capital Management\\n', 'Description: Cascade Capital Management, a venture capital firm specializing in tech investments, has grown rapidly but relies on a complex network of subsidiary shell companies. This structure has attracted regulatory scrutiny regarding transparency and compliance.\\n', 'Distance: 0.8243\\n\\n')]\n",
      "\n",
      "=======================================================================\n",
      "Query: Compare the descriptions of Falcon Secure Bank and Helix Fintech Solutions. What aspects of their operations contribute to one being perceived as having higher transparency and regulatory compliance than the other?\n",
      "=======================================================================\n",
      "Top Retrieved Documents: [('Rank 1:\\n', 'Title: Falcon Secure Bank\\n', 'Description: Falcon Secure Bank is a digital-only institution acclaimed for its cutting-edge cybersecurity and rigorous internal audits. The bank consistently demonstrates strong compliance practices and transparent operations, earning the trust of its customers and regulators alike.\\n', 'Distance: 0.4451\\n\\n'), ('Rank 2:\\n', 'Title: Helix Fintech Solutions\\n', 'Description: Helix Fintech Solutions is a rapidly growing startup in the financial technology space. Its strategy of partnering with numerous unregulated advisors has resulted in a patchwork of compliance practices, prompting internal reviews for potential fraud and mismanagement of client funds.\\n', 'Distance: 0.4689\\n\\n'), ('Rank 3:\\n', 'Title: Kepler Financial Innovations\\n', 'Description: Kepler Financial Innovations is renowned for its ethical practices and state-of-the-art risk management. With a focus on transparency and regulatory compliance, the firm has built a reputation as a trusted player in the financial market.\\n', 'Distance: 0.7404\\n\\n')]\n",
      "\n",
      "=======================================================================\n"
     ]
    }
   ],
   "source": [
    "for query in queries:\n",
    "    print(f\"Query: {query}\")\n",
    "    print(\"=======================================================================\")\n",
    "    _, top_retrived_docs = retrieve_documents(query)\n",
    "    print(f\"Top Retrieved Documents: {top_retrived_docs}\\n\")\n",
    "    print(\"=======================================================================\")\n"
   ]
  },
  {
   "cell_type": "markdown",
   "metadata": {},
   "source": [
    "## Running Inference on Multiple Queries\n",
    "\n",
    "This cell processes a list of queries by executing the end-to-end inference pipeline for each query. The key steps are:\n",
    "\n",
    "- **Iteration Over Queries:**  \n",
    "  Iterates through each query in the `queries` list.\n",
    "\n",
    "- **Printing Query Information:**  \n",
    "  For each query, it prints the query string and a divider for clarity.\n",
    "\n",
    "- **Inference Execution:**  \n",
    "  Calls the `inference` function with the current query, the pre-built FAISS index (`index`), and the document mapping (`id_to_docs`).  \n",
    "  This function retrieves relevant document snippets, constructs a prompt, and obtains a generated response via the Mistral model.\n",
    "\n",
    "- **Response Collection:**  \n",
    "  Appends the generated response to the `responses` list for further use or analysis."
   ]
  },
  {
   "cell_type": "code",
   "execution_count": 10,
   "metadata": {},
   "outputs": [],
   "source": [
    "prompt_styles = [\"standard\",\"chain_of_thought\",\"role_based\",\"bullet_points\",\"chatml\"]"
   ]
  },
  {
   "cell_type": "markdown",
   "metadata": {},
   "source": [
    "## Displaying the Generated Responses\n",
    "\n",
    "This cell is responsible for presenting the generated responses in a readable format. The steps involved are:\n",
    "\n",
    "1. **Iterating Over Responses:**  \n",
    "   - Loops through each response stored in the `responses` list.\n",
    "\n",
    "2. **Rendering Responses in HTML:**  \n",
    "   - Uses the `IPython.display` module to render each response within an HTML `<div>` container.  \n",
    "   - The HTML container is styled with `white-space: pre-wrap` to ensure proper word wrapping.\n",
    "\n",
    "This ensures that the output is easily readable and neatly formatted within the Jupyter Notebook interface."
   ]
  },
  {
   "cell_type": "markdown",
   "metadata": {},
   "source": [
    "## Prompt Techniques for Enhanced Inference\n",
    "\n",
    "To maximize the quality and relevance of our generated responses, we have implemented multiple prompt strategies. These approaches allow us to experiment with different styles and choose the one that best aligns with the requirements of each query.\n",
    "\n",
    "- **Standard:** Basic integration of query and context.\n",
    "- **Chain-of-Thought:** Encourages detailed, step-by-step reasoning.\n",
    "- **Role-Based:** Frames the query from the perspective of a domain expert.\n",
    "- **Bullet Points:** Presents key information in a clear, succinct list format.\n",
    "- **ChatML:** Utilizes a conversational format tailored for dialog-based models.\n",
    "\n",
    "Explore these techniques below to see how each style influences the model's output!"
   ]
  },
  {
   "cell_type": "markdown",
   "metadata": {},
   "source": [
    "## Responses based on \"standard\" prompt style"
   ]
  },
  {
   "cell_type": "code",
   "execution_count": 11,
   "metadata": {},
   "outputs": [
    {
     "name": "stdout",
     "output_type": "stream",
     "text": [
      "Query: Tell me about Cascade Capital Management?\n",
      "=======================================================================\n"
     ]
    },
    {
     "data": {
      "text/html": [
       "<div style='white-space: pre-wrap; word-wrap: break-word;'>Cascade Capital Management is a venture capital firm that specializes in technology investments. The firm has experienced rapid growth but operates through a complex structure of subsidiary shell companies. This intricate setup has drawn regulatory scrutiny, raising concerns about transparency and compliance with financial regulations.</div>"
      ],
      "text/plain": [
       "<IPython.core.display.HTML object>"
      ]
     },
     "metadata": {},
     "output_type": "display_data"
    },
    {
     "name": "stdout",
     "output_type": "stream",
     "text": [
      "=======================================================================\n",
      "Query: Which organizations show signs of potential money laundering through complex structures?\n",
      "=======================================================================\n"
     ]
    },
    {
     "data": {
      "text/html": [
       "<div style='white-space: pre-wrap; word-wrap: break-word;'>The organizations that show signs of potential money laundering through complex structures are:\n",
       "\n",
       "1. **Gemini Asset Management**: The unusually high commissions and inconsistent portfolio reporting raise red flags, indicating possible financial misconduct.\n",
       "\n",
       "2. **Aurora Financial Services**: The high volume of cross-border transactions with opaque justifications points to potential attempts to obscure money laundering activities.\n",
       "\n",
       "3. **Cascade Capital Management**: Its reliance on a complex network of subsidiary shell companies has attracted regulatory scrutiny, suggesting issues with transparency and compliance that could be associated with money laundering. \n",
       "\n",
       "All three organizations demonstrate signs of potential money laundering through their complex structures and operational anomalies.</div>"
      ],
      "text/plain": [
       "<IPython.core.display.HTML object>"
      ]
     },
     "metadata": {},
     "output_type": "display_data"
    },
    {
     "name": "stdout",
     "output_type": "stream",
     "text": [
      "=======================================================================\n",
      "Query: What irregular transaction patterns are identified for Aurora Financial Services, and why do these raise concerns about potential money laundering?\n",
      "=======================================================================\n"
     ]
    },
    {
     "data": {
      "text/html": [
       "<div style='white-space: pre-wrap; word-wrap: break-word;'>Aurora Financial Services has been identified with an unusually high volume of cross-border transactions that come with opaque justifications. These atypical patterns have raised concerns about potential money laundering activities because the lack of clear explanations for the transactions may indicate attempts to obscure the source or destination of funds. Such behaviors are often characteristic of money laundering, where the aim is to disguise illicit funds as legitimate through complex and obscure transaction methods. The analysts' flags suggest that this significant deviation from standard transaction practices warrants closer scrutiny to prevent potential financial crimes.</div>"
      ],
      "text/plain": [
       "<IPython.core.display.HTML object>"
      ]
     },
     "metadata": {},
     "output_type": "display_data"
    },
    {
     "name": "stdout",
     "output_type": "stream",
     "text": [
      "=======================================================================\n",
      "Query: How do the described transaction patterns of Blue Horizon Investments hint at possible insider trading or market manipulation?\n",
      "=======================================================================\n"
     ]
    },
    {
     "data": {
      "text/html": [
       "<div style='white-space: pre-wrap; word-wrap: break-word;'>The transaction patterns described for Blue Horizon Investments suggest potential insider trading or market manipulation due to their irregularities and rapid, unexplained movements of funds. Such behaviors can indicate non-public information being acted upon by individuals within the firm, leading to trades that do not align with general market trends or normal investment strategies. The fact that these transactions deviate significantly from expected patterns raises red flags, as they may be strategically timed to exploit confidential information about upcoming market events or developments within companies. This inconsistency in trading behavior can attract scrutiny from regulators who monitor for signs of illicit activities that distort market integrity. Overall, the nature of the transactions at Blue Horizon Investments points to a possible misuse of insider information, warranting thorough investigation.</div>"
      ],
      "text/plain": [
       "<IPython.core.display.HTML object>"
      ]
     },
     "metadata": {},
     "output_type": "display_data"
    },
    {
     "name": "stdout",
     "output_type": "stream",
     "text": [
      "=======================================================================\n",
      "Query: Compare the descriptions of Falcon Secure Bank and Helix Fintech Solutions. What aspects of their operations contribute to one being perceived as having higher transparency and regulatory compliance than the other?\n",
      "=======================================================================\n"
     ]
    },
    {
     "data": {
      "text/html": [
       "<div style='white-space: pre-wrap; word-wrap: break-word;'>When comparing Falcon Secure Bank and Helix Fintech Solutions, several key aspects contribute to the perception of Falcon Secure Bank as having higher transparency and regulatory compliance than Helix Fintech Solutions.\n",
       "\n",
       "1. **Nature of Operations**:\n",
       "   - **Falcon Secure Bank** is a digital-only institution known for its rigorous internal audits and strong cybersecurity measures. This focus on robust internal processes suggests a commitment to maintaining high standards of operational integrity, which enhances its transparency to customers and regulators.\n",
       "   - In contrast, **Helix Fintech Solutions**, as a rapidly growing startup, has partnered with numerous unregulated advisors. This strategy has resulted in a \"patchwork\" of compliance practices that may lack uniformity and reliability, which can diminish the perception of transparency and compliance.\n",
       "\n",
       "2. **Compliance Practices**:\n",
       "   - Falcon Secure Bank is described as consistently demonstrating strong compliance practices, indicating a proactive approach to adhering to regulations and maintaining accountability. This reliability fosters greater trust from both customers and regulators.\n",
       "   - Helix Fintech Solutions' compliance issues have led to internal reviews for potential fraud and mismanagement. This indicates a lack of established compliance frameworks, raising concerns about trustworthiness and effective oversight.\n",
       "\n",
       "3. **Operational Transparency**:\n",
       "   - The description of Falcon Secure Bank emphasizes its transparency in operations, which likely includes clear communication of policies and practices to stakeholders. Such transparency is crucial in fostering trust and confidence among clients and regulatory bodies.\n",
       "   - Conversely, Helix Fintech Solutions' operational methods, marked by partnerships with unregulated advisors, suggest a less transparent approach, as it may obfuscate the true nature of its compliance and risk management practices.\n",
       "\n",
       "In summary, Falcon Secure Bank is perceived as having higher transparency and regulatory compliance due to its commitment to rigorous internal audits, established compliance practices, and a transparent operational model. In contrast, Helix Fintech Solutions' reliance on unregulated partners and a patchwork compliance approach presents significant challenges to its credibility and transparency.</div>"
      ],
      "text/plain": [
       "<IPython.core.display.HTML object>"
      ]
     },
     "metadata": {},
     "output_type": "display_data"
    },
    {
     "name": "stdout",
     "output_type": "stream",
     "text": [
      "=======================================================================\n"
     ]
    }
   ],
   "source": [
    "from IPython.display import display, HTML\n",
    "responses = []\n",
    "for query in queries:\n",
    "\n",
    "    print(f\"Query: {query}\")\n",
    "    print(\"=======================================================================\")\n",
    "\n",
    "    # Run inference for each query\n",
    "    response = inference(query,prompt_styles[0])\n",
    "\n",
    "    # To display it as wrapped HTML\n",
    "    display(HTML(f\"<div style='white-space: pre-wrap; word-wrap: break-word;'>{response}</div>\"))\n",
    "    print(\"=======================================================================\")\n"
   ]
  },
  {
   "cell_type": "markdown",
   "metadata": {},
   "source": [
    "## Responses based on \"chain_of_thoughts\" prompt style"
   ]
  },
  {
   "cell_type": "code",
   "execution_count": 12,
   "metadata": {},
   "outputs": [
    {
     "name": "stdout",
     "output_type": "stream",
     "text": [
      "Query: Tell me about Cascade Capital Management?\n",
      "=======================================================================\n"
     ]
    },
    {
     "data": {
      "text/html": [
       "<div style='white-space: pre-wrap; word-wrap: break-word;'>Cascade Capital Management is a venture capital firm that specializes in investments within the technology sector. Here’s a step-by-step overview of the firm:\n",
       "\n",
       "1. **Rapid Growth**: The firm has experienced significant growth, positioning itself as a noteworthy player in the venture capital landscape.\n",
       "\n",
       "2. **Structure**: Cascade Capital employs a complex network of subsidiary shell companies. This structural choice is likely intended to manage investments and liabilities, but it has led to scrutiny regarding the overall transparency of their operations.\n",
       "\n",
       "3. **Regulatory Scrutiny**: The reliance on shell companies has attracted the attention of regulatory bodies. Questions have been raised about their compliance with financial laws and regulations, especially concerning the transparency of their investment activities.\n",
       "\n",
       "4. **Sector Focus**: Specializing in technology investments, Cascade Capital is likely involved in identifying and nurturing tech startups, which is a lucrative but highly competitive sector.\n",
       "\n",
       "5. **Concerns**: The firm's structure could potentially obscure financial practices, raising concerns about accountability and the potential for unethical practices.\n",
       "\n",
       "Overall, while Cascade Capital Management is positioned for success in the tech investment arena, its complex corporate structure creates risks related to regulatory compliance and transparency.</div>"
      ],
      "text/plain": [
       "<IPython.core.display.HTML object>"
      ]
     },
     "metadata": {},
     "output_type": "display_data"
    },
    {
     "name": "stdout",
     "output_type": "stream",
     "text": [
      "=======================================================================\n",
      "Query: Which organizations show signs of potential money laundering through complex structures?\n",
      "=======================================================================\n"
     ]
    },
    {
     "data": {
      "text/html": [
       "<div style='white-space: pre-wrap; word-wrap: break-word;'>To identify which organizations show signs of potential money laundering through complex structures, we can analyze the details provided for each organization:\n",
       "\n",
       "1. **Gemini Asset Management**:\n",
       "   - Description indicates unusually high commissions and inconsistent portfolio reporting.\n",
       "   - However, there’s no mention of complex structures or networks that would suggest potential money laundering through such means.\n",
       "\n",
       "2. **Aurora Financial Services**:\n",
       "   - This firm has recorded an unusually high volume of cross-border transactions with opaque justifications.\n",
       "   - While the cross-border nature of transactions raises red flags, the description doesn’t specify that these transactions are organized through complex structures.\n",
       "\n",
       "3. **Cascade Capital Management**:\n",
       "   - This firm operates with a complex network of subsidiary shell companies.\n",
       "   - The complexity of its structure has attracted regulatory scrutiny regarding transparency and compliance, suggesting potential money laundering activities could be concealed within such a structure.\n",
       "\n",
       "From this step-by-step evaluation, **Cascade Capital Management** is the organization that shows signs of potential money laundering through complex structures, specifically due to its use of subsidiary shell companies.</div>"
      ],
      "text/plain": [
       "<IPython.core.display.HTML object>"
      ]
     },
     "metadata": {},
     "output_type": "display_data"
    },
    {
     "name": "stdout",
     "output_type": "stream",
     "text": [
      "=======================================================================\n",
      "Query: What irregular transaction patterns are identified for Aurora Financial Services, and why do these raise concerns about potential money laundering?\n",
      "=======================================================================\n"
     ]
    },
    {
     "data": {
      "text/html": [
       "<div style='white-space: pre-wrap; word-wrap: break-word;'>To identify the irregular transaction patterns at Aurora Financial Services and understand why they raise concerns about potential money laundering, we can break down the context provided in the description.\n",
       "\n",
       "1. **High Volume of Cross-Border Transactions**: Aurora Financial Services has recorded an unusually high number of transactions that involve transferring money across national borders. This in itself can be a red flag, especially if these transactions lack a clear and legitimate business purpose.\n",
       "\n",
       "2. **Opaque Justifications**: The transactions are described as having \"opaque justifications,\" meaning that the reasons given for conducting these transactions are unclear or not easily understandable. Legitimate businesses typically provide transparent and easily verifiable purposes for their cross-border transactions. Lack of clarity can indicate attempts to disguise the true nature of the transactions.\n",
       "\n",
       "3. **Concerns Over Money Laundering**: The patterns identified—high volume and lack of transparency—are commonly associated with money laundering activities. Criminal organizations often use cross-border transactions to obscure the origin of illicit funds, making it difficult for authorities to trace where the money has come from and where it is going. This can include layering the money through numerous transactions in different jurisdictions.\n",
       "\n",
       "4. **Analyst Flags**: The fact that analysts have specifically flagged these patterns suggests that there is a level of scrutiny from financial oversight entities or compliance officers who are concerned that the activities may not align with standard operational procedures in the financial industry.\n",
       "\n",
       "In summary, the irregular transaction patterns at Aurora Financial Services—high volume of cross-border transactions and opaque justifications—raise concerns about potential money laundering because they are indicative of attempts to conceal the origins of illicit funds and evade regulatory oversight.</div>"
      ],
      "text/plain": [
       "<IPython.core.display.HTML object>"
      ]
     },
     "metadata": {},
     "output_type": "display_data"
    },
    {
     "name": "stdout",
     "output_type": "stream",
     "text": [
      "=======================================================================\n",
      "Query: How do the described transaction patterns of Blue Horizon Investments hint at possible insider trading or market manipulation?\n",
      "=======================================================================\n"
     ]
    },
    {
     "data": {
      "text/html": [
       "<div style='white-space: pre-wrap; word-wrap: break-word;'>To analyze how the transaction patterns of Blue Horizon Investments suggest possible insider trading or market manipulation, we can break down the elements as follows:\n",
       "\n",
       "1. **Irregular Transaction Patterns**: \n",
       "   - The term \"irregular transaction patterns\" points to trading behaviors that deviate from what would be considered normal market activity for a firm of their profile. For instance, if a company typically trades in smaller volumes and suddenly executes large trades or trades in a stock that has low historical trading volume, this can be suspicious.\n",
       "\n",
       "2. **Rapid Fund Movements**: \n",
       "   - The mention of “rapid” and “unexplained” fund movements implies that funds are being shifted in ways that do not correlate with usual investment behavior or strategies. For example, if large sums are transferred between accounts or to different entities without clear justification or correlation to market events, this raises red flags.\n",
       "\n",
       "3. **Temporal Correlation with Market Events**:\n",
       "   - If these irregular transactions and fund movements occur just before significant announcements (such as mergers, acquisitions, or earnings reports), this could indicate that the firm is trading based on non-public, material information. This timing is a classic hallmark of insider trading.\n",
       "\n",
       "4. **Volume and Price Fluctuation Analysis**:\n",
       "   - An increase in trading volume in conjunction with unusual price movements in the stocks involved could signal manipulative practices. If the firm’s activities lead to significant price changes that later revert, this might suggest market manipulation.\n",
       "\n",
       "5. **Possible Access to Non-Public Information**:\n",
       "   - The irregularities might indicate that individuals within Blue Horizon Investments are exploiting their position to gain access to non-public information about companies or markets, which they then utilize for personal profit or to benefit the firm unfairly.\n",
       "\n",
       "6. **Historical Patterns**:\n",
       "   - If historical data shows that similar patterns of trading precede a pattern of favorable outcomes or financial gains for the firm, this could further substantiate suspicions of insider trading or manipulation.\n",
       "\n",
       "7. **Lack of Transparency**:\n",
       "   - Given that these actions are described as \"irregular\" and \"unexplained,\" it suggests a lack of transparency in the firm's investment practices, which may be a tactic to obscure unethical behavior.\n",
       "\n",
       "In summary, the combination of unusual trading activity, rapid financial movements, and questionable timing relative to market disclosures points towards potential insider trading or market manipulation by Blue Horizon Investments, warranting closer regulatory scrutiny.</div>"
      ],
      "text/plain": [
       "<IPython.core.display.HTML object>"
      ]
     },
     "metadata": {},
     "output_type": "display_data"
    },
    {
     "name": "stdout",
     "output_type": "stream",
     "text": [
      "=======================================================================\n",
      "Query: Compare the descriptions of Falcon Secure Bank and Helix Fintech Solutions. What aspects of their operations contribute to one being perceived as having higher transparency and regulatory compliance than the other?\n",
      "=======================================================================\n"
     ]
    },
    {
     "data": {
      "text/html": [
       "<div style='white-space: pre-wrap; word-wrap: break-word;'>To compare the descriptions of Falcon Secure Bank and Helix Fintech Solutions in terms of transparency and regulatory compliance, we can analyze several key aspects of their operations outlined in their descriptions. Here's a step-by-step breakdown:\n",
       "\n",
       "1. **Type of Institution**:\n",
       "   - **Falcon Secure Bank**: It is a digital-only institution, which suggests a focus on technology-driven services. Being digital-only, it may likely have a more centralized and controlled environment for implementing compliance measures.\n",
       "   - **Helix Fintech Solutions**: This is a rapidly growing startup in the financial technology space. Startups often face challenges in scaling their compliance practices alongside growth which can lead to inconsistencies.\n",
       "\n",
       "2. **Cybersecurity and Auditing**:\n",
       "   - **Falcon Secure Bank**: The description highlights its \"cutting-edge cybersecurity\" and \"rigorous internal audits.\" These elements indicate a strong internal control environment, which is crucial for maintaining regulatory compliance and transparency. Regular audits can help identify potential issues and ensure accountability.\n",
       "   - **Helix Fintech Solutions**: In contrast, there is mention of a \"patchwork of compliance practices,\" suggesting that the organization has not established a consistent or comprehensive approach to compliance. This raises concerns about transparency and regulatory adherence.\n",
       "\n",
       "3. **Compliance Practices**:\n",
       "   - **Falcon Secure Bank**: It is noted for \"strong compliance practices\" which contribute to a perception of reliability. Strong compliance practices imply adherence to regulatory requirements, and thorough training of staff, and they often involve ongoing assessments to ensure organizations meet legal standards.\n",
       "   - **Helix Fintech Solutions**: The reference to \"internal reviews for potential fraud and mismanagement of client funds\" indicates that the company is at risk of lacking proper compliance mechanisms. This foxes the issue that compliance practices may be reactive rather than proactive, further undermining the perception of transparency.\n",
       "\n",
       "4. **Regulatory Trust**:\n",
       "   - **Falcon Secure Bank**: The bank has \"earned the trust of its customers and regulators alike,\" indicating that it is viewed favorably by both stakeholders. High trust levels often correlate with effective communication of practices and readiness to comply with regulations.\n",
       "   - **Helix Fintech Solutions**: The issues surrounding partnerships with \"unregulated advisors\" point to a reputation that may be scrutinized or doubted by regulators and clients, affecting trust. Unregulated advisors can lead to conflicts of interest and pose risks to client funds, undermining confidence in the company's operations.\n",
       "\n",
       "5. **Overall Reputation**:\n",
       "   - **Falcon Secure Bank**: Its accolades for cutting-edge practices and transparency bolster its reputation, positioning it as a reliable and compliant institution.\n",
       "   - **Helix Fintech Solutions**: The need for internal reviews due to potential fraud and mismanagement reveals vulnerability and gaps in its operational integrity, which negatively impacts its reputation.\n",
       "\n",
       "In summary, Falcon Secure Bank's emphasis on cybersecurity, rigorous audits, and strong compliance practices, along with its established trust with customers and regulators, contribute to its perceived higher transparency and regulatory compliance compared to Helix Fintech Solutions, which faces challenges related to inconsistent compliance practices and potential fraud risks.</div>"
      ],
      "text/plain": [
       "<IPython.core.display.HTML object>"
      ]
     },
     "metadata": {},
     "output_type": "display_data"
    },
    {
     "name": "stdout",
     "output_type": "stream",
     "text": [
      "=======================================================================\n"
     ]
    }
   ],
   "source": [
    "from IPython.display import display, HTML\n",
    "responses = []\n",
    "for query in queries:\n",
    "\n",
    "    print(f\"Query: {query}\")\n",
    "    print(\"=======================================================================\")\n",
    "\n",
    "    # Run inference for each query\n",
    "    response = inference(query,prompt_styles[1])\n",
    "\n",
    "    # To display it as wrapped HTML\n",
    "    display(HTML(f\"<div style='white-space: pre-wrap; word-wrap: break-word;'>{response}</div>\"))\n",
    "    print(\"=======================================================================\")"
   ]
  },
  {
   "cell_type": "markdown",
   "metadata": {},
   "source": [
    "## Responses based on \"role_based\" prompt style"
   ]
  },
  {
   "cell_type": "code",
   "execution_count": 13,
   "metadata": {},
   "outputs": [
    {
     "name": "stdout",
     "output_type": "stream",
     "text": [
      "Query: Tell me about Cascade Capital Management?\n",
      "=======================================================================\n"
     ]
    },
    {
     "data": {
      "text/html": [
       "<div style='white-space: pre-wrap; word-wrap: break-word;'>Cascade Capital Management presents several potential risk indicators that merit further investigation. Here is an analysis based on the provided context:\n",
       "\n",
       "1. **Complex Network of Subsidiaries**: The use of a complex web of subsidiary shell companies can often be indicative of a lack of transparency. This structure may be employed to obscure the flow of funds, which can facilitate financial crimes such as money laundering or tax evasion. Regulatory scrutiny is a common outcome when firms utilize such structures, as it raises questions about the legitimacy of their operations and financial reporting.\n",
       "\n",
       "2. **Growth and Expansion**: While rapid growth can be a positive indicator of success, it can also lead to management oversights, inadequate compliance controls, and a greater risk of operational vulnerabilities. If Cascade Capital Management has expanded quickly without corresponding enhancements in its governance structure, it may be more susceptible to financial misreporting or fraud.\n",
       "\n",
       "3. **Regulatory Scrutiny**: The fact that Cascade Capital Management is already under regulatory scrutiny suggests that there are ongoing concerns about its financial practices. This scrutiny can result from whistleblower complaints, suspicious financial activities, or routine compliance checks. Ongoing investigations could expose the firm to reputational damage and potential legal consequences.\n",
       "\n",
       "4. **Sector Risks**: As a venture capital firm focused on tech investments, Cascade Capital Management is inherently exposed to sector-specific risks, including valuation discrepancies, high volatility, and increased competition. These factors can lead to aggressive financial practices that may not align with regulatory expectations.\n",
       "\n",
       "5. **Lack of Transparency**: High reliance on subsidiary shell companies can indicate obfuscation. A thorough review of financial transactions and ownership structures is necessary to identify any signs of illicit activities or inefficiencies in financial reporting.\n",
       "\n",
       "Overall, Cascade Capital Management's operational structure and its rapid expansion pose potential risks that require careful scrutiny. Investigating the flow of funds, the purpose of the subsidiaries, and any potential connections to other entities under investigation will be crucial to assessing the firm's compliance and risk profile.</div>"
      ],
      "text/plain": [
       "<IPython.core.display.HTML object>"
      ]
     },
     "metadata": {},
     "output_type": "display_data"
    },
    {
     "name": "stdout",
     "output_type": "stream",
     "text": [
      "=======================================================================\n",
      "Query: Which organizations show signs of potential money laundering through complex structures?\n",
      "=======================================================================\n"
     ]
    },
    {
     "data": {
      "text/html": [
       "<div style='white-space: pre-wrap; word-wrap: break-word;'>The organizations that show signs of potential money laundering through complex structures are:\n",
       "\n",
       "1. **Gemini Asset Management**: The unusually high commissions and inconsistent portfolio reporting can indicate a lack of transparency and potential attempts to obscure the true nature of transactions. Coupled with serving high-net-worth clients, this raises red flags regarding money laundering, particularly if the source of funds for these clients is not well-documented.\n",
       "\n",
       "2. **Cascade Capital Management**: This firm relies on a complex network of subsidiary shell companies, which can create opportunities for obscuring the flow of funds. The use of such structures often raises concerns about transparency and compliance, especially in the context of financial regulations. The rapid growth and reliance on these entities could suggest attempts to facilitate money laundering activities by complicating the ownership and financial trails.\n",
       "\n",
       "While **Aurora Financial Services** has recorded high volumes of cross-border transactions with opaque justifications, the primary risk indicator here relates to transactional behavior rather than structural complexity. Therefore, it is the first two organizations—Gemini Asset Management and Cascade Capital Management—that more prominently exhibit signs of potential money laundering through complex structures.</div>"
      ],
      "text/plain": [
       "<IPython.core.display.HTML object>"
      ]
     },
     "metadata": {},
     "output_type": "display_data"
    },
    {
     "name": "stdout",
     "output_type": "stream",
     "text": [
      "=======================================================================\n",
      "Query: What irregular transaction patterns are identified for Aurora Financial Services, and why do these raise concerns about potential money laundering?\n",
      "=======================================================================\n"
     ]
    },
    {
     "data": {
      "text/html": [
       "<div style='white-space: pre-wrap; word-wrap: break-word;'>Aurora Financial Services has been flagged for having an unusually high volume of cross-border transactions with opaque justifications. The following are the specific irregular transaction patterns identified and the reasons these raise concerns about potential money laundering:\n",
       "\n",
       "1. **High Volume of Cross-Border Transactions**: The firm has seen a significant increase in transactions crossing international borders, especially if these transactions deviate from typical business practices. This is often a red flag, as high volumes can facilitate the movement of illicit funds across jurisdictions.\n",
       "\n",
       "2. **Opaque Justifications**: The lack of clear explanations for these cross-border transactions raises suspicion. Legitimate financial transactions typically have well-documented purposes, such as investments, payments for goods and services, or proper client instructions. When justifications are unclear or vague, it suggests the possibility of efforts to conceal the origins or destinations of funds.\n",
       "\n",
       "3. **Unusual Recipient and Origin Countries**: If transactions are often routed through or directed to countries known for banking secrecy, high levels of corruption, or poor anti-money laundering controls—often referred to as high-risk jurisdictions—it could indicate an attempt to hide illicit funds.\n",
       "\n",
       "4. **Inconsistencies with Client Profiles**: If the transaction volumes do not align with the expected transactional behavior of clients based on their profiles (such as type of business, income level, or geographic location) this discrepancy can be another indicator of potential money laundering.\n",
       "\n",
       "5. **Rapid Fluctuations in Transaction Amounts**: Significant fluctuations in transaction amounts without a clear underlying business justification could suggest layering, a process in money laundering where the origins of illicit funds are obscured through a series of complex financial transactions.\n",
       "\n",
       "6. **Lack of Transparency**: The firm’s difficulty in providing adequate documentation or explanations for the transactions can indicate attempts to mislead investigators or compliance teams. This diminishes trust in the legitimacy of the transactions.\n",
       "\n",
       "In summary, the combination of a high volume of cross-border transactions, vague justifications, possible links to high-risk jurisdictions, inconsistencies with client activities, and overall lack of transparency raises alarm bells regarding the potential for Aurora Financial Services to be involved in money laundering activities. These patterns exemplify classic behavior associated with financial crimes where entities seek to obscure the trail of illicit funds.</div>"
      ],
      "text/plain": [
       "<IPython.core.display.HTML object>"
      ]
     },
     "metadata": {},
     "output_type": "display_data"
    },
    {
     "name": "stdout",
     "output_type": "stream",
     "text": [
      "=======================================================================\n",
      "Query: How do the described transaction patterns of Blue Horizon Investments hint at possible insider trading or market manipulation?\n",
      "=======================================================================\n"
     ]
    },
    {
     "data": {
      "text/html": [
       "<div style='white-space: pre-wrap; word-wrap: break-word;'>The transaction patterns of Blue Horizon Investments indicate several potential risk indicators that could suggest insider trading or market manipulation:\n",
       "\n",
       "1. **Irregular Transaction Patterns**: The mention of irregular transaction patterns implies that there are transactions occurring that deviate from normal market behavior. This could include sudden spikes in trading volume or transactions that happen close in time to significant company news or events, which could suggest that insiders have access to non-public information.\n",
       "\n",
       "2. **Rapid Fund Movements**: The rapid and unexplained movement of funds may point to deliberate efforts to manipulate stock prices or mask the source of funds from illicit activities. For example, a quick influx or outflow of capital can create artificial volatility in the securities market, which is a common tactic used in market manipulation schemes. Individuals with insider knowledge may swiftly reposition their investments in response to forthcoming news, thereby profiting unfairly.\n",
       "\n",
       "3. **Insider Trading Red Flags**: If transactions occur just before key announcements—such as earnings reports, mergers and acquisitions, or other material events—this can be a clear red flag for insider trading. Investigators would look for patterns where specific stocks see an unusual increase in trading volume or price movement preceding major announcements, which may suggest that insiders are trading on non-public information.\n",
       "\n",
       "4. **Lack of Transparency**: The absence of reasonable explanations for these transaction patterns, coupled with the high profile and ostensibly sophisticated investment strategies of Blue Horizon Investments, raises questions about the transparency of their operations. If the firm's transaction rationale isn’t clear or is obscured, this can be a sign of potential wrongdoing.\n",
       "\n",
       "5. **Comparison with Market Movements**: Analysts can compare the timing and volume of Blue Horizon Investments’ transactions against wider market trends and those of the relevant sector or industry. Significant deviations from the norm, especially when aligned with firm-specific events, may indicate manipulative practices such as \"pump and dump\" schemes, where prices are artificially inflated before insiders sell off their holdings.\n",
       "\n",
       "Overall, the combination of these observed transaction patterns could lead to further investigation into Blue Horizon Investments to determine whether any laws concerning insider trading or market manipulation have been violated.</div>"
      ],
      "text/plain": [
       "<IPython.core.display.HTML object>"
      ]
     },
     "metadata": {},
     "output_type": "display_data"
    },
    {
     "name": "stdout",
     "output_type": "stream",
     "text": [
      "=======================================================================\n",
      "Query: Compare the descriptions of Falcon Secure Bank and Helix Fintech Solutions. What aspects of their operations contribute to one being perceived as having higher transparency and regulatory compliance than the other?\n",
      "=======================================================================\n"
     ]
    },
    {
     "data": {
      "text/html": [
       "<div style='white-space: pre-wrap; word-wrap: break-word;'>When comparing Falcon Secure Bank and Helix Fintech Solutions, several aspects of their operations contribute to the perception of Falcon Secure Bank as having higher transparency and regulatory compliance, while Helix Fintech Solutions appears riskier in these areas.\n",
       "\n",
       "1. **Cybersecurity and Internal Audits:**\n",
       "   - **Falcon Secure Bank:** The bank is acclaimed for its cutting-edge cybersecurity, which not only protects customer data but also enhances operational integrity. Regular and rigorous internal audits reinforce its commitment to monitoring and improving compliance practices.\n",
       "   - **Helix Fintech Solutions:** Although not explicitly mentioned, the description does not highlight a strong cybersecurity posture or a systematic approach to internal audits. This lack of focus increases the risk of vulnerabilities and questionable practices regarding compliance.\n",
       "\n",
       "2. **Regulatory Environment and Practices:**\n",
       "   - **Falcon Secure Bank:** The description indicates that the bank has strong compliance practices and is trusted by both customers and regulators. This suggests that it operates within a robust regulatory framework and adheres to industry standards.\n",
       "   - **Helix Fintech Solutions:** In contrast, Helix’s strategy of partnering with unregulated advisors results in a \"patchwork\" of compliance practices, implying inconsistency and a higher risk of regulatory non-compliance. This irregularity can lead to confusion and mismanagement of client funds.\n",
       "\n",
       "3. **Reputation and Trust:**\n",
       "   - **Falcon Secure Bank:** Its reputation for transparency and strong compliance has helped it gain trust among customers and regulators, crucial for the perception of reliability in financial institutions.\n",
       "   - **Helix Fintech Solutions:** The mention of potential fraud and mismanagement of client funds indicates that Helix has not yet built a solid foundation of trust and credibility, which can deter customers and regulators alike.\n",
       "\n",
       "4. **Operational Transparency:**\n",
       "   - **Falcon Secure Bank:** The emphasis on transparent operations suggests that the bank actively communicates its processes, decisions, and compliance measures to stakeholders, which fosters trust and accountability.\n",
       "   - **Helix Fintech Solutions:** The lack of clear operational transparency and the concerns about compliance suggest that stakeholders may struggle to obtain a full picture of Helix's practices, raising alarms about its overall governance.\n",
       "\n",
       "In summary, Falcon Secure Bank’s rigorous adherence to cybersecurity, systematic internal audits, strong regulatory compliance, and commitment to transparency distinctly position it as a more trustworthy institution compared to Helix Fintech Solutions, which faces potential risks due to its irregular compliance practices and association with unregulated advisors. These differences significantly enhance the perception of Falcon Secure Bank as a leader in transparency and compliance within the financial sector.</div>"
      ],
      "text/plain": [
       "<IPython.core.display.HTML object>"
      ]
     },
     "metadata": {},
     "output_type": "display_data"
    },
    {
     "name": "stdout",
     "output_type": "stream",
     "text": [
      "=======================================================================\n"
     ]
    }
   ],
   "source": [
    "from IPython.display import display, HTML\n",
    "responses = []\n",
    "for query in queries:\n",
    "\n",
    "    print(f\"Query: {query}\")\n",
    "    print(\"=======================================================================\")\n",
    "\n",
    "    # Run inference for each query\n",
    "    response = inference(query,prompt_styles[2])\n",
    "\n",
    "    # To display it as wrapped HTML\n",
    "    display(HTML(f\"<div style='white-space: pre-wrap; word-wrap: break-word;'>{response}</div>\"))\n",
    "    print(\"=======================================================================\")"
   ]
  },
  {
   "cell_type": "markdown",
   "metadata": {},
   "source": [
    "## Responses based on \"bullet_points\" prompt style"
   ]
  },
  {
   "cell_type": "code",
   "execution_count": 14,
   "metadata": {},
   "outputs": [
    {
     "name": "stdout",
     "output_type": "stream",
     "text": [
      "Query: Tell me about Cascade Capital Management?\n",
      "=======================================================================\n"
     ]
    },
    {
     "data": {
      "text/html": [
       "<div style='white-space: pre-wrap; word-wrap: break-word;'>- **Company Type:** Venture capital firm specializing in tech investments.\n",
       "- **Growth:** Rapid growth in the investment sector.\n",
       "- **Structure:** Relies on a complex network of subsidiary shell companies.\n",
       "- **Regulatory Scrutiny:** Attracted attention from regulators regarding transparency.\n",
       "- **Compliance Issues:** Concerns about compliance, likely due to its intricate corporate structure.</div>"
      ],
      "text/plain": [
       "<IPython.core.display.HTML object>"
      ]
     },
     "metadata": {},
     "output_type": "display_data"
    },
    {
     "name": "stdout",
     "output_type": "stream",
     "text": [
      "=======================================================================\n",
      "Query: Which organizations show signs of potential money laundering through complex structures?\n",
      "=======================================================================\n"
     ]
    },
    {
     "data": {
      "text/html": [
       "<div style='white-space: pre-wrap; word-wrap: break-word;'>- **Gemini Asset Management**: Noted for unusually high commissions and inconsistent portfolio reporting, raising concerns about potential money laundering and fraudulent practices.\n",
       "  \n",
       "- **Aurora Financial Services**: Recorded an unusually high volume of cross-border transactions with opaque justifications, flagged by analysts as potential attempts to obscure money laundering activities.\n",
       "\n",
       "- **Cascade Capital Management**: Utilizes a complex network of subsidiary shell companies, which has attracted regulatory scrutiny regarding transparency and compliance, suggesting potential risks related to money laundering.</div>"
      ],
      "text/plain": [
       "<IPython.core.display.HTML object>"
      ]
     },
     "metadata": {},
     "output_type": "display_data"
    },
    {
     "name": "stdout",
     "output_type": "stream",
     "text": [
      "=======================================================================\n",
      "Query: What irregular transaction patterns are identified for Aurora Financial Services, and why do these raise concerns about potential money laundering?\n",
      "=======================================================================\n"
     ]
    },
    {
     "data": {
      "text/html": [
       "<div style='white-space: pre-wrap; word-wrap: break-word;'>- Aurora Financial Services has recorded an unusually high volume of cross-border transactions.\n",
       "- The justifications for these transactions are described as opaque, meaning they lack transparency and clarity.\n",
       "- Analysts have flagged these patterns as potential attempts to obscure money laundering activities.\n",
       "- The high volume and the lack of clear purposes for the transactions raise red flags about the legitimacy of the funds being transferred.\n",
       "- The unusual nature of the transaction patterns deviates from typical transactional behavior for a mid-sized financial firm, increasing suspicion.</div>"
      ],
      "text/plain": [
       "<IPython.core.display.HTML object>"
      ]
     },
     "metadata": {},
     "output_type": "display_data"
    },
    {
     "name": "stdout",
     "output_type": "stream",
     "text": [
      "=======================================================================\n",
      "Query: How do the described transaction patterns of Blue Horizon Investments hint at possible insider trading or market manipulation?\n",
      "=======================================================================\n"
     ]
    },
    {
     "data": {
      "text/html": [
       "<div style='white-space: pre-wrap; word-wrap: break-word;'>- Irregular transaction patterns: The transactions at Blue Horizon Investments do not follow typical market behaviors, suggesting possible illicit activity rather than standard investment practices.\n",
       "\n",
       "- Rapid fund movements: The quick shifts in fund allocations may indicate attempts to take advantage of non-public information, a common trait of insider trading.\n",
       "\n",
       "- Lack of transparency: The unexplainable nature of fund movements raises red flags about the underlying reasons for these transactions, which could be indicative of manipulative strategies.\n",
       "\n",
       "- Frequency of large trades: If large trades occur in a short time frame, it may suggest attempts to manipulate stock prices or create misleading market signals.\n",
       "\n",
       "- Unusual timing of transactions: Transactions occurring just before significant market events or announcements could suggest prior knowledge of market-moving information.\n",
       "\n",
       "- Disparity in transaction sizes: Unusually large buys or sells that deviate from historical patterns may indicate an attempt to influence stock prices artificially.\n",
       "\n",
       "- Regulatory scrutiny: The mention of concerns about insider trading suggests that regulatory bodies are monitoring the firm closely, reinforcing suspicions about the legitimacy of their trading activities.</div>"
      ],
      "text/plain": [
       "<IPython.core.display.HTML object>"
      ]
     },
     "metadata": {},
     "output_type": "display_data"
    },
    {
     "name": "stdout",
     "output_type": "stream",
     "text": [
      "=======================================================================\n",
      "Query: Compare the descriptions of Falcon Secure Bank and Helix Fintech Solutions. What aspects of their operations contribute to one being perceived as having higher transparency and regulatory compliance than the other?\n",
      "=======================================================================\n"
     ]
    },
    {
     "data": {
      "text/html": [
       "<div style='white-space: pre-wrap; word-wrap: break-word;'>- **Operational Model**: \n",
       "  - Falcon Secure Bank operates as a digital-only institution with a strong focus on cybersecurity and rigorous internal audits, suggesting a systematic and reliable approach to security and compliance.\n",
       "  - Helix Fintech Solutions, as a rapidly growing startup, partners with unregulated advisors, which introduces inconsistencies in compliance practices, potentially undermining transparency and regulatory adherence.\n",
       "\n",
       "- **Compliance Practices**: \n",
       "  - Falcon Secure Bank is noted for its strong compliance practices, reflecting a commitment to adhering to regulations and maintaining customer trust.\n",
       "  - Helix Fintech Solutions has been prompted to conduct internal reviews for fraud and mismanagement due to its patchwork of compliance practices, indicating potential vulnerabilities in its operations.\n",
       "\n",
       "- **Reputation and Trust**: \n",
       "  - Falcon Secure Bank has successfully built trust with customers and regulators alike, due to its known history of transparency and strong compliance measures.\n",
       "  - Helix Fintech Solutions faces challenges in maintaining a positive reputation, as the issues related to compliance and potential fraud cast doubt on its integrity.\n",
       "\n",
       "- **Risk Management**: \n",
       "  - Falcon Secure Bank emphasizes rigorous internal audits, which enhance its risk management strategies and customer assurance.\n",
       "  - Helix Fintech Solutions may lack a cohesive risk management framework due to its diverse partnerships with unregulated advisors, leading to increased scrutiny and potential risks of mismanagement.\n",
       "\n",
       "- **Customer Assurance**: \n",
       "  - Falcon Secure Bank’s consistent compliance and transparency promote a sense of security for its customers.\n",
       "  - Helix Fintech Solutions, with its compliance issues, may evoke concerns among clients regarding the safety and management of their funds. \n",
       "\n",
       "Overall, Falcon Secure Bank's structured approach to compliance and security heavily contributes to its reputation for higher transparency and regulatory compliance compared to Helix Fintech Solutions, which is hindered by inconsistent practices and internal challenges.</div>"
      ],
      "text/plain": [
       "<IPython.core.display.HTML object>"
      ]
     },
     "metadata": {},
     "output_type": "display_data"
    },
    {
     "name": "stdout",
     "output_type": "stream",
     "text": [
      "=======================================================================\n"
     ]
    }
   ],
   "source": [
    "from IPython.display import display, HTML\n",
    "responses = []\n",
    "for query in queries:\n",
    "\n",
    "    print(f\"Query: {query}\")\n",
    "    print(\"=======================================================================\")\n",
    "\n",
    "    # Run inference for each query\n",
    "    response = inference(query,prompt_styles[3])\n",
    "\n",
    "    # To display it as wrapped HTML\n",
    "    display(HTML(f\"<div style='white-space: pre-wrap; word-wrap: break-word;'>{response}</div>\"))\n",
    "    print(\"=======================================================================\")"
   ]
  },
  {
   "cell_type": "markdown",
   "metadata": {},
   "source": [
    "## Responses based on \"chat_ml\" prompt style"
   ]
  },
  {
   "cell_type": "code",
   "execution_count": 15,
   "metadata": {},
   "outputs": [
    {
     "name": "stdout",
     "output_type": "stream",
     "text": [
      "Query: Tell me about Cascade Capital Management?\n",
      "=======================================================================\n"
     ]
    },
    {
     "data": {
      "text/html": [
       "<div style='white-space: pre-wrap; word-wrap: break-word;'>Cascade Capital Management is a venture capital firm that focuses on investments in the technology sector. The firm has experienced significant growth; however, its operational model relies heavily on a complex web of subsidiary shell companies. This intricate structure has raised regulatory concerns, particularly regarding issues of transparency and compliance with applicable laws and regulations. The reliance on such a network of subsidiaries may complicate oversight efforts and create challenges in tracing financial transactions and ownership, which can potentially lead to increased scrutiny from regulatory bodies.</div>"
      ],
      "text/plain": [
       "<IPython.core.display.HTML object>"
      ]
     },
     "metadata": {},
     "output_type": "display_data"
    },
    {
     "name": "stdout",
     "output_type": "stream",
     "text": [
      "=======================================================================\n",
      "Query: Which organizations show signs of potential money laundering through complex structures?\n",
      "=======================================================================\n"
     ]
    },
    {
     "data": {
      "text/html": [
       "<div style='white-space: pre-wrap; word-wrap: break-word;'>Based on the provided context, two organizations exhibit signs of potential money laundering through complex structures:\n",
       "\n",
       "1. **Cascade Capital Management**: This firm, which specializes in tech investments, has grown rapidly and relies on a complex network of subsidiary shell companies. The use of a complicated corporate structure raises concerns regarding transparency and compliance, indicating potential efforts to obscure illicit activities, such as money laundering.\n",
       "\n",
       "2. **Aurora Financial Services**: While not specifically described as having a complex structure, Aurora Financial Services has recorded an unusually high volume of cross-border transactions with opaque justifications. This activity can suggest attempts to disguise the origins of funds or the actual intent behind the transactions, which is often associated with money laundering schemes.\n",
       "\n",
       "In summary, both Cascade Capital Management and Aurora Financial Services show signs of potential money laundering, with Cascade Capital exhibiting risks related to its complex corporate structure and Aurora Financial Services being flagged for its unusual transaction volume and lack of transparency.</div>"
      ],
      "text/plain": [
       "<IPython.core.display.HTML object>"
      ]
     },
     "metadata": {},
     "output_type": "display_data"
    },
    {
     "name": "stdout",
     "output_type": "stream",
     "text": [
      "=======================================================================\n",
      "Query: What irregular transaction patterns are identified for Aurora Financial Services, and why do these raise concerns about potential money laundering?\n",
      "=======================================================================\n"
     ]
    },
    {
     "data": {
      "text/html": [
       "<div style='white-space: pre-wrap; word-wrap: break-word;'>Aurora Financial Services has been flagged for an unusually high volume of cross-border transactions that are accompanied by opaque justifications. This pattern raises concerns about potential money laundering for several reasons:\n",
       "\n",
       "1. **High Volume of Transactions**: The unusually high volume of cross-border transactions could indicate attempts to move large amounts of money quickly across borders, a common tactic used in money laundering schemes to obfuscate the origins of funds.\n",
       "\n",
       "2. **Opaque Justifications**: The lack of clear and transparent explanations for these transactions raises red flags. In legitimate business practices, cross-border transactions typically have well-documented justifications that can be easily traced and understood. Opaqueness in justification suggests that there may be an attempt to disguise the true nature or purpose of the transactions.\n",
       "\n",
       "3. **Potential for Structuring**: A high volume of transactions might indicate structuring (also known as smurfing), where large amounts of money are broken down into smaller, less suspicious amounts to evade detection. This tactic is frequently employed in money laundering to avoid triggering reporting thresholds.\n",
       "\n",
       "4. **Regulatory and Compliance Concerns**: Financial institutions are required to maintain stringent compliance with anti-money laundering (AML) regulations. The patterns observed at Aurora Financial Services suggest a deviation from expected norms, prompting the need for further investigation to ensure compliance with these regulations.\n",
       "\n",
       "In conclusion, the identified irregular transaction patterns at Aurora Financial Services (high volume of cross-border transactions with unclear justifications) raise significant concerns about potential money laundering activities, warranting closer scrutiny by compliance analysts and regulators.</div>"
      ],
      "text/plain": [
       "<IPython.core.display.HTML object>"
      ]
     },
     "metadata": {},
     "output_type": "display_data"
    },
    {
     "name": "stdout",
     "output_type": "stream",
     "text": [
      "=======================================================================\n",
      "Query: How do the described transaction patterns of Blue Horizon Investments hint at possible insider trading or market manipulation?\n",
      "=======================================================================\n"
     ]
    },
    {
     "data": {
      "text/html": [
       "<div style='white-space: pre-wrap; word-wrap: break-word;'>The transaction patterns observed at Blue Horizon Investments suggest potential insider trading or market manipulation based on several key indicators:\n",
       "\n",
       "1. **Irregular Transaction Patterns**: The mention of \"irregular transaction patterns\" indicates that the trading activities do not align with typical market behavior. This could manifest as unusual spikes in trading volume or atypical buy/sell ratios that deviate from standard trading norms, raising suspicions of collusion or trading based on privileged information.\n",
       "\n",
       "2. **Rapid Fund Movements**: The rapid and unexplained movements of funds imply that there may be a lack of transparency in how investment decisions are being made. Such swift transfers can sometimes indicate that individuals are attempting to capitalize on non-public information, which is a hallmark of insider trading. If funds are consistently moved just before major market announcements, it may suggest foreknowledge of those announcements.\n",
       "\n",
       "3. **Timing of Trades**: If transactions are timed closely around significant corporate events (such as earnings announcements, mergers, or acquisitions), it raises the possibility of insider trading. Market manipulation could also be a factor if the firm is trying to artificially inflate or deflate stock prices based on these trades.\n",
       "\n",
       "4. **Lack of Clear Justification**: The lack of explanations regarding why certain transactions are taking place can exacerbate concerns. Investors typically expect to see rational reasoning behind changes in trading behavior, so a lack of clarity can lead to further scrutiny and speculation about illicit activity.\n",
       "\n",
       "5. **Regulatory Concerns**: The raised concerns regarding insider trading and manipulation signal that regulators are paying close attention to Blue Horizon Investments. Frequent regulatory inquiries or compliance checks can indicate that previous practices may have raised red flags, warranting more extensive investigation into whether insider trading or manipulative tactics are indeed taking place.\n",
       "\n",
       "In summary, Blue Horizon Investments' irregular transaction patterns and rapid fund movements correspond to behaviors often associated with insider trading and market manipulation, warranting further investigation to ensure compliance with financial regulations and maintain market integrity.</div>"
      ],
      "text/plain": [
       "<IPython.core.display.HTML object>"
      ]
     },
     "metadata": {},
     "output_type": "display_data"
    },
    {
     "name": "stdout",
     "output_type": "stream",
     "text": [
      "=======================================================================\n",
      "Query: Compare the descriptions of Falcon Secure Bank and Helix Fintech Solutions. What aspects of their operations contribute to one being perceived as having higher transparency and regulatory compliance than the other?\n",
      "=======================================================================\n"
     ]
    },
    {
     "data": {
      "text/html": [
       "<div style='white-space: pre-wrap; word-wrap: break-word;'>The descriptions of Falcon Secure Bank and Helix Fintech Solutions highlight several key aspects that contribute to the perception of higher transparency and regulatory compliance in Falcon Secure Bank compared to Helix Fintech Solutions.\n",
       "\n",
       "1. **Operational Structure**:\n",
       "   - **Falcon Secure Bank** is described as a digital-only institution that emphasizes cutting-edge cybersecurity and rigorous internal audits. This operational structure suggests a strong commitment to securing client data and ensuring that internal processes are continuously scrutinized for compliance with regulatory standards. The emphasis on rigorous internal audits indicates a proactive approach to identifying and mitigating compliance risks.\n",
       "   - In contrast, **Helix Fintech Solutions** is characterized as a rapidly growing startup that partners with numerous unregulated advisors. This approach can lead to a fragmented compliance framework, where the varying standards of unregulated partners may undermine overall regulatory compliance and transparency. The mention of a \"patchwork of compliance practices\" suggests a lack of cohesive and robust compliance measures.\n",
       "\n",
       "2. **Compliance Practices**:\n",
       "   - Falcon Secure Bank is noted for its \"strong compliance practices,\" which is a direct indicator of adherence to regulatory expectations and the establishment of a trustworthy business model. Such practices could include regular compliance training for employees, the use of compliance technology, and clear protocols for addressing compliance issues.\n",
       "   - Helix Fintech Solutions, on the other hand, is undergoing internal reviews for \"potential fraud and mismanagement of client funds.\" The necessity for these reviews implies that the company is currently facing significant compliance challenges that could potentially harm its credibility and operational effectiveness. \n",
       "\n",
       "3. **Reputation and Trust**:\n",
       "   - Falcon Secure Bank has earned \"the trust of its customers and regulators alike,\" illustrating a reputation built on reliability and compliance. Institutions with high transparency often cultivate positive relationships with both clients and regulatory bodies, which can be instrumental in building a sustainable business.\n",
       "   - Conversely, Helix Fintech Solutions, while a growing entity, is facing scrutiny and potential reputational risk due to concerns about fraud and mismanagement. This situation may hinder its ability to gain trust from both customers and regulators, affecting its overall perception in the market.\n",
       "\n",
       "4. **Ethical Standards**:\n",
       "   - The description of Falcon Secure Bank implies that its practices are tightly aligned with ethical standards, reinforcing its commitment to compliance and transparency.\n",
       "   - Although Helix Fintech Solutions is a startup in a dynamic industry, its choice to partner with unregulated advisors might raise ethical questions and concerns among stakeholders about the integrity of its operations.\n",
       "\n",
       "In summary, the primary aspects that contribute to Falcon Secure Bank being perceived as having higher transparency and regulatory compliance compared to Helix Fintech Solutions include its structured internal audits, established compliance practices, positive reputation, and commitment to ethical standards. In contrast, Helix Fintech Solutions' fragmented compliance approach and ongoing reviews for potential fraud reflect vulnerabilities that undermine its compliance standing.</div>"
      ],
      "text/plain": [
       "<IPython.core.display.HTML object>"
      ]
     },
     "metadata": {},
     "output_type": "display_data"
    },
    {
     "name": "stdout",
     "output_type": "stream",
     "text": [
      "=======================================================================\n"
     ]
    }
   ],
   "source": [
    "from IPython.display import display, HTML\n",
    "responses = []\n",
    "for query in queries:\n",
    "\n",
    "    print(f\"Query: {query}\")\n",
    "    print(\"=======================================================================\")\n",
    "\n",
    "    # Run inference for each query\n",
    "    response = inference(query,prompt_styles[4])\n",
    "\n",
    "    # To display it as wrapped HTML\n",
    "    display(HTML(f\"<div style='white-space: pre-wrap; word-wrap: break-word;'>{response}</div>\"))\n",
    "    print(\"=======================================================================\")"
   ]
  },
  {
   "cell_type": "markdown",
   "metadata": {},
   "source": [
    "## Scalable Data Pipeline: Production-Grade Enhancements\n",
    "\n",
    "While our current pipeline successfully processes a moderate dataset, it has several limitations for large-scale, production-level use. Below are the key drawbacks of the current approach compared to a proposed, more scalable solution.\n",
    "\n",
    "### Drawbacks of the Current Approach\n",
    "\n",
    "1. **Memory Limitation**\n",
    "   - The current implementation uses a streaming method for parsing; however, any operation that attempts to load large files entirely into memory can create bottlenecks.\n",
    "\n",
    "2. **Scalability Issues in Embedding**\n",
    "   - Embedding all documents at once using `model.encode(corpus)` leads to:\n",
    "     - **High Memory Usage:** Processing large datasets in a single batch is memory intensive.\n",
    "     - **Slow Startup Times:** Repeated loading of the embedding model for large batches adversely impacts performance.\n",
    "\n",
    "3. **Index Management**\n",
    "   - **Current FAISS Index (IndexFlatL2):**\n",
    "     - Does not support incremental updates efficiently.\n",
    "     - Requires rebuilding the index on every application restart due to lack of persistence.\n",
    "     - Lacks sophisticated querying capabilities (e.g., metadata filtering).\n",
    "\n",
    "4. **Data Persistence**\n",
    "   - The in-memory mapping (`id_to_doc`) is not stored persistently, requiring the index and mappings to be rebuilt on every run.\n",
    "\n",
    "### Proposed Scalable Production Pipeline\n",
    "\n",
    "To overcome these limitations, the following production-grade, scalable solution is recommended:\n",
    "\n",
    "1. **Data Streaming and Chunking**\n",
    "   - Process the input file in smaller chunks or line-by-line to avoid memory bottlenecks.\n",
    "   - Store parsed documents in a structured format (e.g., JSONL or a dedicated database) for incremental processing.\n",
    "\n",
    "2. **Embedding Management**\n",
    "   - Implement batch embedding to conserve memory and allow incremental indexing.\n",
    "   - Embed documents in smaller batches and update the FAISS index progressively.\n",
    "\n",
    "3. **Efficient FAISS Indexing**\n",
    "   - Switch from `IndexFlatL2` to a more advanced index type like `IndexIVFFlat` or `IndexHNSWFlat` to handle large-scale datasets.\n",
    "   - Persist the FAISS index to disk for quick reloading, avoiding complete rebuilds with each restart.\n",
    "\n",
    "4. **Persistent Storage for Metadata**\n",
    "   - Use a persistent storage solution (e.g., SQLite, MongoDB, or Redis) to maintain document metadata and `id_to_doc` mappings.\n",
    "   - This approach supports incremental updates and provides a restart-friendly environment.\n",
    "\n",
    "### Benefits of the Proposed Pipeline\n",
    "\n",
    "- **Scalable Data Handling:**  \n",
    "  Processes documents incrementally, thereby efficiently managing memory and compute resources.\n",
    "\n",
    "- **Persistent Storage:**  \n",
    "  Both the FAISS index and document metadata are saved to disk, eliminating the need for frequent re-indexing.\n",
    "\n",
    "- **Optimized Query Performance:**  \n",
    "  Advanced FAISS index types and persistent metadata enable faster, more robust query handling with filtering options.\n",
    "\n",
    "- **Production Readiness:**  \n",
    "  The scalable architecture is designed to handle real-world workloads, ensuring better performance, maintainability, and robustness.\n",
    "\n",
    "This enhanced pipeline significantly improves scalability and efficiency, paving the way for deployment in production-level environments."
   ]
  },
  {
   "cell_type": "code",
   "execution_count": 8,
   "metadata": {},
   "outputs": [
    {
     "name": "stderr",
     "output_type": "stream",
     "text": [
      "/Users/theowner/Documents/GitHub/Hawk-Submission/.venv/lib/python3.13/site-packages/tqdm/auto.py:21: TqdmWarning: IProgress not found. Please update jupyter and ipywidgets. See https://ipywidgets.readthedocs.io/en/stable/user_install.html\n",
      "  from .autonotebook import tqdm as notebook_tqdm\n"
     ]
    }
   ],
   "source": [
    "\"\"\"\n",
    "Production-ready implementation of document indexing and querying using FAISS, SentenceTransformers,\n",
    "and SQLite for metadata storage.\n",
    "\"\"\"\n",
    "\n",
    "import os\n",
    "import re\n",
    "from typing import Any, Dict, List, Tuple\n",
    "\n",
    "import numpy as np\n",
    "import faiss\n",
    "import sqlite3\n",
    "from dotenv import load_dotenv\n",
    "from sentence_transformers import SentenceTransformer\n",
    "\n",
    "# Load environment variables\n",
    "load_dotenv(dotenv_path=\"../.env\")\n",
    "\n",
    "# Constants loaded from environment\n",
    "FILE_PATH = os.getenv(\"FILE_PATH\")\n",
    "MODEL_NAME = \"BAAI/bge-small-en-v1.5\"\n",
    "INDEX_PATH = \"faiss_index.bin\"\n",
    "DB_PATH = \"documents.db\"\n",
    "\n",
    "\n",
    "# ---------------------- Data Loading and Preprocessing ---------------------- #\n",
    "\n",
    "def load_and_preprocess_data(file_path: str) -> List[Dict[str, Any]]:\n",
    "    \"\"\"Load and preprocess the dataset by streaming from file.\"\"\"\n",
    "    documents = []\n",
    "    with open(file_path, \"r\", encoding=\"utf-8\") as file:\n",
    "        buffer = \"\"\n",
    "        for line in file:\n",
    "            if line.startswith(\"Document \") and buffer:\n",
    "                doc = parse_document(buffer)\n",
    "                if doc:\n",
    "                    documents.append(doc)\n",
    "                buffer = \"\"\n",
    "            buffer += line\n",
    "        if buffer:\n",
    "            doc = parse_document(buffer)\n",
    "            if doc:\n",
    "                documents.append(doc)\n",
    "    return documents\n",
    "\n",
    "\n",
    "def parse_document(raw_document: str) -> Dict[str, Any]:\n",
    "    \"\"\"Parse a single raw document from the given text.\"\"\"\n",
    "    pattern = r\"Document (\\d+): (.*?)\\nDescription:\\n(.*)\"\n",
    "    match = re.match(pattern, raw_document, re.DOTALL)\n",
    "    if match:\n",
    "        doc_id, title, text = match.groups()\n",
    "        return {\n",
    "            \"doc_id\": int(doc_id),\n",
    "            \"title\": title.strip(),\n",
    "            \"text\": text.strip(),\n",
    "        }\n",
    "    return {}\n",
    "\n",
    "\n",
    "# ---------------------- Text Embedding ---------------------- #\n",
    "\n",
    "def embed_texts(documents: List[Dict[str, Any]], model_name: str = MODEL_NAME) -> np.ndarray:\n",
    "    \"\"\"Embed texts using SentenceTransformer in batches.\"\"\"\n",
    "    model = SentenceTransformer(model_name)\n",
    "    \n",
    "    corpus = [f\"{doc['title']}: {doc['text']}\" for doc in documents]\n",
    "    embeddings = model.encode(corpus, batch_size=64, show_progress_bar=True)\n",
    "    return np.array(embeddings, dtype=np.float32)\n",
    "    # return np.vstack(embeddings).astype(np.float32)\n",
    "\n",
    "\n",
    "# ---------------------- FAISS Index Management ---------------------- #\n",
    "\n",
    "def create_faiss_index(force_recreate: bool = False) -> Tuple[faiss.Index, Dict[int, Dict[str, Any]]]:\n",
    "    \"\"\"Create or load a FAISS index and metadata.\"\"\"\n",
    "    if not FILE_PATH:\n",
    "        raise ValueError(\"FILE_PATH environment variable is not set.\")\n",
    "\n",
    "    documents = load_and_preprocess_data(FILE_PATH)\n",
    "    embeddings = embed_texts(documents)\n",
    "\n",
    "    dimension = embeddings.shape[1]\n",
    "\n",
    "    if force_recreate or not os.path.exists(INDEX_PATH):\n",
    "        index = faiss.IndexHNSWFlat(dimension, 32)\n",
    "        index.hnsw.efConstruction = 40\n",
    "        index.add(embeddings)\n",
    "        faiss.write_index(index, INDEX_PATH)\n",
    "        print(f\"FAISS index created with {len(documents)} documents and saved to {INDEX_PATH}.\")\n",
    "\n",
    "        store_metadata(documents)\n",
    "    else:\n",
    "        index = faiss.read_index(INDEX_PATH)\n",
    "        print(f\"FAISS index loaded from {INDEX_PATH}.\")\n",
    "\n",
    "    id_to_doc = {idx: doc for idx, doc in enumerate(documents)}\n",
    "    return index, id_to_doc\n",
    "\n",
    "\n",
    "# ---------------------- Metadata Management ---------------------- #\n",
    "\n",
    "def store_metadata(documents: List[Dict[str, Any]]) -> None:\n",
    "    \"\"\"Store document metadata in SQLite.\"\"\"\n",
    "    with sqlite3.connect(DB_PATH) as conn:\n",
    "        cursor = conn.cursor()\n",
    "        cursor.execute(\"DROP TABLE IF EXISTS documents\")\n",
    "        cursor.execute(\"\"\"\n",
    "            CREATE TABLE documents (\n",
    "                id INTEGER PRIMARY KEY AUTOINCREMENT,\n",
    "                doc_id INTEGER,\n",
    "                title TEXT,\n",
    "                text TEXT\n",
    "            )\n",
    "        \"\"\")\n",
    "        cursor.executemany(\"\"\"\n",
    "            INSERT INTO documents (doc_id, title, text)\n",
    "            VALUES (?, ?, ?)\n",
    "        \"\"\", [(doc['doc_id'], doc['title'], doc['text']) for doc in documents])\n",
    "\n",
    "        conn.commit()\n",
    "\n",
    "\n",
    "# ---------------------- Search and Retrieval ---------------------- #\n",
    "\n",
    "def search_query(query: str, index: faiss.Index, model: SentenceTransformer, top_k: int = 5) -> List[int]:\n",
    "    \"\"\"Search FAISS index for the most relevant documents.\"\"\"\n",
    "    query_embedding = model.encode([query], normalize_embeddings=True).astype(np.float32)\n",
    "    _, indices = index.search(query_embedding, top_k)\n",
    "    return indices[0].tolist()\n",
    "\n",
    "\n",
    "def retrieve_document(doc_idx: int) -> Dict[str, Any]:\n",
    "    \"\"\"Retrieve document details from the database by index.\"\"\"\n",
    "    with sqlite3.connect(DB_PATH) as conn:\n",
    "        cursor = conn.cursor()\n",
    "        cursor.execute(\"SELECT doc_id, title, text FROM documents WHERE id=?\", (doc_idx + 1,))\n",
    "        result = cursor.fetchone()\n",
    "        return {\"doc_id\": result[0], \"title\": result[1], \"text\": result[2]} if result else {}\n"
   ]
  },
  {
   "cell_type": "code",
   "execution_count": 17,
   "metadata": {},
   "outputs": [
    {
     "name": "stderr",
     "output_type": "stream",
     "text": [
      "Batches: 100%|██████████| 1/1 [00:00<00:00, 37.97it/s]"
     ]
    },
    {
     "name": "stdout",
     "output_type": "stream",
     "text": [
      "FAISS index created with 12 documents and saved to faiss_index.bin.\n"
     ]
    },
    {
     "name": "stderr",
     "output_type": "stream",
     "text": [
      "\n"
     ]
    }
   ],
   "source": [
    "# ---------------------- Main Execution (for Testing) ---------------------- #\n",
    "transformer_model = SentenceTransformer(MODEL_NAME)\n",
    "faiss_index, metadata = create_faiss_index(force_recreate=True)"
   ]
  },
  {
   "cell_type": "code",
   "execution_count": 18,
   "metadata": {},
   "outputs": [],
   "source": [
    "queries2 = [\n",
    "\"Tell me about Falcon Secure Bank?\",\n",
    "\"Which organizations show signs of potential money laundering through complex structures?\",\n",
    "\"What irregular transaction patterns are identified for Aurora Financial Services, and why do these raise concerns about potential money laundering?\",\n",
    "]"
   ]
  },
  {
   "cell_type": "code",
   "execution_count": 19,
   "metadata": {},
   "outputs": [
    {
     "name": "stdout",
     "output_type": "stream",
     "text": [
      "Document ID: 8, Title: Falcon Secure Bank\n",
      "Document ID: 1, Title: Aurora Financial Services\n",
      "Document ID: 6, Title: Helix Fintech Solutions\n",
      "Document ID: 5, Title: Gemini Asset Management\n",
      "Document ID: 11, Title: Kepler Financial Innovations\n"
     ]
    }
   ],
   "source": [
    "sample_query = queries2[0]\n",
    "top_indices = search_query(sample_query, faiss_index, transformer_model, top_k=5)\n",
    "\n",
    "for idx in top_indices:\n",
    "    doc = retrieve_document(idx)\n",
    "    print(f\"Document ID: {doc['doc_id']}, Title: {doc['title']}\")"
   ]
  },
  {
   "cell_type": "code",
   "execution_count": 20,
   "metadata": {},
   "outputs": [
    {
     "name": "stdout",
     "output_type": "stream",
     "text": [
      "Description: Falcon Secure Bank is a digital-only institution acclaimed for its cutting-edge cybersecurity and rigorous internal audits. The bank consistently demonstrates strong compliance practices and transparent operations, earning the trust of its customers and regulators alike.\n",
      "Description: Aurora Financial Services, headquartered in New York, is a mid-sized firm that recently recorded an unusually high volume of cross-border transactions with opaque justifications. Analysts have flagged these patterns as potential attempts to obscure money laundering activities.\n",
      "Description: Helix Fintech Solutions is a rapidly growing startup in the financial technology space. Its strategy of partnering with numerous unregulated advisors has resulted in a patchwork of compliance practices, prompting internal reviews for potential fraud and mismanagement of client funds.\n",
      "Description: Serving high-net-worth clients in Asia, Gemini Asset Management has recently been spotlighted for unusually high commissions and inconsistent portfolio reporting. These anomalies have sparked concerns over potential money laundering and fraudulent practices.\n",
      "Description: Kepler Financial Innovations is renowned for its ethical practices and state-of-the-art risk management. With a focus on transparency and regulatory compliance, the firm has built a reputation as a trusted player in the financial market.\n"
     ]
    }
   ],
   "source": [
    "for idx in top_indices:\n",
    "    doc = retrieve_document(idx)\n",
    "    print(f\"Description: {doc['text']}\")"
   ]
  }
 ],
 "metadata": {
  "kernelspec": {
   "display_name": ".venv",
   "language": "python",
   "name": "python3"
  },
  "language_info": {
   "codemirror_mode": {
    "name": "ipython",
    "version": 3
   },
   "file_extension": ".py",
   "mimetype": "text/x-python",
   "name": "python",
   "nbconvert_exporter": "python",
   "pygments_lexer": "ipython3",
   "version": "3.13.0"
  }
 },
 "nbformat": 4,
 "nbformat_minor": 2
}
