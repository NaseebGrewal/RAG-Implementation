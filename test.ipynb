{
 "cells": [
  {
   "cell_type": "markdown",
   "metadata": {},
   "source": [
    "## To Implement Memroy for RAG System -- Need to do more testing"
   ]
  },
  {
   "cell_type": "code",
   "execution_count": null,
   "metadata": {},
   "outputs": [],
   "source": [
    "from typing import List, Tuple\n",
    "\n",
    "# Global conversation history\n",
    "conversation_history: List[Tuple[str, str]] = []\n",
    "\n",
    "def inference_with_memory(\n",
    "    query: str,\n",
    "    index: faiss.Index,\n",
    "    id_to_docs: Dict[int, Dict[str, Any]],\n",
    "    memory: List[Tuple[str, str]] = conversation_history,\n",
    "    top_k: int = 5\n",
    ") -> str:\n",
    "    \"\"\"\n",
    "    Inference function with memory support to simulate conversation history.\n",
    "\n",
    "    Args:\n",
    "        query (str): The current user query.\n",
    "        index (faiss.Index): FAISS index for document retrieval.\n",
    "        id_to_docs (Dict): Mapping from FAISS index to documents.\n",
    "        model (SentenceTransformer): Preloaded embedding model.\n",
    "        memory (List[Tuple[str, str]]): Previous (query, response) pairs.\n",
    "        top_k (int): Number of top relevant docs to retrieve.\n",
    "\n",
    "    Returns:\n",
    "        str: LLM-generated response.\n",
    "    \"\"\"\n",
    "    # Step 1: Retrieve context\n",
    "    context_list = search_query(index, id_to_docs, query)\n",
    "    context_str = \"\\n\\n\".join(context_list)\n",
    "\n",
    "    # Step 2: Build history as part of prompt\n",
    "    history_prompt = \"\"\n",
    "    for past_query, past_response in memory:\n",
    "        history_prompt += f\"Previous Question: {past_query}\\nPrevious Answer: {past_response}\\n\\n\"\n",
    "\n",
    "    # Step 3: Build the full prompt\n",
    "    full_prompt = (\n",
    "        history_prompt +\n",
    "        build_prompt(query, context_str)\n",
    "    )\n",
    "\n",
    "    # Step 4: Call the LLM\n",
    "    response = call_mistral_hf(full_prompt)\n",
    "\n",
    "    # Step 5: Save this interaction in memory\n",
    "    memory.append((query, response))\n",
    "\n",
    "    return response\n"
   ]
  },
  {
   "cell_type": "code",
   "execution_count": null,
   "metadata": {},
   "outputs": [],
   "source": [
    "# First query\n",
    "response1 = inference_with_memory(\"Tell me about Mejia and Sons?\", index, id_to_docs)\n",
    "print(response1)\n",
    "\n",
    "# Second query with memory retained\n",
    "response2 = inference_with_memory(\"What else do you know about the firm?\", index, id_to_docs)\n",
    "print(response2)"
   ]
  }
 ],
 "metadata": {
  "kernelspec": {
   "display_name": ".venv",
   "language": "python",
   "name": "python3"
  },
  "language_info": {
   "name": "python",
   "version": "3.13.0"
  }
 },
 "nbformat": 4,
 "nbformat_minor": 2
}
